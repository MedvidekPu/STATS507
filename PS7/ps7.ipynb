{
 "cells": [
  {
   "cell_type": "code",
   "execution_count": 460,
   "id": "e4705631",
   "metadata": {
    "deletable": false,
    "editable": false
   },
   "outputs": [],
   "source": [
    "# Initialize Otter\n",
    "import otter\n",
    "grader = otter.Notebook(\"ps7.ipynb\")"
   ]
  },
  {
   "cell_type": "markdown",
   "id": "7f995263",
   "metadata": {},
   "source": [
    "# PS7: Regular expressions\n",
    "In this problem set set you will get some basic practice using regular expressions. In Python the regular expressions module is called `re`:"
   ]
  },
  {
   "cell_type": "code",
   "execution_count": 461,
   "id": "db59433f",
   "metadata": {},
   "outputs": [],
   "source": [
    "import re"
   ]
  },
  {
   "cell_type": "markdown",
   "id": "62e37b71",
   "metadata": {},
   "source": [
    "## Queston 1: Matching words\n",
    "We'll practice on the file `words.txt.gz` included with the problem set."
   ]
  },
  {
   "cell_type": "markdown",
   "id": "ead7773c",
   "metadata": {},
   "source": [
    "**1(a)** (2 pts) Read the file, so that you have a list of strings, one for each word. Save this list as `words`."
   ]
  },
  {
   "cell_type": "code",
   "execution_count": 462,
   "id": "ddee3fa4",
   "metadata": {
    "tags": []
   },
   "outputs": [],
   "source": [
    "import gzip\n",
    "\n",
    "words = [word.strip() for word in gzip.open(\"words.txt.gz\", \"rt\")]"
   ]
  },
  {
   "cell_type": "code",
   "execution_count": 463,
   "id": "3df5d6e8",
   "metadata": {
    "deletable": false,
    "editable": false
   },
   "outputs": [
    {
     "data": {
      "text/html": [
       "<p><strong><pre style='display: inline;'>q1a</pre></strong> passed!</p>"
      ],
      "text/plain": [
       "q1a results: All test cases passed!"
      ]
     },
     "execution_count": 463,
     "metadata": {},
     "output_type": "execute_result"
    }
   ],
   "source": [
    "grader.check(\"q1a\")"
   ]
  },
  {
   "cell_type": "markdown",
   "id": "cdd5927a",
   "metadata": {},
   "source": [
    "**1(b)** (2 pts) Write a regular expression that matches any three consecutive vowels, and use it to produce a list named `three_vowels` of all such words that occur in this data set."
   ]
  },
  {
   "cell_type": "code",
   "execution_count": 464,
   "id": "ef6f3901",
   "metadata": {},
   "outputs": [],
   "source": [
    "regex = r'[aeiou]{3}'\n",
    "three_vowels = [word for word in words if re.match(regex, word.lower())]"
   ]
  },
  {
   "cell_type": "code",
   "execution_count": 465,
   "id": "c6b80277",
   "metadata": {
    "deletable": false,
    "editable": false
   },
   "outputs": [
    {
     "data": {
      "text/html": [
       "<p><strong><pre style='display: inline;'>q1b</pre></strong> passed!</p>"
      ],
      "text/plain": [
       "q1b results: All test cases passed!"
      ]
     },
     "execution_count": 465,
     "metadata": {},
     "output_type": "execute_result"
    }
   ],
   "source": [
    "grader.check(\"q1b\")"
   ]
  },
  {
   "cell_type": "markdown",
   "id": "7f346d1d",
   "metadata": {},
   "source": [
    "**1(c)** (2 pts) Write a regular expression that a single word containing an even number (greater than `0`) of the letter `e`, and use it to produce a list named `even_e` of all such words in the data set."
   ]
  },
  {
   "cell_type": "code",
   "execution_count": 466,
   "id": "28584a57",
   "metadata": {
    "tags": []
   },
   "outputs": [],
   "source": [
    "even_e = [word for word in words if len(re.findall('e', word.lower())) % 2 == 0 and 'e' in word]"
   ]
  },
  {
   "cell_type": "code",
   "execution_count": 467,
   "id": "9e7443e0",
   "metadata": {
    "deletable": false,
    "editable": false
   },
   "outputs": [
    {
     "data": {
      "text/html": [
       "<p><strong><pre style='display: inline;'>q1c</pre></strong> passed!</p>"
      ],
      "text/plain": [
       "q1c results: All test cases passed!"
      ]
     },
     "execution_count": 467,
     "metadata": {},
     "output_type": "execute_result"
    }
   ],
   "source": [
    "grader.check(\"q1c\")"
   ]
  },
  {
   "cell_type": "markdown",
   "id": "dd37d775",
   "metadata": {},
   "source": [
    "**1(d)** (2 pts) Write a regular expression that matches any string that begins and ends with a consonant, and has no consonants in between. Your answer should be a string named `consonants_begin_end`."
   ]
  },
  {
   "cell_type": "code",
   "execution_count": 468,
   "id": "d664dd71",
   "metadata": {
    "tags": []
   },
   "outputs": [],
   "source": [
    "consonants_begin_end = r'^[^aeiou][^bcdfghjklmnpqrstvwxyz]*[^aeiou]$'"
   ]
  },
  {
   "cell_type": "code",
   "execution_count": 469,
   "id": "2b683144",
   "metadata": {
    "deletable": false,
    "editable": false
   },
   "outputs": [
    {
     "data": {
      "text/html": [
       "<p><strong><pre style='display: inline;'>q1d</pre></strong> passed!</p>"
      ],
      "text/plain": [
       "q1d results: All test cases passed!"
      ]
     },
     "execution_count": 469,
     "metadata": {},
     "output_type": "execute_result"
    }
   ],
   "source": [
    "grader.check(\"q1d\")"
   ]
  },
  {
   "cell_type": "markdown",
   "id": "c7185f51",
   "metadata": {},
   "source": [
    "**1(e)** (2 pts) Write a regular expression that matches any word *at least four letters long* whose last two letters are the first two letters in reverse order, and use it to produce a list named `fwd_2_rev` of all such words in the dataset. (An example of such a word is `cardiac`.)"
   ]
  },
  {
   "cell_type": "code",
   "execution_count": 470,
   "id": "7be4be04",
   "metadata": {
    "tags": []
   },
   "outputs": [],
   "source": [
    "regex = r'^(?=(.)(.))(?=.*\\2\\1$)(?=[a-zA-Z]{4})'\n",
    "fwd_2_rev = [word for word in words if re.search(regex,word.lower())]"
   ]
  },
  {
   "cell_type": "code",
   "execution_count": 471,
   "id": "bfc9a9b7",
   "metadata": {
    "deletable": false,
    "editable": false
   },
   "outputs": [
    {
     "data": {
      "text/html": [
       "<p><strong><pre style='display: inline;'>q1e</pre></strong> passed!</p>"
      ],
      "text/plain": [
       "q1e results: All test cases passed!"
      ]
     },
     "execution_count": 471,
     "metadata": {},
     "output_type": "execute_result"
    }
   ],
   "source": [
    "grader.check(\"q1e\")"
   ]
  },
  {
   "cell_type": "markdown",
   "id": "418c841a",
   "metadata": {},
   "source": [
    "## Question 2: Filtering Internet traffic\n",
    "In this problem, you'll get a taste of a more realistic application of\n",
    "regular expressions. The file `SkypeIRC.txt.gz` contains a capture of Internet traffic generated\n",
    "by a laptop while it was running the program Skype. Each line represents a single \"packet\" of data that was either sent or received by the machine."
   ]
  },
  {
   "cell_type": "markdown",
   "id": "c43f2fca",
   "metadata": {},
   "source": [
    "The first line of the file is:\n",
    "```\n",
    "    1   0.000000  192.168.1.2 → 212.204.214.114 IRC 96 Request (ISON)\n",
    "```\n",
    "The first two fields are a counter and timestamp indicating the total number of packets captured so far, and the time (in seconds) that has elapsed since the capture was initiated. Following that, `192.168.1.2 → 212.204.214.114` indicates that the packet was being sent from the [IP address](https://en.wikipedia.org/wiki/IP_address) `192.168.1.2` to `212.204.214.114`. The remainder of the line is a description of the packet contents, which varies from packet to packet."
   ]
  },
  {
   "cell_type": "markdown",
   "id": "01797852",
   "metadata": {},
   "source": [
    "**2(a)** (2 pts) Construct a regular expression named `zero_to_255` that matches a single line containing a between 0 and 255, inclusive. Numbers with leading zeros should not match (except for 0 itself), so \"40\" should match, but \"040\" should not. We will surround your regular expression with the anchors \"^\" and \"$\" when testing; you do not need to include them."
   ]
  },
  {
   "cell_type": "code",
   "execution_count": 472,
   "id": "ed548e9b",
   "metadata": {
    "tags": []
   },
   "outputs": [],
   "source": [
    "skype = [packet.strip() for packet in gzip.open(\"SkypeIRC.txt.gz\", \"rt\", encoding='utf-8')]\n",
    "\n",
    "zero_to_255 = r'([0-9]|[1-9][0-9]|1[0-9][0-9]|2[0-4][0-9]|25[0-5])' # 0-9, 10-99, 100-199, 200-249, 250-255"
   ]
  },
  {
   "cell_type": "code",
   "execution_count": 473,
   "id": "6962cdde",
   "metadata": {
    "deletable": false,
    "editable": false
   },
   "outputs": [
    {
     "data": {
      "text/html": [
       "<p><strong><pre style='display: inline;'>q2a</pre></strong> passed!</p>"
      ],
      "text/plain": [
       "q2a results: All test cases passed!"
      ]
     },
     "execution_count": 473,
     "metadata": {},
     "output_type": "execute_result"
    }
   ],
   "source": [
    "grader.check(\"q2a\")"
   ]
  },
  {
   "cell_type": "markdown",
   "id": "d6ec2a66",
   "metadata": {},
   "source": [
    "**2(b)** (2 pts) Using your solution in the previous step, build a regular expression named `ip` that matches IP addresses. For the purpose of this exercise, we will define an IP address to be a string of the form `A.B.C.D`, where $A$, $B$, $C$, and $D$ are numbers between 0 and 255."
   ]
  },
  {
   "cell_type": "code",
   "execution_count": 474,
   "id": "d6f03b9b",
   "metadata": {
    "tags": []
   },
   "outputs": [],
   "source": [
    "ip = r''+zero_to_255+'\\.'+zero_to_255+'\\.'+zero_to_255+'\\.'+zero_to_255"
   ]
  },
  {
   "cell_type": "code",
   "execution_count": 475,
   "id": "74159950",
   "metadata": {
    "deletable": false,
    "editable": false
   },
   "outputs": [
    {
     "data": {
      "text/html": [
       "<p><strong><pre style='display: inline;'>q2b</pre></strong> passed!</p>"
      ],
      "text/plain": [
       "q2b results: All test cases passed!"
      ]
     },
     "execution_count": 475,
     "metadata": {},
     "output_type": "execute_result"
    }
   ],
   "source": [
    "grader.check(\"q2b\")"
   ]
  },
  {
   "cell_type": "markdown",
   "id": "bd8e2924",
   "metadata": {},
   "source": [
    "**2(c)** (2 pts) Create a regular expression that extracts the sender and receiever IP addresses from each line of the SkypeIRC log file, and use a `collections.Counter` to count up all the unique sender and receiver addresses in the data. What do you think is the IP address of the laptop on which the capture was performed?"
   ]
  },
  {
   "cell_type": "markdown",
   "id": "7b66c589",
   "metadata": {},
   "source": [
    "_Type your answer here, replacing this text._"
   ]
  },
  {
   "cell_type": "code",
   "execution_count": 484,
   "id": "ce0f180c",
   "metadata": {
    "tags": []
   },
   "outputs": [
    {
     "name": "stdout",
     "output_type": "stream",
     "text": [
      "True\n",
      "True\n"
     ]
    }
   ],
   "source": [
    "from collections import Counter\n",
    "ip_ext = r''+zero_to_255+'\\.'+zero_to_255+'\\.'+zero_to_255+'\\.'+zero_to_255+' '\n",
    "senders = Counter(['.'.join(list(re.findall(ip_ext,skype[line])[0])) for line in range(len(skype)) if len(re.findall(ip_ext,skype[line])) > 1])\n",
    "receivers = Counter(['.'.join(list(re.findall(ip_ext,skype[line])[1])) for line in range(len(skype)) if len(re.findall(ip_ext,skype[line])) > 1])\n",
    "\n",
    "\n",
    "print(receivers['212.204.214.114'] == 159)\n",
    "print(senders['212.204.214.114'] == 141)"
   ]
  },
  {
   "cell_type": "code",
   "execution_count": 481,
   "id": "63080281",
   "metadata": {
    "deletable": false,
    "editable": false
   },
   "outputs": [
    {
     "data": {
      "text/html": [
       "<p><strong><pre style='display: inline;'>q2c</pre></strong> passed!</p>"
      ],
      "text/plain": [
       "q2c results: All test cases passed!"
      ]
     },
     "execution_count": 481,
     "metadata": {},
     "output_type": "execute_result"
    }
   ],
   "source": [
    "grader.check(\"q2c\")"
   ]
  },
  {
   "cell_type": "markdown",
   "id": "e9564758",
   "metadata": {
    "deletable": false,
    "editable": false
   },
   "source": [
    "---\n",
    "\n",
    "To double-check your work, the cell below will rerun all of the autograder tests."
   ]
  },
  {
   "cell_type": "code",
   "execution_count": 478,
   "id": "811dccf6",
   "metadata": {
    "deletable": false,
    "editable": false
   },
   "outputs": [
    {
     "data": {
      "text/plain": [
       "q1a results: All test cases passed!\n",
       "\n",
       "q1b results: All test cases passed!\n",
       "\n",
       "q1c results: All test cases passed!\n",
       "\n",
       "q1d results: All test cases passed!\n",
       "\n",
       "q1e results: All test cases passed!\n",
       "\n",
       "q2a results: All test cases passed!\n",
       "\n",
       "q2b results: All test cases passed!\n",
       "\n",
       "q2c results: All test cases passed!"
      ]
     },
     "execution_count": 478,
     "metadata": {},
     "output_type": "execute_result"
    }
   ],
   "source": [
    "grader.check_all()"
   ]
  },
  {
   "cell_type": "markdown",
   "id": "da66ff79",
   "metadata": {
    "deletable": false,
    "editable": false
   },
   "source": [
    "## Submission\n",
    "\n",
    "Make sure you have run all cells in your notebook in order before running the cell below, so that all images/graphs appear in the output. The cell below will generate a zip file for you to submit. **Please save before exporting!**\n",
    "\n",
    "Upload this .zip file to Gradescope for grading."
   ]
  },
  {
   "cell_type": "code",
   "execution_count": 479,
   "id": "e0cc27cf",
   "metadata": {
    "deletable": false,
    "editable": false
   },
   "outputs": [
    {
     "data": {
      "text/html": [
       "\n",
       "            <p>Your submission has been exported. Click <a href=\"ps7_2022_03_09T20_52_35_116800.zip\" download=\"ps7_2022_03_09T20_52_35_116800.zip\" target=\"_blank\">here</a>\n",
       "            to download the zip file.</p>\n",
       "            "
      ],
      "text/plain": [
       "<IPython.core.display.HTML object>"
      ]
     },
     "metadata": {},
     "output_type": "display_data"
    }
   ],
   "source": [
    "# Save your notebook first, then run this cell to export your submission.\n",
    "grader.export(pdf=False)"
   ]
  },
  {
   "cell_type": "markdown",
   "id": "da1a1427",
   "metadata": {},
   "source": [
    " "
   ]
  }
 ],
 "metadata": {
  "kernelspec": {
   "display_name": "Python 3 (ipykernel)",
   "language": "python",
   "name": "python3"
  },
  "language_info": {
   "codemirror_mode": {
    "name": "ipython",
    "version": 3
   },
   "file_extension": ".py",
   "mimetype": "text/x-python",
   "name": "python",
   "nbconvert_exporter": "python",
   "pygments_lexer": "ipython3",
   "version": "3.9.7"
  },
  "otter": {
   "tests": {
    "q1a": {
     "name": "q1a",
     "points": 2,
     "suites": [
      {
       "cases": [
        {
         "code": ">>> assert len(words) == 113809\n",
         "hidden": false,
         "locked": false
        }
       ],
       "scored": true,
       "setup": "",
       "teardown": "",
       "type": "doctest"
      }
     ]
    },
    "q1b": {
     "name": "q1b",
     "points": 2,
     "suites": [
      {
       "cases": [
        {
         "code": ">>> assert len(three_vowels) == 19\n",
         "hidden": false,
         "locked": false
        },
        {
         "code": ">>> assert \"oeillade\" in three_vowels\n",
         "hidden": false,
         "locked": false
        },
        {
         "code": ">>> three_vowels_soln = set([w for w in words if re.match(r\"[aeuio]{3}\", w)])\n>>> assert set(three_vowels) == set(three_vowels_soln)\n",
         "hidden": false,
         "locked": false
        }
       ],
       "scored": true,
       "setup": "",
       "teardown": "",
       "type": "doctest"
      }
     ]
    },
    "q1c": {
     "name": "q1c",
     "points": 2,
     "suites": [
      {
       "cases": [
        {
         "code": ">>> assert \"eye\" in even_e\n>>> assert \"eels\" in even_e\n>>> assert \"storekeeper\" in even_e\n>>> assert \"bird\" not in even_e\n>>> assert \"fed\" not in even_e\n>>> assert \"eleven\" not in even_e\n",
         "hidden": false,
         "locked": false
        }
       ],
       "scored": true,
       "setup": "",
       "teardown": "",
       "type": "doctest"
      }
     ]
    },
    "q1d": {
     "name": "q1d",
     "points": 2,
     "suites": [
      {
       "cases": [
        {
         "code": ">>> assert isinstance(consonants_begin_end, str)\n",
         "hidden": false,
         "locked": false
        },
        {
         "code": ">>> regexp = re.compile(consonants_begin_end)\n>>> assert regexp.match(\"dad\")\n>>> assert regexp.match(\"doom\")\n>>> assert regexp.match(\"mom\")\n>>> assert regexp.match(\"me ad\")\n>>> assert regexp.match(\"woooo!!!!! ah\")\n>>> assert not regexp.match(\"\")\n>>> assert not regexp.match(\"dad & mom\")\n>>> assert not regexp.match(\"dune\")\n",
         "hidden": false,
         "locked": false
        }
       ],
       "scored": true,
       "setup": "",
       "teardown": "",
       "type": "doctest"
      }
     ]
    },
    "q1e": {
     "name": "q1e",
     "points": 2,
     "suites": [
      {
       "cases": [
        {
         "code": ">>> assert \"cardiac\" in fwd_2_rev\n>>> assert \"defeated\" in fwd_2_rev\n>>> assert \"sees\" in fwd_2_rev\n",
         "hidden": false,
         "locked": false
        }
       ],
       "scored": true,
       "setup": "",
       "teardown": "",
       "type": "doctest"
      }
     ]
    },
    "q2a": {
     "name": "q2a",
     "points": 2,
     "suites": [
      {
       "cases": [
        {
         "code": ">>> assert isinstance(zero_to_255, str)\n>>> regexp = re.compile(r\"^\" + zero_to_255 + \"$\")\n>>> assert not regexp.match(\"001\")\n>>> assert not regexp.match(\"123 234\")\n>>> for i in range(256):\n...     assert regexp.match(str(i)), f\"{str(i)} did not match\"\n...     assert regexp.match(str(i)).groups() == (str(i), ), f\"{str(i)} should match exactly once\"\n",
         "hidden": false,
         "locked": false
        }
       ],
       "scored": true,
       "setup": "",
       "teardown": "",
       "type": "doctest"
      }
     ]
    },
    "q2b": {
     "name": "q2b",
     "points": 2,
     "suites": [
      {
       "cases": [
        {
         "code": ">>> assert isinstance(ip, str)\n>>> regexp = re.compile(r\"^\" + ip + r\"$\")\n>>> assert regexp.match(\"127.0.0.1\")\n>>> assert regexp.match(\"172.217.2.36\")\n>>> assert regexp.match(\"141.211.243.251\")\n>>> assert not regexp.match(\"1.2.3.400\")\n>>> assert not regexp.match(\"1.2.3.4.5\")\n",
         "hidden": false,
         "locked": false
        }
       ],
       "scored": true,
       "setup": "",
       "teardown": "",
       "type": "doctest"
      }
     ]
    },
    "q2c": {
     "name": "q2c",
     "points": 2,
     "suites": [
      {
       "cases": [
        {
         "code": ">>> assert senders['212.204.214.114'] == 141\n",
         "hidden": false,
         "locked": false
        },
        {
         "code": ">>> assert receivers['212.204.214.114'] == 159\n",
         "hidden": false,
         "locked": false
        }
       ],
       "scored": true,
       "setup": "",
       "teardown": "",
       "type": "doctest"
      }
     ]
    }
   }
  }
 },
 "nbformat": 4,
 "nbformat_minor": 5
}
