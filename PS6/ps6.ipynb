{
 "cells": [
  {
   "cell_type": "code",
   "execution_count": 2,
   "id": "a91fb642",
   "metadata": {
    "deletable": false,
    "editable": false
   },
   "outputs": [],
   "source": [
    "# Initialize Otter\n",
    "import otter\n",
    "grader = otter.Notebook(\"ps6.ipynb\")"
   ]
  },
  {
   "cell_type": "code",
   "execution_count": 3,
   "id": "dfc827ed",
   "metadata": {},
   "outputs": [],
   "source": [
    "import numpy as np"
   ]
  },
  {
   "cell_type": "markdown",
   "id": "bec28ce8",
   "metadata": {},
   "source": [
    "## Question 1: Down with `for` loops\n",
    "Each of the problems below contains a function that uses `for` loops to perform a certain operation on arrays. Your job is to rewrite these function using only Numpy array manipulations and library functions (e.g. `np.xxx()`). Do not use any `for` or `while` loops, iterators, generators, or list comprehensions in your solutions."
   ]
  },
  {
   "cell_type": "markdown",
   "id": "ffc35c77",
   "metadata": {},
   "source": [
    "**1(a)** (3 pts) Return all of the rows of the integer matrix `A` where where each entry of the row is distinct:"
   ]
  },
  {
   "cell_type": "code",
   "execution_count": 4,
   "id": "ea069524",
   "metadata": {},
   "outputs": [],
   "source": [
    "def distinct_rows_py(A):\n",
    "    'Return all rows of A that have completely distinct entries.'\n",
    "    return np.array([a for a in A if len(set(a)) == len(a)])"
   ]
  },
  {
   "cell_type": "code",
   "execution_count": 5,
   "id": "1017eac5",
   "metadata": {},
   "outputs": [
    {
     "data": {
      "text/plain": [
       "array([], dtype=float64)"
      ]
     },
     "execution_count": 5,
     "metadata": {},
     "output_type": "execute_result"
    }
   ],
   "source": [
    "A = np.eye(5)\n",
    "distinct_rows_py(A)"
   ]
  },
  {
   "cell_type": "code",
   "execution_count": 6,
   "id": "103195fa",
   "metadata": {},
   "outputs": [
    {
     "data": {
      "text/plain": [
       "array([[0, 1, 2],\n",
       "       [3, 4, 5],\n",
       "       [6, 7, 8]])"
      ]
     },
     "execution_count": 6,
     "metadata": {},
     "output_type": "execute_result"
    }
   ],
   "source": [
    "A = np.arange(9).reshape(3, 3)\n",
    "distinct_rows_py(A)"
   ]
  },
  {
   "cell_type": "code",
   "execution_count": 7,
   "id": "a836d6d6",
   "metadata": {},
   "outputs": [
    {
     "data": {
      "text/plain": [
       "array([[1, 2, 3]])"
      ]
     },
     "execution_count": 7,
     "metadata": {},
     "output_type": "execute_result"
    }
   ],
   "source": [
    "A = np.array([\n",
    "    [1, 2, 3],\n",
    "    [4, 4, 4],\n",
    "    [5, 6, 6]])\n",
    "distinct_rows_py(A)"
   ]
  },
  {
   "cell_type": "code",
   "execution_count": 8,
   "id": "952cb7e8",
   "metadata": {
    "tags": []
   },
   "outputs": [],
   "source": [
    "def distinct_rows_np(A):\n",
    "    distinct = np.apply_along_axis(lambda x: len(set(x)) == len(x), axis=1, arr=A)\n",
    "    return A[distinct]\n",
    "    ..."
   ]
  },
  {
   "cell_type": "code",
   "execution_count": 9,
   "id": "d44c9e77",
   "metadata": {
    "deletable": false,
    "editable": false
   },
   "outputs": [
    {
     "data": {
      "text/html": [
       "<p><strong><pre style='display: inline;'>1a</pre></strong> passed!</p>"
      ],
      "text/plain": [
       "1a results: All test cases passed!"
      ]
     },
     "execution_count": 9,
     "metadata": {},
     "output_type": "execute_result"
    }
   ],
   "source": [
    "grader.check(\"1a\")"
   ]
  },
  {
   "cell_type": "markdown",
   "id": "3f90a2d6",
   "metadata": {},
   "source": [
    "**1(b)** (3 pts) Given a vector $v$ of length $n$, and an integer $0<k<n$, return the matrix\n",
    "```\n",
    "[[v[0], ..., v[k-1]],\n",
    " [v[1], ..., v[k]  ],\n",
    " [v[2], ..., v[k+1]],\n",
    " [ .     .       . ],\n",
    " [ .     .       . ],\n",
    " [ .     .       . ],\n",
    " [v[n-k+1, ..., v[n]]\n",
    " ```"
   ]
  },
  {
   "cell_type": "code",
   "execution_count": 10,
   "id": "71371332",
   "metadata": {},
   "outputs": [],
   "source": [
    "def sliding_stack_py(v, k):\n",
    "    \"Stack sliding windows of v of length k.\"\n",
    "    rows = []\n",
    "    for i in range(len(v) - k + 1):\n",
    "        rows.append(v[i : (i + k)])\n",
    "    return np.array(rows)"
   ]
  },
  {
   "cell_type": "code",
   "execution_count": 11,
   "id": "c3719346",
   "metadata": {},
   "outputs": [
    {
     "data": {
      "text/plain": [
       "array([[1, 2, 3],\n",
       "       [2, 3, 4],\n",
       "       [3, 4, 5]])"
      ]
     },
     "execution_count": 11,
     "metadata": {},
     "output_type": "execute_result"
    }
   ],
   "source": [
    "sliding_stack_py(np.array([1, 2, 3, 4, 5]), 3)"
   ]
  },
  {
   "cell_type": "code",
   "execution_count": 12,
   "id": "617bb90b",
   "metadata": {
    "tags": []
   },
   "outputs": [],
   "source": [
    "def sliding_stack_np(v, k):\n",
    "    A = np.zeros((len(v)-k+1,k),dtype=int)\n",
    "    \n",
    "    def count_n_slide(x,i=[-1]):\n",
    "        i[0]+=1                                              # count how many times a function was run, start at -1 so first row gets 0\n",
    "        return v[i[0]:(i[0]+k)]                              # return slicing from position according the times a function was run\n",
    " \n",
    "    return np.apply_along_axis(count_n_slide, axis=1, arr=A) # apply the function on each row using an np function\n",
    "    ..."
   ]
  },
  {
   "cell_type": "code",
   "execution_count": 13,
   "id": "e1dfcd89",
   "metadata": {
    "deletable": false,
    "editable": false
   },
   "outputs": [
    {
     "data": {
      "text/html": [
       "<p><strong><pre style='display: inline;'>1b</pre></strong> passed!</p>"
      ],
      "text/plain": [
       "1b results: All test cases passed!"
      ]
     },
     "execution_count": 13,
     "metadata": {},
     "output_type": "execute_result"
    }
   ],
   "source": [
    "grader.check(\"1b\")"
   ]
  },
  {
   "cell_type": "markdown",
   "id": "f52de454",
   "metadata": {},
   "source": [
    "**1(c)** (3 pts) Given a vector of non-negative integers `v`, with `max(v) = m`, return a vector `c` of length `m + 1` such that `c[i]` is the number of times that the integer `i` appears in `v`."
   ]
  },
  {
   "cell_type": "code",
   "execution_count": 14,
   "id": "c0d7a9ad",
   "metadata": {},
   "outputs": [],
   "source": [
    "def digit_count_py(v):\n",
    "    m = max(v)\n",
    "    ret = np.zeros(m + 1, int)\n",
    "    for vv in v:\n",
    "        ret[vv] += 1\n",
    "    return ret"
   ]
  },
  {
   "cell_type": "code",
   "execution_count": 15,
   "id": "f9b4ac22",
   "metadata": {},
   "outputs": [
    {
     "data": {
      "text/plain": [
       "array([2, 2, 3, 1, 1])"
      ]
     },
     "execution_count": 15,
     "metadata": {},
     "output_type": "execute_result"
    }
   ],
   "source": [
    "v = np.array([0, 0, 1, 1, 2, 2, 2, 3, 4])\n",
    "digit_count_py(v)"
   ]
  },
  {
   "cell_type": "code",
   "execution_count": 16,
   "id": "bc3f1fd6",
   "metadata": {
    "tags": []
   },
   "outputs": [],
   "source": [
    "def digit_count_np(v):\n",
    "    return np.bincount(v).astype(int)\n",
    "    ..."
   ]
  },
  {
   "cell_type": "code",
   "execution_count": 17,
   "id": "755ccaef",
   "metadata": {
    "deletable": false,
    "editable": false
   },
   "outputs": [
    {
     "data": {
      "text/html": [
       "<p><strong><pre style='display: inline;'>1c</pre></strong> passed!</p>"
      ],
      "text/plain": [
       "1c results: All test cases passed!"
      ]
     },
     "execution_count": 17,
     "metadata": {},
     "output_type": "execute_result"
    }
   ],
   "source": [
    "grader.check(\"1c\")"
   ]
  },
  {
   "cell_type": "markdown",
   "id": "53d983e3",
   "metadata": {},
   "source": [
    "**1(d)** (3 pts) Call a square $n\\times n$ matrix $A$ *countersymmetric* if $A_{ij} = A_{n-j,n-i}$ for all $i$ and $j$. An example of such a matrix is:\n",
    "\n",
    "$$\n",
    "\\begin{pmatrix}\n",
    "4 & 3 & 2 & 1 & 0\\\\\n",
    "8 & 7 & 6 & 5 & 1\\\\\n",
    "11 & 10 & 9 & 6 & 2\\\\\n",
    "13 & 12 & 10 & 7 & 3\\\\\n",
    "14 & 13 & 11 & 8 & 4\n",
    "\\end{pmatrix}\n",
    "$$\n",
    "\n",
    "Write a function `is_countersym` that checks this property:"
   ]
  },
  {
   "cell_type": "code",
   "execution_count": 18,
   "id": "3afb6067",
   "metadata": {},
   "outputs": [],
   "source": [
    "def is_countersym_py(A):\n",
    "    \"Returns True if A is countersymmetric\"\n",
    "    n = A.shape[0]\n",
    "    for i in range(n):\n",
    "        for j in range(n):\n",
    "            if A[i, j] != A[n - j - 1, n - i - 1]:\n",
    "                return False\n",
    "    return True"
   ]
  },
  {
   "cell_type": "code",
   "execution_count": 19,
   "id": "5dcd4a6d",
   "metadata": {},
   "outputs": [
    {
     "data": {
      "text/plain": [
       "True"
      ]
     },
     "execution_count": 19,
     "metadata": {},
     "output_type": "execute_result"
    }
   ],
   "source": [
    "cs_matrix = np.array([[ 4,  3,  2,  1,  0], [ 8,  7,  6,  5,  1], [11, 10,  9,  6,  2], [13, 12, 10,  7,  3], [14, 13, 11,  8,  4]])\n",
    "is_countersym_py(cs_matrix)"
   ]
  },
  {
   "cell_type": "code",
   "execution_count": 20,
   "id": "65726af5",
   "metadata": {
    "tags": []
   },
   "outputs": [],
   "source": [
    "def is_countersym_np(A):\n",
    "    counter_sym = A.T                            # Transform the matrix\n",
    "    counter_sym = np.flip(counter_sym, axis=1)   # Flip over columns\n",
    "    counter_sym = np.flip(counter_sym, axis=0)   # Flip over rows\n",
    "    return np.all(counter_sym == A)\n",
    "    ..."
   ]
  },
  {
   "cell_type": "code",
   "execution_count": 21,
   "id": "4052a86b",
   "metadata": {
    "deletable": false,
    "editable": false
   },
   "outputs": [
    {
     "data": {
      "text/html": [
       "<p><strong><pre style='display: inline;'>1d</pre></strong> passed!</p>"
      ],
      "text/plain": [
       "1d results: All test cases passed!"
      ]
     },
     "execution_count": 21,
     "metadata": {},
     "output_type": "execute_result"
    }
   ],
   "source": [
    "grader.check(\"1d\")"
   ]
  },
  {
   "cell_type": "markdown",
   "id": "b8ab6a8a",
   "metadata": {},
   "source": [
    "**1(e)** (5 pts extra credit) [Sudoku](https://en.wikipedia.org/wiki/Sudoku) is a number game played on a $9\\times 9$ grid, arranged into nine $3\\times 3$ subgrids. In order to win Sudoku, you must fill in the numbers 1-9 exactly once in every row, column, and $3\\times 3$ subgrid. Here is an example of a winning solution:\n",
    "\n",
    "![sudoku](sudoku_solved.png)\n",
    "\n",
    "*Generalized Sudoku* is played on an $n^2 \\times n^2$ grid, arranged into $n^2$ subgrids of size $n\\times n$. A winning solution contains the numbers 1-$n$ exactly once in every row, column, and $n\\times n$ subgrid.\n",
    "\n",
    "Write a function that takes a $n^2\\times n^2$ integer array and returns `True` if it is a winning (generalized) Sudoku solution."
   ]
  },
  {
   "cell_type": "code",
   "execution_count": 34,
   "id": "afea7e65",
   "metadata": {},
   "outputs": [],
   "source": [
    "def sudoku_win_py(A):\n",
    "    \"Returns True if A is a winning Sudoku board\"\n",
    "    import math\n",
    "    import itertools\n",
    "\n",
    "    n = math.isqrt(A.shape[0])\n",
    "    s = set(range(1, n ** 2 + 1))\n",
    "    horiz, vert = [all(set(row) == s for row in M) for M in (A, A.T)]\n",
    "    if not (horiz and vert):\n",
    "        return False\n",
    "    for h, v in itertools.product(range(0, n * n, n), repeat=2):\n",
    "        block = A[h : h + n, v : v + n]\n",
    "        if set(block.flat) != s:\n",
    "            return False\n",
    "    return True"
   ]
  },
  {
   "cell_type": "code",
   "execution_count": 35,
   "id": "9fc0ccc2",
   "metadata": {},
   "outputs": [
    {
     "data": {
      "text/plain": [
       "True"
      ]
     },
     "execution_count": 35,
     "metadata": {},
     "output_type": "execute_result"
    }
   ],
   "source": [
    "good_board = [[3, 1, 6, 2, 4, 9, 7, 8, 5], \n",
    "              [2, 7, 8, 3, 6, 5, 9, 1, 4], \n",
    "              [4, 9, 5, 7, 8, 1, 6, 2, 3], \n",
    "              [8, 5, 1, 9, 7, 4, 3, 6, 2], \n",
    "              [9, 2, 3, 8, 1, 6, 4, 5, 7], \n",
    "              [6, 4, 7, 5, 3, 2, 1, 9, 8], \n",
    "              [7, 6, 2, 1, 5, 3, 8, 4, 9], \n",
    "              [1, 3, 9, 4, 2, 8, 5, 7, 6], \n",
    "              [5, 8, 4, 6, 9, 7, 2, 3, 1]]\n",
    "sudoku_win_py(np.array(good_board, dtype=int))"
   ]
  },
  {
   "cell_type": "code",
   "execution_count": 36,
   "id": "e5a533f2",
   "metadata": {},
   "outputs": [
    {
     "data": {
      "text/plain": [
       "False"
      ]
     },
     "execution_count": 36,
     "metadata": {},
     "output_type": "execute_result"
    }
   ],
   "source": [
    "bad_board = np.arange(81).reshape(9, 9)\n",
    "sudoku_win_py(bad_board)"
   ]
  },
  {
   "cell_type": "code",
   "execution_count": 66,
   "id": "dba7b889",
   "metadata": {
    "tags": []
   },
   "outputs": [],
   "source": [
    "def sudoku_win_np(A):\n",
    "    n = np.sqrt(A.shape[0]).astype(int)\n",
    "    s = set(range(1, n ** 2 + 1))\n",
    "    \n",
    "    def uni(axis):\n",
    "        return set(axis) == s\n",
    "    \n",
    "    # check rows\n",
    "    row_check = np.all(np.apply_along_axis(uni, axis=1,arr=A))\n",
    "    if row_check == False:\n",
    "        return False\n",
    "    \n",
    "    # check columns\n",
    "    col_check = np.all(np.apply_along_axis(uni, axis=0,arr=A))\n",
    "    if col_check == False:\n",
    "        return False\n",
    "    \n",
    "    # check subgrids\n",
    "    rows = A.strides[0]\n",
    "    cols = A.strides[1]\n",
    "\n",
    "    subgrids = np.lib.stride_tricks.as_strided(A, shape=(n, n, n, n), strides=(rows*n, cols*n, rows, cols))\n",
    "    \n",
    "    flat_grids = subgrids.flatten()\n",
    "    row_grids = flat_grids.reshape(9,9)\n",
    "    \n",
    "    grid_check = np.all(np.apply_along_axis(uni, axis=1,arr=row_grids))\n",
    "    \n",
    "    if grid_check == False:\n",
    "        return False\n",
    "    \n",
    "    return True\n",
    "\n",
    "    ..."
   ]
  },
  {
   "cell_type": "code",
   "execution_count": 67,
   "id": "f533679d",
   "metadata": {
    "deletable": false,
    "editable": false
   },
   "outputs": [
    {
     "data": {
      "text/html": [
       "<p><strong><pre style='display: inline;'>1e</pre></strong> passed!</p>"
      ],
      "text/plain": [
       "1e results: All test cases passed!"
      ]
     },
     "execution_count": 67,
     "metadata": {},
     "output_type": "execute_result"
    }
   ],
   "source": [
    "grader.check(\"1e\")"
   ]
  },
  {
   "cell_type": "markdown",
   "id": "fe521db3",
   "metadata": {},
   "source": [
    "## Question 2: $k$-means clustering\n",
    "\n",
    "$k$-means is a fundamental algorithm for clustering multivariate data. The inputs to the algorithm are:\n",
    "- An $n\\times p$ data matrix $X$ consisting of $n$ observations of a $p$-dimensional feature vector, and\n",
    "- A $k\\times p$ matrix $C$ containing initial guesses for each $k$ cluster centers.\n",
    "\n",
    "The algorithm proceeds by iteratively a) assigning each point to the nearest cluster center, and b) recomputing the cluster centers as the mean of all of the currently assigned points. Here is a partial implementation:"
   ]
  },
  {
   "cell_type": "code",
   "execution_count": 39,
   "id": "537dd282",
   "metadata": {},
   "outputs": [],
   "source": [
    "def kmeans(X, C):\n",
    "    \"\"\"\n",
    "    K-means algorithm.\n",
    "\n",
    "    Args:\n",
    "        - X: ndarray, shape (n, p), n observations of p-dimensional feature vector\n",
    "        - C: ndarray, shape (k, p), k initial cluster centers\n",
    "\n",
    "    Returns:\n",
    "        Tuple of length two:\n",
    "        The first entry is integer ndarray, shape (n), cluster assignments for each data point\n",
    "        The second entry is ndarray, shape (k, p), centers of each cluster\n",
    "    \"\"\"\n",
    "    assert X.shape[1] == C.shape[1]  # p should match\n",
    "    while True:\n",
    "        new_assignments = nearest_cluster(X, C)\n",
    "        try:\n",
    "            if np.all(new_assignments == assignments):\n",
    "                # converged\n",
    "                return assignments, C\n",
    "        except NameError:  # first iteration, no assignments\n",
    "            pass \n",
    "        assignments = new_assignments\n",
    "        C = compute_centroids(X, assignments)"
   ]
  },
  {
   "cell_type": "markdown",
   "id": "00fe63eb",
   "metadata": {},
   "source": [
    "You will finish implementing this algorithm by completing the missing functions `nearest_cluster()` and `compute_centroids()` below. Note: as in the Question 1, do not use any loops, iterators, or comprehensions."
   ]
  },
  {
   "cell_type": "markdown",
   "id": "1c2251e0",
   "metadata": {},
   "source": [
    "**2(a)** (3 pts) Implement the function `nearest_cluster`. It should take two array arguments, the data points `X` and the cluster centers `C`, and return an integer array giving the index in `C` which is nearest to each point in `X`."
   ]
  },
  {
   "cell_type": "code",
   "execution_count": 40,
   "id": "d2cdca0c",
   "metadata": {
    "tags": []
   },
   "outputs": [],
   "source": [
    "def nearest_cluster(X, C):\n",
    "    \"\"\"\n",
    "    For each point in X, find the nearest point in C.\n",
    "\n",
    "    Args:\n",
    "        X: ndarray, shape (n, p), n points of dimension p.\n",
    "        C: ndarray, shape (k, p), k points of dimension p.\n",
    "\n",
    "    Returns:\n",
    "        Integer array of length n, [j[1], j[2], ..., j[n]], such that |X[i] - C[j[i]]| <= |X[i] - C[ell]| for 1 <= ell <= k.\n",
    "    \"\"\"\n",
    "    diffs = (X - C[:, None])                        # compute the differences for each element in X for each element in C, we have to add a dimension\n",
    "\n",
    "    sq_diffs = diffs**2                             # square the differences as distance can't be negative\n",
    "    euc_dist = np.sqrt(sq_diffs)                    # get Euclidian distance for each point\n",
    "    \n",
    "    distances = euc_dist.sum(axis=2)                # remove extra dimension, wonder why squezze doesn't work for the seoncd example\n",
    "    return np.argmin(distances, axis=0).astype(int) # return index position for each column where the value is minimum\n",
    "    ..."
   ]
  },
  {
   "cell_type": "code",
   "execution_count": 41,
   "id": "5f21811d-5480-4183-a3d8-303d0744bef4",
   "metadata": {},
   "outputs": [
    {
     "data": {
      "text/plain": [
       "array([0, 0, 0, 1, 2, 2, 2])"
      ]
     },
     "execution_count": 41,
     "metadata": {},
     "output_type": "execute_result"
    }
   ],
   "source": [
    "X = np.array([[-101, 1, 3, 4], [1,1,2,3], [1, 1.01,2,1], [1.5, 1.6,3,4], [2.5, -3,3,4], [2.5, 2.7,4,4], [3, 33,4,4]])\n",
    "C = np.array([[1, 1,1,1], [2,2,2,2], [3,3,3,3]])\n",
    "\n",
    "nearest_cluster(X,C)"
   ]
  },
  {
   "cell_type": "code",
   "execution_count": 42,
   "id": "da119ee7",
   "metadata": {
    "deletable": false,
    "editable": false
   },
   "outputs": [
    {
     "data": {
      "text/html": [
       "<p><strong><pre style='display: inline;'>2a</pre></strong> passed!</p>"
      ],
      "text/plain": [
       "2a results: All test cases passed!"
      ]
     },
     "execution_count": 42,
     "metadata": {},
     "output_type": "execute_result"
    }
   ],
   "source": [
    "grader.check(\"2a\")"
   ]
  },
  {
   "cell_type": "markdown",
   "id": "f505d257",
   "metadata": {},
   "source": [
    "**2(b)** (3 pts) Implement the function `compute_centroids`. It should take two array arguments, the data points `X` and the assignment array `a`, and return an $k \\times p$ array containing the cluster centroids (averages) for each point assigned to cluster $0, \\dots, k-1$. (You may assume that every entry of $a$ is between $0$ and $k-1$, inclusive.)"
   ]
  },
  {
   "cell_type": "code",
   "execution_count": 43,
   "id": "21c8688b",
   "metadata": {
    "tags": []
   },
   "outputs": [],
   "source": [
    "def compute_centroids(X, a):\n",
    "    A = np.zeros((len(np.unique(a)),X.shape[1]),dtype=int)\n",
    "    \n",
    "    def count_n_mean(x,i=[-1]):\n",
    "        i[0]+=1                   # count how many times a function was run, start at -1 so first row gets 0\n",
    "        x = X[a==i[0]]            # change the row to array of numbers according to a\n",
    "        mean = np.mean(x,axis=0)  # calculate mean of the numbers\n",
    "        return mean\n",
    "    \n",
    "    return np.apply_along_axis(count_n_mean, axis=1, arr=A) # use numpy function to go over rows\n",
    "    ..."
   ]
  },
  {
   "cell_type": "code",
   "execution_count": 44,
   "id": "45332a6c",
   "metadata": {
    "deletable": false,
    "editable": false
   },
   "outputs": [
    {
     "data": {
      "text/html": [
       "<p><strong><pre style='display: inline;'>2b</pre></strong> passed!</p>"
      ],
      "text/plain": [
       "2b results: All test cases passed!"
      ]
     },
     "execution_count": 44,
     "metadata": {},
     "output_type": "execute_result"
    }
   ],
   "source": [
    "grader.check(\"2b\")"
   ]
  },
  {
   "cell_type": "markdown",
   "id": "856ba31e",
   "metadata": {},
   "source": [
    "**2(c)** (5 pts.) The performance of the $k$-means algorithm is known to depend heavily on the starting point (the initial clusters `C` passed in as the second argument.) In some cases, using a \"good\" starting point can dramatically improve the performance of the algorithm.\n",
    "\n",
    "The $k$-means++ algorithm is designed to find such a good starting point. [According to Wikipedia](https://en.wikipedia.org/wiki/K-means%2B%2B), the steps of $k$-means++ are:\n",
    "\n",
    "1. Choose one center uniformly at random among the data points.\n",
    "2. For each data point $x$ not chosen yet, compute $D(x)$, the distance between $x$ and the nearest center that has already been chosen.\n",
    "3. Choose one new data point at random as a new center, using a weighted probability distribution where a point $x$ is chosen with probability proportional to $D(x)^2$.\n",
    "4. Repeat Steps 2 and 3 until $k$ centers have been chosen.\n",
    "\n",
    "Implement this algorithm using the skeleton provided below. As before, your implementation should only use Numpy functions--no additional loops or comprehensions. \n",
    "\n",
    "**Note**: To ensure reproducibility, the parts of the algorithm that rely on ranndomness are provided for you. Your job is to fill in the missing lines necessary to complete the algoritm."
   ]
  },
  {
   "cell_type": "code",
   "execution_count": 45,
   "id": "aabe3cd7",
   "metadata": {
    "tags": []
   },
   "outputs": [],
   "source": [
    "def kmeanspp(X, k, rng):\n",
    "    \"\"\"\n",
    "    k-means++ algorithm.\n",
    "\n",
    "    Args:\n",
    "        - X: ndarray, shape (n, p), as above.\n",
    "        - k, the number of clusters.\n",
    "        - rng: instance of np.random.Generator().\n",
    "\n",
    "    Returns:\n",
    "        ndarray, shape (k, p), cluster centers.\n",
    "    \"\"\"\n",
    "    n, p = X.shape\n",
    "    C = np.zeros((k, p))\n",
    "    # step 1\n",
    "    j = rng.choice(n)\n",
    "    C[0] = X[j]\n",
    "    step = 0\n",
    "    for i in range(1, k):\n",
    "        \n",
    "        # calculate the distances\n",
    "        diffs = (X - C[:, None])\n",
    "        euc_dist = np.sqrt(diffs**2).sum(axis=2)\n",
    "        \n",
    "        # vector of probabilities\n",
    "        w = euc_dist[step]/np.sum(euc_dist[step])\n",
    "        \n",
    "        # step 3\n",
    "        j = rng.choice(n, p=w)\n",
    "        C[i] = X[j]\n",
    "        step += 1\n",
    "        \n",
    "    return C"
   ]
  },
  {
   "cell_type": "code",
   "execution_count": 46,
   "id": "37f0858b",
   "metadata": {
    "deletable": false,
    "editable": false
   },
   "outputs": [
    {
     "data": {
      "text/html": [
       "<p><strong><pre style='display: inline;'>2c</pre></strong> passed!</p>"
      ],
      "text/plain": [
       "2c results: All test cases passed!"
      ]
     },
     "execution_count": 46,
     "metadata": {},
     "output_type": "execute_result"
    }
   ],
   "source": [
    "grader.check(\"2c\")"
   ]
  },
  {
   "cell_type": "markdown",
   "id": "eb1613b2",
   "metadata": {},
   "source": [
    "**2(d)** (2 pts) In order to measure how good a clustering is, we can define the *within-class variance* \n",
    "\n",
    "$$ V(\\mathbf{X}, \\mathbf{a}, \\mathbf{C}) = \\sum_{i=1}^n \\| \\mathbf{x}_i - \\mathbf{c}_{a_i} \\|^2,$$\n",
    "\n",
    "where the $i$-th element of $\\mathbf{a}=\\{a_1,\\dots,a_n\\}$ is the cluster assignment of observation $i$, and $\\mathbf{C}=(\\mathbf{c}_1,\\dots,\\mathbf{c}_k)$ are the centers of each cluster. Thus, $V(\\mathbf{X}, \\mathbf{a}, \\mathbf{C})$ is the sum of the squared distance from each data point to the center of its assigned cluster.\n",
    "\n",
    "Implement this function. (Again, no loops, just use Numpy functions.)"
   ]
  },
  {
   "cell_type": "code",
   "execution_count": 47,
   "id": "9e749a75",
   "metadata": {
    "tags": []
   },
   "outputs": [],
   "source": [
    "def V(X, a, C):\n",
    "    \n",
    "    def count_n_deduct(x,i=[-1]):\n",
    "        i[0]+=1                   # count how many times a function was run, start at -1 so first row gets 0\n",
    "        diff = (x-C[a[i[0]]])**2   # we iterate over every row and deduct it by the index in a\n",
    "        return diff\n",
    "    \n",
    "    return np.sum(np.apply_along_axis(count_n_deduct, axis=1, arr=X)) # use numpy function to go over rows\n",
    "    ..."
   ]
  },
  {
   "cell_type": "code",
   "execution_count": 48,
   "id": "fe873da6",
   "metadata": {
    "deletable": false,
    "editable": false
   },
   "outputs": [
    {
     "data": {
      "text/html": [
       "<p><strong><pre style='display: inline;'>2d</pre></strong> passed!</p>"
      ],
      "text/plain": [
       "2d results: All test cases passed!"
      ]
     },
     "execution_count": 48,
     "metadata": {},
     "output_type": "execute_result"
    }
   ],
   "source": [
    "grader.check(\"2d\")"
   ]
  },
  {
   "cell_type": "markdown",
   "id": "91edbb67",
   "metadata": {},
   "source": [
    "<!-- BEGIN QUESTION -->\n",
    "\n",
    "**2(e)** (5 pts) Recall from lecture the file `mnist.npz`, which contains the labeled image data for handwritten digits."
   ]
  },
  {
   "cell_type": "code",
   "execution_count": 49,
   "id": "18bc7e81",
   "metadata": {},
   "outputs": [
    {
     "data": {
      "text/plain": [
       "(60000, 784)"
      ]
     },
     "execution_count": 49,
     "metadata": {},
     "output_type": "execute_result"
    }
   ],
   "source": [
    "mnist = np.load(\"mnist.npz\")\n",
    "mnist[\"images\"].shape"
   ]
  },
  {
   "cell_type": "markdown",
   "id": "9f1fe85f",
   "metadata": {},
   "source": [
    "We will experiment with clustering these data. For memory and performance reasons, we will only look at the first 1000 images:"
   ]
  },
  {
   "cell_type": "code",
   "execution_count": 50,
   "id": "87c6f51c",
   "metadata": {},
   "outputs": [],
   "source": [
    "X = mnist[\"images\"][:1000]"
   ]
  },
  {
   "cell_type": "markdown",
   "id": "b384137e",
   "metadata": {},
   "source": [
    "Which performs better, $k$-means++ or random initialization? Do the clusters make sense to you? How do the clusters relate to the true labels given in `mnist['labels']`? What are some examples of images where the clustering is nearly ambiguous (meaning they were almost part of another cluster?)"
   ]
  },
  {
   "cell_type": "markdown",
   "id": "1a857946",
   "metadata": {},
   "source": [
    "Variance-wise random initialization and kpp did very similar job, the variance of kpp depended a lot on chosen seed. When we compare clustering to true labels, clustering got around 60 % correct. In the example of 1,000 observations, the algorithm had a problem with differentiating between 4 and 9, 0 and 6, 8 and 2. The exact picture clustering is shown below in the dictionary, based on the data provided, we can check which images were ambiguous."
   ]
  },
  {
   "cell_type": "code",
   "execution_count": 51,
   "id": "0dd6b98e",
   "metadata": {
    "tags": []
   },
   "outputs": [
    {
     "name": "stdout",
     "output_type": "stream",
     "text": [
      "Variance with random initialization: 2468322256.2957196\n",
      "Variance K++: 2455865952.223058\n",
      "Guesses with random initialization, based on the highest count:\n",
      " [0, 0, 1, 1, 2, 3, 3, 4, 6, 7]\n",
      "Guesses with k++, based on the highest count:\n",
      " [0, 1, 2, 3, 4, 4, 5, 6, 7, 8]\n",
      "% correct using random initialization: 0.458\n",
      "% correct using kpp: 0.575\n"
     ]
    }
   ],
   "source": [
    "n, p = X.shape\n",
    "labels = mnist['labels'][:1000]\n",
    "cnt_labels = len(np.unique(labels))\n",
    "\n",
    "# Random initialization\n",
    "random_indices = np.random.choice(n, size=cnt_labels, replace=False)\n",
    "random_points = X[random_indices, :]\n",
    "\n",
    "a_rand, C_rand = kmeans(X,random_points)\n",
    "\n",
    "variance_random = V(X, a_rand, C_rand)\n",
    "print('Variance with random initialization:', variance_random)\n",
    "\n",
    "rng = np.random.default_rng(1234567) # heavily dependant on the seed\n",
    "kpp_points = kmeanspp(X,cnt_labels , rng)\n",
    "\n",
    "a_kpp, C_kpp = kmeans(X,kpp_points)\n",
    "\n",
    "variance_kpp = V(X, a_kpp, C_kpp)\n",
    "print('Variance K++:',variance_kpp)\n",
    "\n",
    "\n",
    "rand_check = {}\n",
    "for i in range(0,10):\n",
    "    if i in rand_check:\n",
    "        rand_check[i].append(labels[np.where(a_rand == i)])\n",
    "    else:\n",
    "        rand_check[i] = []\n",
    "        rand_check[i].append(labels[np.where(a_rand == i)])\n",
    "\n",
    "rand_real = [np.bincount(x[0]).argmax() for x in rand_check.values()]\n",
    "print('Guesses with random initialization, based on the highest count:\\n',sorted(rand_real))\n",
    "\n",
    "kpp_check = {}\n",
    "for i in range(0,10):\n",
    "    if i in kpp_check:\n",
    "        kpp_check[i].append(labels[np.where(a_kpp == i)])\n",
    "    else:\n",
    "        kpp_check[i] = []\n",
    "        kpp_check[i].append(labels[np.where(a_kpp == i)])\n",
    "\n",
    "kpp_real = [np.bincount(x[0]).argmax() for x in kpp_check.values()]\n",
    "\n",
    "print('Guesses with k++, based on the highest count:\\n',sorted(kpp_real))\n",
    "\n",
    "# replace values in a by values here and see the %\n",
    "a_rand_real = []\n",
    "for a in a_rand:\n",
    "    a_rand_real.append(rand_real[a])\n",
    "    \n",
    "a_kpp_real = []\n",
    "for a in a_kpp:\n",
    "    a_kpp_real.append(kpp_real[a])\n",
    " \n",
    "print('% correct using random initialization:',sum(a_rand_real == labels)/len(labels))\n",
    "print('% correct using kpp:',sum(a_kpp_real == labels)/len(labels))"
   ]
  },
  {
   "cell_type": "code",
   "execution_count": 52,
   "id": "6c2f81d6-37c8-4994-ab5b-7927b80cea0c",
   "metadata": {},
   "outputs": [
    {
     "name": "stdout",
     "output_type": "stream",
     "text": [
      "0: [array([4, 4, 4, 4, 9, 7, 4, 4, 7, 4, 6, 9, 9, 4, 4, 9, 9, 4, 9, 9, 7, 6,\n",
      "       5, 8, 4, 7, 5, 4, 6, 4, 4, 9, 4, 4, 9, 4, 7, 9, 4, 4, 4, 4, 6, 4,\n",
      "       4, 9, 9, 6, 6, 4, 4], dtype=uint8)]\n",
      "1: [array([3, 0, 9, 3, 3, 3, 5, 3, 5, 0, 0, 0, 5, 3, 5, 5, 3, 5, 0, 5, 8, 8,\n",
      "       3, 8, 3, 5, 0, 8, 5, 5, 0, 0, 5, 5, 5, 5, 3, 3, 5, 6, 3, 5, 3, 3,\n",
      "       5, 5, 0, 5, 5, 3, 3], dtype=uint8)]\n",
      "2: [array([6, 0, 6, 0, 6, 6, 6, 6, 0, 6, 6, 6, 0, 6, 6, 6, 6, 6, 0, 2, 2, 6,\n",
      "       6, 5, 6, 6, 6, 6, 6, 6, 6, 6, 6, 4, 6, 6, 6, 0, 6, 0, 0, 6, 6, 6,\n",
      "       6, 0, 6, 6, 0, 6, 0, 6, 0, 0, 6, 6, 6, 0, 6, 6, 6, 6, 0, 6, 0, 6,\n",
      "       6, 6, 0, 6, 6, 0, 6, 0, 0, 6, 0, 6, 0, 0, 0, 0, 6, 0, 0, 6, 6, 0,\n",
      "       0, 6], dtype=uint8)]\n",
      "3: [array([2, 2, 2, 2, 2, 2, 2, 2, 2, 2, 2, 2, 2, 2, 2, 2, 2, 2, 2, 2, 2, 2,\n",
      "       2, 2, 2, 2, 2, 2, 2, 5, 2, 2, 2, 2, 2, 2, 2, 2, 2, 2, 2, 2, 2, 2,\n",
      "       2], dtype=uint8)]\n",
      "4: [array([0, 0, 0, 0, 0, 0, 0, 0, 0, 0, 0, 0, 0, 0, 0, 0, 0, 0, 0, 0, 0, 5,\n",
      "       0, 0, 0, 0, 0, 0, 0, 0, 0, 0, 0, 0, 0, 6, 0, 0, 0, 0, 0, 0, 0, 0,\n",
      "       3, 0, 0, 0, 0, 0, 0, 0, 0, 0, 0, 0, 9, 0], dtype=uint8)]\n",
      "5: [array([8, 2, 8, 8, 8, 8, 8, 8, 2, 8, 8, 8, 2, 2, 2, 8, 8, 3, 1, 8, 5, 8,\n",
      "       8, 8, 8, 8, 8, 8, 8, 8, 8, 8, 8, 8, 8, 3, 8, 8, 8, 8, 8, 8, 8, 3,\n",
      "       3, 8, 8, 8, 8, 8, 8, 8, 8, 8, 8, 8, 8, 8, 8, 8, 8, 8, 8, 8, 2, 8,\n",
      "       8, 8], dtype=uint8)]\n",
      "6: [array([7, 2, 9, 7, 7, 9, 7, 7, 7, 7, 7, 7, 7, 2, 7, 9, 9, 3, 7, 7, 9, 2,\n",
      "       3, 7, 7, 7, 7, 7, 7, 2, 7, 7, 7, 7, 7, 7, 7, 7, 7, 7, 7, 7, 7, 7,\n",
      "       7, 9, 7, 7, 3, 7, 5, 7, 7, 9, 7, 7, 2, 7, 9, 7, 7, 7, 7, 7, 7, 7,\n",
      "       7, 2, 7, 7, 7, 7, 7, 7, 7, 7, 7, 7, 7, 7, 7, 7, 7, 2, 2, 7, 7, 7,\n",
      "       7, 7, 7, 7, 7, 7, 7, 7, 7, 7, 7, 7, 7, 7, 7, 7, 7], dtype=uint8)]\n",
      "7: [array([1, 1, 1, 5, 1, 2, 6, 9, 9, 1, 1, 7, 3, 5, 1, 7, 9, 3, 8, 5, 9, 4,\n",
      "       1, 4, 5, 1, 0, 1, 1, 2, 1, 1, 3, 1, 5, 1, 1, 1, 2, 1, 1, 2, 1, 1,\n",
      "       3, 5, 9, 1, 7, 7, 2, 8, 5, 4, 1, 9, 8, 7, 5, 1, 5, 9, 1, 2, 1, 6,\n",
      "       2, 2, 5, 3, 1, 1, 1, 1, 1, 7, 3, 1, 8, 0, 1, 3, 1, 2, 6, 5, 0, 2,\n",
      "       1, 1, 6, 1, 5, 1, 8, 9, 1, 1, 1, 2, 5, 1, 1, 1, 3, 1, 1, 2, 1, 8,\n",
      "       7, 5, 2, 1, 7, 6, 2, 1, 5, 1, 1, 2, 5, 1, 5, 1, 2, 4, 1, 5, 8, 6,\n",
      "       2, 5, 1, 2, 1, 1, 1, 1, 8, 5, 1, 7, 1, 2, 1, 1, 9, 6, 1, 1, 7, 6,\n",
      "       9, 5, 1, 1, 1, 7, 5, 7, 5, 9, 2, 8, 1, 1, 5, 1, 3, 5, 1, 1, 1, 2,\n",
      "       7, 1, 1, 3, 4, 5, 9, 2, 1, 2, 1, 8, 9, 9, 9, 1, 4, 1, 7, 1, 8, 6,\n",
      "       9, 7, 1, 1, 9, 7, 2, 4, 1, 2, 5, 6, 4, 1, 2, 1, 1, 2, 1, 2, 8, 2,\n",
      "       1, 8, 1, 1, 2, 8, 8, 7, 2, 8, 1, 8, 9, 4, 1, 4, 1, 6, 5, 5, 1, 1,\n",
      "       1, 8, 8, 8, 2, 2, 3, 1, 1, 9, 7, 4, 2, 1, 1, 1, 3, 3, 8, 2, 2, 9,\n",
      "       1, 1, 8, 3, 5, 7, 1, 6, 5, 9, 1, 5, 7, 1, 1, 5, 6, 8, 7, 2, 6, 1,\n",
      "       5, 7, 1, 1, 1, 5, 3, 7, 9, 1, 1, 5, 1, 6], dtype=uint8)]\n",
      "8: [array([5, 3, 3, 3, 3, 3, 3, 0, 3, 3, 3, 3, 3, 5, 3, 5, 3, 3, 5, 3, 3, 3,\n",
      "       3, 3, 3, 3, 9, 3, 3, 3, 3, 3, 3, 3, 3, 5, 5, 5, 5, 3, 3, 3, 3, 3,\n",
      "       3, 5, 3, 5, 3, 5, 3, 3, 5, 5, 3, 5, 5, 3, 5, 5, 3, 5, 5, 5, 3, 5,\n",
      "       3, 3, 3, 3, 3, 3, 5, 6, 3, 3], dtype=uint8)]\n",
      "9: [array([9, 4, 4, 6, 9, 9, 4, 9, 4, 4, 6, 4, 9, 6, 4, 4, 4, 4, 7, 9, 4, 4,\n",
      "       9, 9, 9, 8, 6, 4, 6, 9, 9, 0, 4, 6, 9, 4, 9, 4, 4, 4, 9, 9, 4, 4,\n",
      "       4, 8, 9, 9, 5, 4, 4, 4, 7, 4, 9, 9, 4, 9, 4, 9, 4, 4, 4, 9, 4, 9,\n",
      "       9, 4, 9, 4, 9, 5, 9, 9, 7, 4, 9, 4, 3, 9, 4, 5, 2, 5, 4, 9, 9, 4,\n",
      "       6, 6, 4, 9, 4, 9, 4, 6, 9, 4, 4, 6, 3, 5, 9, 5, 9, 8, 3, 4, 4, 4,\n",
      "       4, 9, 4, 4, 9, 4, 9, 4, 7, 9, 4, 4, 9, 6, 9, 9, 9, 9, 9, 4, 9, 6,\n",
      "       9, 6, 9, 2, 9, 4, 4, 4, 4, 4, 4, 9, 4, 4, 4, 5, 9, 9, 4, 4, 4, 9,\n",
      "       4, 4], dtype=uint8)]\n"
     ]
    }
   ],
   "source": [
    "for k, v in kpp_check.items():\n",
    "    print('%s:' % k, v )"
   ]
  },
  {
   "cell_type": "markdown",
   "id": "33067fc2",
   "metadata": {},
   "source": [
    "<!-- END QUESTION -->\n",
    "\n",
    "## Question 3: Working with pandas DataFrames\n",
    "\n",
    "In this problem, you'll get practice working with pandas `DataFrames`, reading\n",
    "them into and out of memory, changing their contents and performing\n",
    "aggregation operations. We'll use the file `iris.csv` included with this problem set to practice.\n",
    "**Note:** for the sake of consistency, please the CSV included with the problem set, and not one from elsewhere."
   ]
  },
  {
   "cell_type": "code",
   "execution_count": 53,
   "id": "33cfb280",
   "metadata": {},
   "outputs": [],
   "source": [
    "import pandas as pd"
   ]
  },
  {
   "cell_type": "markdown",
   "id": "fe9e2ec8",
   "metadata": {},
   "source": [
    "<!-- BEGIN QUESTION -->\n",
    "\n",
    "**3(a)** (2 pts) Read the data into a variable called `iris`. How many data points are\n",
    "    there in this data set? What are the data types of the columns? What\n",
    "    are the column names? The column names correspond to flower species\n",
    "    names, as well as four basic measurements one can make of a flower:\n",
    "    the width and length of its petals and the width and length of its\n",
    "    sepal (the part of the pant that supports and protects the flower\n",
    "    itself). How many species of flower are included in the data? Show your work by including the\n",
    "    pandas commands you used to figure out the answers."
   ]
  },
  {
   "cell_type": "markdown",
   "id": "befddbec",
   "metadata": {},
   "source": [
    "a. 150 data points; b. dtype=float64 , c. column names = Sepal.Length, Sepal.Width, Petal.Length, Petal.Width, Species, d. There are 3 different species in the data"
   ]
  },
  {
   "cell_type": "code",
   "execution_count": 54,
   "id": "86ebfa53",
   "metadata": {
    "tags": []
   },
   "outputs": [
    {
     "name": "stdout",
     "output_type": "stream",
     "text": [
      "DF info:\n",
      "<class 'pandas.core.frame.DataFrame'>\n",
      "RangeIndex: 150 entries, 0 to 149\n",
      "Data columns (total 5 columns):\n",
      " #   Column        Non-Null Count  Dtype  \n",
      "---  ------        --------------  -----  \n",
      " 0   Sepal.Length  150 non-null    float64\n",
      " 1   Sepal.Width   150 non-null    float64\n",
      " 2   Petal.Length  150 non-null    float64\n",
      " 3   Petal.Width   150 non-null    float64\n",
      " 4   Species       150 non-null    object \n",
      "dtypes: float64(4), object(1)\n",
      "memory usage: 6.0+ KB\n",
      "None \n",
      "\n",
      "No. of species:\n",
      "3\n"
     ]
    },
    {
     "data": {
      "text/plain": [
       "Ellipsis"
      ]
     },
     "execution_count": 54,
     "metadata": {},
     "output_type": "execute_result"
    }
   ],
   "source": [
    "iris = pd.read_csv('iris.csv')\n",
    "print('DF info:')\n",
    "print(iris.info(),'\\n')\n",
    "print('No. of species:')\n",
    "print(iris.Species.nunique())\n",
    "..."
   ]
  },
  {
   "cell_type": "markdown",
   "id": "d82ca292",
   "metadata": {},
   "source": [
    "<!-- END QUESTION -->\n",
    "\n",
    "<!-- BEGIN QUESTION -->\n",
    "\n",
    "**3(b)** It is now known that this dataset contains errors\n",
    "    in two of its rows (see the documentation at\n",
    "    <https://archive.ics.uci.edu/ml/datasets/Iris>). Using 1-indexing,\n",
    "    these errors are in the 35th and 38th rows. The 35th row should read\n",
    "    `4.9,3.1,1.5,0.2,\"setosa\"`, \n",
    "    where the fourth feature is incorrect as it appears in the file,\n",
    "    and the 38th row should read `4.9,3.6,1.4,0.1,\"setosa\"`, where the second and third features\n",
    "    are incorrect as they appear in the file. Correct these entries of\n",
    "    your DataFrame.\n"
   ]
  },
  {
   "cell_type": "code",
   "execution_count": 55,
   "id": "a8b4ca38",
   "metadata": {
    "tags": []
   },
   "outputs": [
    {
     "name": "stdout",
     "output_type": "stream",
     "text": [
      "Sepal.Length       4.9\n",
      "Sepal.Width        3.1\n",
      "Petal.Length       1.5\n",
      "Petal.Width        0.2\n",
      "Species         setosa\n",
      "Name: 34, dtype: object \n",
      "\n",
      "Sepal.Length       4.9\n",
      "Sepal.Width        3.6\n",
      "Petal.Length       1.4\n",
      "Petal.Width        0.1\n",
      "Species         setosa\n",
      "Name: 37, dtype: object \n",
      "\n",
      "Entries are already correct.\n"
     ]
    },
    {
     "data": {
      "text/plain": [
       "Ellipsis"
      ]
     },
     "execution_count": 55,
     "metadata": {},
     "output_type": "execute_result"
    }
   ],
   "source": [
    "print(iris.iloc[34],'\\n')\n",
    "print(iris.iloc[37],'\\n')\n",
    "print('Entries are already correct.')\n",
    "..."
   ]
  },
  {
   "cell_type": "markdown",
   "id": "c272f152",
   "metadata": {},
   "source": [
    "<!-- END QUESTION -->\n",
    "\n",
    "<!-- BEGIN QUESTION -->\n",
    "\n",
    "**3(c)** The iris dataset is commonly used in machine learning as a\n",
    "        proving ground for clustering and classification algorithms.\n",
    "        Some researchers have found it useful to use two additional features,\n",
    "        called *Petal ratio* and *Sepal ratio*,\n",
    "        defined as the ratio of the petal length to petal width\n",
    "        and the ratio of the sepal length to sepal width, respectively.\n",
    "        Add two columns to your DataFrame corresponding to these two\n",
    "        new features.\n",
    "        Name these columns\n",
    "        `Petal.Ratio` and `Sepal.Ratio`, respectively."
   ]
  },
  {
   "cell_type": "code",
   "execution_count": 56,
   "id": "d7aae37e",
   "metadata": {
    "tags": []
   },
   "outputs": [
    {
     "data": {
      "text/html": [
       "<div>\n",
       "<style scoped>\n",
       "    .dataframe tbody tr th:only-of-type {\n",
       "        vertical-align: middle;\n",
       "    }\n",
       "\n",
       "    .dataframe tbody tr th {\n",
       "        vertical-align: top;\n",
       "    }\n",
       "\n",
       "    .dataframe thead th {\n",
       "        text-align: right;\n",
       "    }\n",
       "</style>\n",
       "<table border=\"1\" class=\"dataframe\">\n",
       "  <thead>\n",
       "    <tr style=\"text-align: right;\">\n",
       "      <th></th>\n",
       "      <th>Sepal.Length</th>\n",
       "      <th>Sepal.Width</th>\n",
       "      <th>Petal.Length</th>\n",
       "      <th>Petal.Width</th>\n",
       "      <th>Species</th>\n",
       "      <th>Petal.Ratio</th>\n",
       "      <th>Sepal.Ratio</th>\n",
       "    </tr>\n",
       "  </thead>\n",
       "  <tbody>\n",
       "    <tr>\n",
       "      <th>0</th>\n",
       "      <td>5.1</td>\n",
       "      <td>3.5</td>\n",
       "      <td>1.4</td>\n",
       "      <td>0.2</td>\n",
       "      <td>setosa</td>\n",
       "      <td>7.0</td>\n",
       "      <td>1.457143</td>\n",
       "    </tr>\n",
       "    <tr>\n",
       "      <th>1</th>\n",
       "      <td>4.9</td>\n",
       "      <td>3.0</td>\n",
       "      <td>1.4</td>\n",
       "      <td>0.2</td>\n",
       "      <td>setosa</td>\n",
       "      <td>7.0</td>\n",
       "      <td>1.633333</td>\n",
       "    </tr>\n",
       "    <tr>\n",
       "      <th>2</th>\n",
       "      <td>4.7</td>\n",
       "      <td>3.2</td>\n",
       "      <td>1.3</td>\n",
       "      <td>0.2</td>\n",
       "      <td>setosa</td>\n",
       "      <td>6.5</td>\n",
       "      <td>1.468750</td>\n",
       "    </tr>\n",
       "    <tr>\n",
       "      <th>3</th>\n",
       "      <td>4.6</td>\n",
       "      <td>3.1</td>\n",
       "      <td>1.5</td>\n",
       "      <td>0.2</td>\n",
       "      <td>setosa</td>\n",
       "      <td>7.5</td>\n",
       "      <td>1.483871</td>\n",
       "    </tr>\n",
       "    <tr>\n",
       "      <th>4</th>\n",
       "      <td>5.0</td>\n",
       "      <td>3.6</td>\n",
       "      <td>1.4</td>\n",
       "      <td>0.2</td>\n",
       "      <td>setosa</td>\n",
       "      <td>7.0</td>\n",
       "      <td>1.388889</td>\n",
       "    </tr>\n",
       "  </tbody>\n",
       "</table>\n",
       "</div>"
      ],
      "text/plain": [
       "   Sepal.Length  Sepal.Width  Petal.Length  Petal.Width Species  Petal.Ratio  \\\n",
       "0           5.1          3.5           1.4          0.2  setosa          7.0   \n",
       "1           4.9          3.0           1.4          0.2  setosa          7.0   \n",
       "2           4.7          3.2           1.3          0.2  setosa          6.5   \n",
       "3           4.6          3.1           1.5          0.2  setosa          7.5   \n",
       "4           5.0          3.6           1.4          0.2  setosa          7.0   \n",
       "\n",
       "   Sepal.Ratio  \n",
       "0     1.457143  \n",
       "1     1.633333  \n",
       "2     1.468750  \n",
       "3     1.483871  \n",
       "4     1.388889  "
      ]
     },
     "execution_count": 56,
     "metadata": {},
     "output_type": "execute_result"
    }
   ],
   "source": [
    "iris['Petal.Ratio'] = iris['Petal.Length'] / iris['Petal.Width']\n",
    "iris['Sepal.Ratio'] = iris['Sepal.Length'] / iris['Sepal.Width']\n",
    "iris.head()"
   ]
  },
  {
   "cell_type": "markdown",
   "id": "09abaf41",
   "metadata": {},
   "source": [
    "<!-- END QUESTION -->\n",
    "\n",
    "<!-- BEGIN QUESTION -->\n",
    "\n",
    "**3(d)** (2 pts)\n",
    "Use a pandas aggregate operation to determine the\n",
    "        mean, median, minimum, maximum and standard deviation of the\n",
    "        petal and sepal ratio for each of the three species in the data set.\n",
    "        **Note**: you should be able to get all five numbers in a single\n",
    "        table (indeed, in a single line of code)\n",
    "        using a well-chosen group-by or aggregate operation."
   ]
  },
  {
   "cell_type": "code",
   "execution_count": 57,
   "id": "cbecfc52",
   "metadata": {
    "tags": []
   },
   "outputs": [
    {
     "data": {
      "text/html": [
       "<div>\n",
       "<style scoped>\n",
       "    .dataframe tbody tr th:only-of-type {\n",
       "        vertical-align: middle;\n",
       "    }\n",
       "\n",
       "    .dataframe tbody tr th {\n",
       "        vertical-align: top;\n",
       "    }\n",
       "\n",
       "    .dataframe thead tr th {\n",
       "        text-align: left;\n",
       "    }\n",
       "\n",
       "    .dataframe thead tr:last-of-type th {\n",
       "        text-align: right;\n",
       "    }\n",
       "</style>\n",
       "<table border=\"1\" class=\"dataframe\">\n",
       "  <thead>\n",
       "    <tr>\n",
       "      <th></th>\n",
       "      <th colspan=\"5\" halign=\"left\">Petal.Ratio</th>\n",
       "      <th colspan=\"5\" halign=\"left\">Sepal.Ratio</th>\n",
       "    </tr>\n",
       "    <tr>\n",
       "      <th></th>\n",
       "      <th>mean</th>\n",
       "      <th>median</th>\n",
       "      <th>min</th>\n",
       "      <th>max</th>\n",
       "      <th>std</th>\n",
       "      <th>mean</th>\n",
       "      <th>median</th>\n",
       "      <th>min</th>\n",
       "      <th>max</th>\n",
       "      <th>std</th>\n",
       "    </tr>\n",
       "    <tr>\n",
       "      <th>Species</th>\n",
       "      <th></th>\n",
       "      <th></th>\n",
       "      <th></th>\n",
       "      <th></th>\n",
       "      <th></th>\n",
       "      <th></th>\n",
       "      <th></th>\n",
       "      <th></th>\n",
       "      <th></th>\n",
       "      <th></th>\n",
       "    </tr>\n",
       "  </thead>\n",
       "  <tbody>\n",
       "    <tr>\n",
       "      <th>setosa</th>\n",
       "      <td>6.908000</td>\n",
       "      <td>7.000000</td>\n",
       "      <td>2.666667</td>\n",
       "      <td>15.0</td>\n",
       "      <td>2.854545</td>\n",
       "      <td>1.470188</td>\n",
       "      <td>1.463063</td>\n",
       "      <td>1.268293</td>\n",
       "      <td>1.956522</td>\n",
       "      <td>0.118750</td>\n",
       "    </tr>\n",
       "    <tr>\n",
       "      <th>versicolor</th>\n",
       "      <td>3.242837</td>\n",
       "      <td>3.240385</td>\n",
       "      <td>2.666667</td>\n",
       "      <td>4.1</td>\n",
       "      <td>0.312456</td>\n",
       "      <td>2.160402</td>\n",
       "      <td>2.161290</td>\n",
       "      <td>1.764706</td>\n",
       "      <td>2.818182</td>\n",
       "      <td>0.228658</td>\n",
       "    </tr>\n",
       "    <tr>\n",
       "      <th>virginica</th>\n",
       "      <td>2.780662</td>\n",
       "      <td>2.666667</td>\n",
       "      <td>2.125000</td>\n",
       "      <td>4.0</td>\n",
       "      <td>0.407367</td>\n",
       "      <td>2.230453</td>\n",
       "      <td>2.169540</td>\n",
       "      <td>1.823529</td>\n",
       "      <td>2.961538</td>\n",
       "      <td>0.246992</td>\n",
       "    </tr>\n",
       "  </tbody>\n",
       "</table>\n",
       "</div>"
      ],
      "text/plain": [
       "           Petal.Ratio                                     Sepal.Ratio  \\\n",
       "                  mean    median       min   max       std        mean   \n",
       "Species                                                                  \n",
       "setosa        6.908000  7.000000  2.666667  15.0  2.854545    1.470188   \n",
       "versicolor    3.242837  3.240385  2.666667   4.1  0.312456    2.160402   \n",
       "virginica     2.780662  2.666667  2.125000   4.0  0.407367    2.230453   \n",
       "\n",
       "                                                    \n",
       "              median       min       max       std  \n",
       "Species                                             \n",
       "setosa      1.463063  1.268293  1.956522  0.118750  \n",
       "versicolor  2.161290  1.764706  2.818182  0.228658  \n",
       "virginica   2.169540  1.823529  2.961538  0.246992  "
      ]
     },
     "execution_count": 57,
     "metadata": {},
     "output_type": "execute_result"
    }
   ],
   "source": [
    "iris.groupby('Species').agg({'Petal.Ratio': ['mean', 'median', 'min', 'max', 'std'], 'Sepal.Ratio': ['mean', 'median', 'min', 'max', 'std']})"
   ]
  },
  {
   "cell_type": "markdown",
   "id": "f804d9f4",
   "metadata": {},
   "source": [
    "<!-- END QUESTION -->\n",
    "\n"
   ]
  },
  {
   "cell_type": "markdown",
   "id": "6e958f7d",
   "metadata": {
    "deletable": false,
    "editable": false
   },
   "source": [
    "---\n",
    "\n",
    "To double-check your work, the cell below will rerun all of the autograder tests."
   ]
  },
  {
   "cell_type": "code",
   "execution_count": 58,
   "id": "5b736da5",
   "metadata": {
    "deletable": false,
    "editable": false
   },
   "outputs": [
    {
     "data": {
      "text/plain": [
       "1a results: All test cases passed!\n",
       "\n",
       "1b results: All test cases passed!\n",
       "\n",
       "1c results: All test cases passed!\n",
       "\n",
       "1d results: All test cases passed!\n",
       "\n",
       "1e results: All test cases passed!\n",
       "\n",
       "2a results: All test cases passed!\n",
       "\n",
       "2b results: All test cases passed!\n",
       "\n",
       "2c results: All test cases passed!\n",
       "\n",
       "2d results: All test cases passed!"
      ]
     },
     "execution_count": 58,
     "metadata": {},
     "output_type": "execute_result"
    }
   ],
   "source": [
    "grader.check_all()"
   ]
  },
  {
   "cell_type": "markdown",
   "id": "9e58a1c4",
   "metadata": {
    "deletable": false,
    "editable": false
   },
   "source": [
    "## Submission\n",
    "\n",
    "Make sure you have run all cells in your notebook in order before running the cell below, so that all images/graphs appear in the output. The cell below will generate a zip file for you to submit. **Please save before exporting!**\n",
    "\n",
    "Upload this .zip file to Gradescope for grading."
   ]
  },
  {
   "cell_type": "code",
   "execution_count": 59,
   "id": "e4cd5526",
   "metadata": {
    "deletable": false,
    "editable": false
   },
   "outputs": [
    {
     "data": {
      "text/html": [
       "\n",
       "            <p>Your submission has been exported. Click <a href=\"ps6_2022_02_19T18_46_54_713107.zip\" download=\"ps6_2022_02_19T18_46_54_713107.zip\" target=\"_blank\">here</a>\n",
       "            to download the zip file.</p>\n",
       "            "
      ],
      "text/plain": [
       "<IPython.core.display.HTML object>"
      ]
     },
     "metadata": {},
     "output_type": "display_data"
    }
   ],
   "source": [
    "# Save your notebook first, then run this cell to export your submission.\n",
    "grader.export(pdf=False)"
   ]
  },
  {
   "cell_type": "markdown",
   "id": "f80b778f",
   "metadata": {},
   "source": [
    " "
   ]
  }
 ],
 "metadata": {
  "kernelspec": {
   "display_name": "Python 3",
   "language": "python",
   "name": "python3"
  },
  "language_info": {
   "codemirror_mode": {
    "name": "ipython",
    "version": 3
   },
   "file_extension": ".py",
   "mimetype": "text/x-python",
   "name": "python",
   "nbconvert_exporter": "python",
   "pygments_lexer": "ipython3",
   "version": "3.8.8"
  },
  "otter": {
   "tests": {
    "1a": {
     "name": "1a",
     "points": 3,
     "suites": [
      {
       "cases": [
        {
         "code": ">>> A = np.eye(5)\n>>> np.testing.assert_allclose(distinct_rows_np(A), np.empty([0, 5]))\n",
         "hidden": false,
         "locked": false
        },
        {
         "code": ">>> A = np.array([[1, 2, 3], [4, 4, 4], [5, 6, 6]])\n>>> np.testing.assert_allclose(distinct_rows_np(A), np.array([[1, 2, 3]]))\n",
         "hidden": false,
         "locked": false
        }
       ],
       "scored": true,
       "setup": "",
       "teardown": "",
       "type": "doctest"
      }
     ]
    },
    "1b": {
     "name": "1b",
     "points": 3,
     "suites": [
      {
       "cases": [
        {
         "code": ">>> np.testing.assert_allclose(sliding_stack_np(np.array([1, 2, 3, 4, 5]), 3), np.array([[1, 2, 3],[2, 3, 4],[3, 4, 5]]))\n",
         "hidden": false,
         "locked": false
        },
        {
         "code": ">>> np.testing.assert_allclose(sliding_stack_np(np.array([1, 2, 3, 4, 5]), 5), np.array([[1, 2, 3, 4, 5]]))\n",
         "hidden": false,
         "locked": false
        }
       ],
       "scored": true,
       "setup": "",
       "teardown": "",
       "type": "doctest"
      }
     ]
    },
    "1c": {
     "name": "1c",
     "points": 3,
     "suites": [
      {
       "cases": [
        {
         "code": ">>> v = np.array([0, 0, 1, 1, 2, 2, 2, 3, 4])\n>>> np.testing.assert_allclose(digit_count_np(v), np.array([2, 2, 3, 1, 1]))\n",
         "hidden": false,
         "locked": false
        },
        {
         "code": ">>> v = np.array([0, 0, 0, 0, 2, 2, 2, 3, 4])\n>>> np.testing.assert_allclose(digit_count_np(v), np.array([4, 0, 3, 1, 1]))\n",
         "hidden": false,
         "locked": false
        }
       ],
       "scored": true,
       "setup": "",
       "teardown": "",
       "type": "doctest"
      }
     ]
    },
    "1d": {
     "name": "1d",
     "points": 3,
     "suites": [
      {
       "cases": [
        {
         "code": ">>> cs_matrix = np.array([[ 4,  3,  2,  1,  0], [ 8,  7,  6,  5,  1], [11, 10,  9,  6,  2], [13, 12, 10,  7,  3], [14, 13, 11,  8,  4]])\n>>> is_countersym_np(cs_matrix)\nTrue",
         "hidden": false,
         "locked": false
        },
        {
         "code": ">>> cs_matrix = np.array([[ 4,  3,  2,  1,  0], [ 8,  7,  5,  5,  1], [11, 10,  9,  6,  2], [13, 12, 10,  7,  3], [14, 13, 11,  8,  4]])\n>>> is_countersym_np(cs_matrix)\nFalse",
         "hidden": false,
         "locked": false
        }
       ],
       "scored": true,
       "setup": "",
       "teardown": "",
       "type": "doctest"
      }
     ]
    },
    "1e": {
     "name": "1e",
     "points": 5,
     "suites": [
      {
       "cases": [
        {
         "code": ">>> good_board_3x3 = [   \n...         [3, 1, 6, 2, 4, 9, 7, 8, 5],\n...         [2, 7, 8, 3, 6, 5, 9, 1, 4],\n...         [4, 9, 5, 7, 8, 1, 6, 2, 3],\n...         [8, 5, 1, 9, 7, 4, 3, 6, 2],\n...         [9, 2, 3, 8, 1, 6, 4, 5, 7],\n...         [6, 4, 7, 5, 3, 2, 1, 9, 8],\n...         [7, 6, 2, 1, 5, 3, 8, 4, 9],\n...         [1, 3, 9, 4, 2, 8, 5, 7, 6],\n...         [5, 8, 4, 6, 9, 7, 2, 3, 1]]\n>>> sudoku_win_np(np.array(good_board_3x3, dtype=int))\nTrue",
         "hidden": false,
         "locked": false
        },
        {
         "code": ">>> bad_board_3x3 = np.arange(81).reshape(9, 9)\n>>> sudoku_win_np(bad_board_3x3)\nFalse",
         "hidden": false,
         "locked": false
        },
        {
         "code": ">>> bad_board_2x2 = np.array([[1, 1, 2, 4], [2, 4, 3, 1], [4, 2, 1, 3], [1, 3, 4, 2]])\n>>> sudoku_win_np(bad_board_2x2)\nFalse",
         "hidden": false,
         "locked": false
        }
       ],
       "scored": true,
       "setup": "",
       "teardown": "",
       "type": "doctest"
      }
     ]
    },
    "2a": {
     "name": "2a",
     "points": 3,
     "suites": [
      {
       "cases": [
        {
         "code": ">>> ans = np.array([0, 0, 0, 0, 1, 1, 1, 2, 2, 2])\n>>> X = np.array([[-1], [0.5], [1], [1.3], [1.6], [2], [2.3], [2.7], [3], [100]])\n>>> C = np.array([[1], [2], [3]])\n>>> np.testing.assert_allclose(nearest_cluster(X, C), ans)\n",
         "hidden": false,
         "locked": false
        },
        {
         "code": ">>> X = np.array([[-101, 1], [1,1], [1, 1.01], [1.5, 1.6], [2.5, -3], [2.5, 2.7], [3, 33]])\n>>> C = np.array([[1, 1], [2,2], [3,3]])\n>>> ans = np.array([0, 0, 0, 1, 0, 2, 2])\n>>> np.testing.assert_allclose(nearest_cluster(X, C), ans)\n",
         "hidden": false,
         "locked": false
        }
       ],
       "scored": true,
       "setup": "",
       "teardown": "",
       "type": "doctest"
      }
     ]
    },
    "2b": {
     "name": "2b",
     "points": 3,
     "suites": [
      {
       "cases": [
        {
         "code": ">>> import numpy as np\n>>> np.random.seed(1)\n>>> X = np.random.rand(30, 2)\n>>> a = np.random.randint(0, 5, size=30)\n>>> assert compute_centroids(X, a).shape == (5, 2)\n>>> assert np.allclose(X[a == 0].mean(axis=0), compute_centroids(X, a)[0])\n",
         "hidden": false,
         "locked": false
        }
       ],
       "scored": true,
       "setup": "",
       "teardown": "",
       "type": "doctest"
      }
     ]
    },
    "2c": {
     "name": "2c",
     "points": 5,
     "suites": [
      {
       "cases": [
        {
         "code": ">>> import numpy as np\n>>> \n>>> np.random.seed(1)\n>>> X = np.random.rand(30, 4)\n>>> k = 2\n>>> rng = np.random.default_rng(12345)\n>>> assert kmeanspp(X, k, rng).shape == (2, 4)\n>>> ans = np.array([[0.87638915, 0.89460666, 0.08504421, 0.03905478], [0.6634415 , 0.62169572, 0.11474597, 0.94948926]])\n>>> np.testing.assert_allclose(kmeanspp(X, k, rng), ans)\n",
         "hidden": false,
         "locked": false
        }
       ],
       "scored": true,
       "setup": "",
       "teardown": "",
       "type": "doctest"
      }
     ]
    },
    "2d": {
     "name": "2d",
     "points": 2,
     "suites": [
      {
       "cases": [
        {
         "code": ">>> X = np.arange(9).reshape(3, 3)\n>>> a = np.arange(3)\n>>> C = 2 + X\n>>> np.testing.assert_allclose(V(X, a, C), 36)\n",
         "hidden": false,
         "locked": false
        }
       ],
       "scored": true,
       "setup": "",
       "teardown": "",
       "type": "doctest"
      }
     ]
    }
   }
  }
 },
 "nbformat": 4,
 "nbformat_minor": 5
}
