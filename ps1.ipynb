{
 "cells": [
  {
   "cell_type": "code",
   "execution_count": 474,
   "metadata": {
    "deletable": false,
    "editable": false
   },
   "outputs": [],
   "source": [
    "# Initialize Otter\n",
    "import otter\n",
    "grader = otter.Notebook(\"ps1.ipynb\")"
   ]
  },
  {
   "cell_type": "markdown",
   "metadata": {},
   "source": [
    "# STATS 507 W22\n",
    "## Problem Set 1\n",
    "We'll be using the `math` module a few times:"
   ]
  },
  {
   "cell_type": "code",
   "execution_count": 475,
   "metadata": {},
   "outputs": [],
   "source": [
    "import math"
   ]
  },
  {
   "cell_type": "markdown",
   "metadata": {},
   "source": [
    "All functions will be tested by visible as well as hidden tests. The maximum amount of time any function is allowed to run is 10 seconds."
   ]
  },
  {
   "cell_type": "markdown",
   "metadata": {},
   "source": [
    "### Question 1: Euclid's algorithm \n",
    "Euclid's algorithm (<https://en.wikipedia.org/wiki/Euclidean_algorithm>)\n",
    "is a method for finding the greatest common divisor (GCD) of two\n",
    "numbers. Recall that the GCD of two numbers $m$ and $n$ is the largest\n",
    "number that divides both $m$ and $n$."
   ]
  },
  {
   "cell_type": "markdown",
   "metadata": {},
   "source": [
    "**1(a)** (4 pts.) The Wikipedia page above includes several pseudocode implementations\n",
    "    of Euclid's algorithm. Choose one of these, and use it to implement\n",
    "    a function `gcd(m,n)`, which takes two integers as its arguments and\n",
    "    returns their GCD. You may assume that both inputs are integers, so\n",
    "    there is no need to include any error checking in your function. \n",
    "    \n",
    "   **Note**: There are many existing library functions, such as `math.gcd()`, available for calculating this. Do not use them: your job is to implement this function by hand."
   ]
  },
  {
   "cell_type": "code",
   "execution_count": 476,
   "metadata": {
    "tags": []
   },
   "outputs": [],
   "source": [
    "def gcd(m, n):\n",
    "    \"Returns the greatest common divisor of integers m and n.\"\n",
    "    if n == 0:\n",
    "        return m\n",
    "    else:\n",
    "        return max(gcd(n, m % n),-gcd(n, m % n))\n",
    "    ..."
   ]
  },
  {
   "cell_type": "code",
   "execution_count": 477,
   "metadata": {
    "deletable": false,
    "editable": false
   },
   "outputs": [
    {
     "data": {
      "text/html": [
       "<p><strong><pre style='display: inline;'>q1a</pre></strong> passed!</p>"
      ],
      "text/plain": [
       "q1a results: All test cases passed!"
      ]
     },
     "execution_count": 477,
     "metadata": {},
     "output_type": "execute_result"
    }
   ],
   "source": [
    "grader.check(\"q1a\")"
   ]
  },
  {
   "cell_type": "markdown",
   "metadata": {},
   "source": [
    "<!-- BEGIN QUESTION -->\n",
    "\n",
    "**1(b)** (1 pt.) What does your function do if one or both of its arguments are negative? Does this behavior make sense?"
   ]
  },
  {
   "cell_type": "markdown",
   "metadata": {},
   "source": [
    "For Euclidian division it does not make sense we should only allow non-negative values. But with the code above, we can use negative values in the same way."
   ]
  },
  {
   "cell_type": "markdown",
   "metadata": {},
   "source": [
    "<!-- END QUESTION -->\n",
    "\n",
    "### Question 2: Approximating $e$\n",
    "The base of the natural logarithm, $e$, is typically defined as the\n",
    "infinite sum \n",
    "$$\n",
    "e = \\sum_{k=0}^\\infty \\frac{1}{k!}\n",
    "= 1 + 1 + \\frac{1}{2} + \\frac{1}{6} + \\frac{1}{24} + \\dots,$$ where $k!$ denotes the factorial of $k$,\n",
    "$$k! = k \\cdot (k-1) \\cdot (k-2) \\cdot \\dots \\cdot 3 \\cdot 2 \\cdot 1,$$ where we define $0!=1$ by convention. For more on Euler's number, see\n",
    "<https://en.wikipedia.org/wiki/E_(mathematical_constant)>. In this\n",
    "problem, we will explore different approaches to approximating this\n",
    "number.\n"
   ]
  },
  {
   "cell_type": "markdown",
   "metadata": {
    "jp-MarkdownHeadingCollapsed": true,
    "tags": []
   },
   "source": [
    "**2(a)** (2 pts.) An early characterization of Euler's number, due to Jacob Bernoulli,\n",
    "    was as the limit\n",
    "    $$e = \\lim_{x\\to\\infty} \\left(1 + \\frac{1}{x}\\right)^x.$$ Define a function called `e_limit(n)` that takes as an argument an integer $n$, and returns a `float` that approximates $e$ by taking $x=n$ in the above equation. You may assume that the input to your function will be a positive integer (of course, your function will still run just fine if $n$ is, say, a positive float, but we will only use integer values in what follows)."
   ]
  },
  {
   "cell_type": "code",
   "execution_count": 478,
   "metadata": {
    "tags": []
   },
   "outputs": [],
   "source": [
    "def e_limit(n):\n",
    "    \"Approximates Euler's number using the limit definition.\"\n",
    "    e = (1+1/n)**n\n",
    "    return e\n",
    "    ..."
   ]
  },
  {
   "cell_type": "code",
   "execution_count": 479,
   "metadata": {
    "deletable": false,
    "editable": false
   },
   "outputs": [
    {
     "data": {
      "text/html": [
       "<p><strong><pre style='display: inline;'>q2a</pre></strong> passed!</p>"
      ],
      "text/plain": [
       "q2a results: All test cases passed!"
      ]
     },
     "execution_count": 479,
     "metadata": {},
     "output_type": "execute_result"
    }
   ],
   "source": [
    "grader.check(\"q2a\")"
   ]
  },
  {
   "cell_type": "markdown",
   "metadata": {
    "jp-MarkdownHeadingCollapsed": true,
    "tags": []
   },
   "source": [
    "<!-- BEGIN QUESTION -->\n",
    "\n",
    "**2(b)** (1 pt.) What happens when you call `e_lim(n)` for really huge values of `n` (say,\n",
    "    $10^{16}$ or $10^{18}$)? Why does this happen? **Hint:** the answer\n",
    "    has to do with floating point arithmetic. Think about how $1/n$ is\n",
    "    represented on your computer when $n$ is big."
   ]
  },
  {
   "cell_type": "markdown",
   "metadata": {},
   "source": [
    "The function will return 1.0 because the computer will represent 1/n as 0 as it currently doesn't have memory to store 1/(10^18) number and considers it a zero.\n",
    "Honestly I believe that better implementation of this function is to use a while loop like this:\n",
    "```\n",
    "def e_limit(n):\n",
    "    \"Approximates Euler's number using the limit definition.\"\n",
    "    while n < 1000000:\n",
    "        e = (1+1/n)**n\n",
    "        n = n+1\n",
    "    return e\n",
    "```\n",
    "and make an exception for larger numbers that n will increase by larger increments."
   ]
  },
  {
   "cell_type": "markdown",
   "metadata": {
    "jp-MarkdownHeadingCollapsed": true,
    "tags": []
   },
   "source": [
    "<!-- END QUESTION -->\n",
    "\n",
    "**2(c)** (2 pts.) Define a function called `e_series` that takes a single non-negative integer\n",
    "    argument `n`, and returns an approximation to $e$ based on the first\n",
    "    `n` terms of the infinite sum shown above. Your function should return a float. You may again assume that the input will be a non-negative integer, so you do not need to include error checking in your function. As an example, `e_series(4)` should return the sum of the first four terms the series, i.e. $1 + 1 + 1/2 + 1/6 \\approx 2.667$. \n",
    "\n",
    "Notes:\n",
    "\n",
    "- The sum the equation starts counting with $k=0$ (i.e., it is \"$0$-indexed\"), while our function starts counting with $n=1$ (i.e., it is \"$1$-indexed\"). `e_series(1)` should use *one* term, so that `e_series(1) == 1`. Similarly, `e_series(0)` should return $0$, since by convention an empty sum is equal to zero.\n",
    "- You may use the function `math.factorial(k)` to compute $k!$, but I\n",
    "    recommend, for the sake of practice, implementing the factorial\n",
    "    function yourself, as it is a nice example of a problem that is\n",
    "    easily solved with recursion."
   ]
  },
  {
   "cell_type": "code",
   "execution_count": 480,
   "metadata": {
    "tags": []
   },
   "outputs": [],
   "source": [
    "def e_series(n):\n",
    "    \"Approximates Euler's number using the series definition.\"\n",
    "    e = 0\n",
    "    for i in range(n):\n",
    "        e = e + 1/math.factorial(i)\n",
    "    return e\n",
    "    ..."
   ]
  },
  {
   "cell_type": "code",
   "execution_count": 481,
   "metadata": {
    "deletable": false,
    "editable": false
   },
   "outputs": [
    {
     "data": {
      "text/html": [
       "<p><strong><pre style='display: inline;'>q2c</pre></strong> passed!</p>"
      ],
      "text/plain": [
       "q2c results: All test cases passed!"
      ]
     },
     "execution_count": 481,
     "metadata": {},
     "output_type": "execute_result"
    }
   ],
   "source": [
    "grader.check(\"q2c\")"
   ]
  },
  {
   "cell_type": "markdown",
   "metadata": {
    "jp-MarkdownHeadingCollapsed": true,
    "tags": []
   },
   "source": [
    "**2(d)** (2 pts.) Define a function called `error_table(N)` takes a single positive\n",
    "    integer `N` as an argument and returns a data structure containing the _relative_ error between the\n",
    "    approximations given by, respectively, `e_limit` and `e_series`. `error_table(N)` should return a\n",
    "    list of length $N$. The $k$-th entry of the list, `error_table(N)[k]`, should be a `dict` with two keys, `err_limit` and `err_series`, giving the relative errors for each approach when $n=k+1$:\n",
    "```\n",
    ">>> error_table(1)\n",
    "[{'err_limit': 0.26424111765711533, 'err_series': 0.6321205588285577}]\n",
    "```\n",
    "(The first entry of the list is shown.)\n",
    "**Note**: the true value of $e$, accurate to machine precision, can be obtained as `math.e`."
   ]
  },
  {
   "cell_type": "code",
   "execution_count": 482,
   "metadata": {
    "tags": []
   },
   "outputs": [],
   "source": [
    "def error_table(N):\n",
    "    \"Table of relative errors for e_limit(k) and e_series(k) for k=1,...,N.\"\n",
    "    err_tab = []\n",
    "    for i in range(N):\n",
    "        err_limit = (math.e-e_limit(i+1))/math.e\n",
    "        err_series = (math.e-e_series(i+1))/math.e\n",
    "        err_tab.append({'err_limit': err_limit, 'err_series': err_series})\n",
    "    return err_tab\n",
    "    ..."
   ]
  },
  {
   "cell_type": "code",
   "execution_count": 483,
   "metadata": {
    "deletable": false,
    "editable": false
   },
   "outputs": [
    {
     "data": {
      "text/html": [
       "<p><strong><pre style='display: inline;'>q2d</pre></strong> passed!</p>"
      ],
      "text/plain": [
       "q2d results: All test cases passed!"
      ]
     },
     "execution_count": 483,
     "metadata": {},
     "output_type": "execute_result"
    }
   ],
   "source": [
    "grader.check(\"q2d\")"
   ]
  },
  {
   "cell_type": "markdown",
   "metadata": {
    "jp-MarkdownHeadingCollapsed": true,
    "tags": []
   },
   "source": [
    "<!-- BEGIN QUESTION -->\n",
    "\n",
    "**2(e)** (1 pt.) Judging from the table, which approximation method is better? Why do you think this is?"
   ]
  },
  {
   "cell_type": "markdown",
   "metadata": {},
   "source": [
    "err_series approximation method is better as it has smaller relative error. It happens because it is a numerical/iterative approximation rather than an analytical/empirical appx, in which we include more steps to ensure we are as close to the number as possible."
   ]
  },
  {
   "cell_type": "markdown",
   "metadata": {},
   "source": [
    "<!-- END QUESTION -->\n",
    "\n",
    "### Question 3: Testing properties of an integer\n",
    "In this problem, you'll get a bit more practice working with\n",
    "conditionals, and a first exposure to the kind of thinking that is\n",
    "required in a typical \"coding interview\" question. A positive integer\n",
    "$n$ is a *power of $2$* if $n = 2^p$ for some integer $p \\ge 0$."
   ]
  },
  {
   "cell_type": "markdown",
   "metadata": {
    "jp-MarkdownHeadingCollapsed": true,
    "tags": []
   },
   "source": [
    "**3(a)** (2 pts.) Using only the division and modulus (`%`)\n",
    "    operators, write a function `is_pow_2(n)` that takes a positive integer $n$ as its only\n",
    "    argument and returns a `bool` indicating whether or not the input\n",
    "    is a power of 2. You may assume that the input is a positive\n",
    "    integer. **Hint:** the simplest solution to this problem makes\n",
    "    use of recursion, though recursion is not necessary."
   ]
  },
  {
   "cell_type": "code",
   "execution_count": 541,
   "metadata": {
    "tags": []
   },
   "outputs": [],
   "source": [
    "def is_pow_2(n):\n",
    "    \"Returns True if n = 2 ** p for some integer p >= 0.\"\n",
    "    while n != 1: \n",
    "        if n % 2 == 0: \n",
    "            n = n / 2\n",
    "        else:\n",
    "            return False\n",
    "    return True\n",
    "    ..."
   ]
  },
  {
   "cell_type": "code",
   "execution_count": 542,
   "metadata": {
    "deletable": false,
    "editable": false
   },
   "outputs": [
    {
     "data": {
      "text/html": [
       "<p><strong><pre style='display: inline;'>q3a</pre></strong> passed!</p>"
      ],
      "text/plain": [
       "q3a results: All test cases passed!"
      ]
     },
     "execution_count": 542,
     "metadata": {},
     "output_type": "execute_result"
    }
   ],
   "source": [
    "grader.check(\"q3a\")"
   ]
  },
  {
   "cell_type": "markdown",
   "metadata": {
    "jp-MarkdownHeadingCollapsed": true,
    "tags": []
   },
   "source": [
    "**3(b)** (2 pts.)\n",
    "Generalize your previous solution to a function `is_pow_k` that takes two\n",
    "    positive integers $n$ and $k$ as its arguments, in that order, and\n",
    "    returns `True` if `n` is a power of `k`\n",
    "    and `False` otherwise."
   ]
  },
  {
   "cell_type": "code",
   "execution_count": 553,
   "metadata": {
    "tags": []
   },
   "outputs": [
    {
     "data": {
      "text/plain": [
       "1"
      ]
     },
     "execution_count": 553,
     "metadata": {},
     "output_type": "execute_result"
    }
   ],
   "source": [
    "def is_pow_k(n, k):\n",
    "    \"Returns True if n == k ** p for some integer p >= 0.\"\n",
    "    if k == 1:\n",
    "        return n\n",
    "    while n != 1 or 0: \n",
    "        if n % k == 0:\n",
    "            n = n / k\n",
    "        else:\n",
    "            return False\n",
    "    return True\n",
    "    ...\n",
    "\n",
    "is_pow_k(1,1)"
   ]
  },
  {
   "cell_type": "code",
   "execution_count": 544,
   "metadata": {
    "deletable": false,
    "editable": false
   },
   "outputs": [
    {
     "data": {
      "text/html": [
       "<p><strong><pre style='display: inline;'>q3b</pre></strong> passed!</p>"
      ],
      "text/plain": [
       "q3b results: All test cases passed!"
      ]
     },
     "execution_count": 544,
     "metadata": {},
     "output_type": "execute_result"
    }
   ],
   "source": [
    "grader.check(\"q3b\")"
   ]
  },
  {
   "cell_type": "markdown",
   "metadata": {},
   "source": [
    "### Question 4: Root finding and minimization\n",
    "Recall that a *root* $r$ of a function $f:\\mathbb{R}\\to\\mathbb{R}$ satisfies $f(r)=0$. The [bisection method](https://en.wikipedia.org/wiki/Bisection_method) is a generic algorithm for finding the root of a continuous, real-valued function. "
   ]
  },
  {
   "cell_type": "markdown",
   "metadata": {
    "jp-MarkdownHeadingCollapsed": true,
    "tags": []
   },
   "source": [
    "**4(a)** (4 pts.) Write a function `find_root(f, a, b)` which uses the bisection method to locate a root of the function $f$ on the interval $[a,b]$. Here, $f$ is a Python function which accepts a single float, and returns a float (i.e., a real-valued function of one variable.) You may assume that $f$ is continuous and that $f(a)$ and $f(b)$ have different signs, that is, `sgn(f(a)) != sgn(f(b))` where `sgn(x)` is the sign function:"
   ]
  },
  {
   "cell_type": "code",
   "execution_count": 545,
   "metadata": {},
   "outputs": [],
   "source": [
    "def sgn(x):\n",
    "    if x < 0:\n",
    "        return -1\n",
    "    if x > 0:\n",
    "        return 1\n",
    "    return 0"
   ]
  },
  {
   "cell_type": "markdown",
   "metadata": {},
   "source": [
    "(**Note**: due to finite precision issues mentioned above, your algorithm may not find an exact root of $f$, i.e. a number such that `f(r) == 0.0`. We will say that $r$ is a root if $|f(r)|<10^{-16}$.)"
   ]
  },
  {
   "cell_type": "code",
   "execution_count": 546,
   "metadata": {
    "tags": []
   },
   "outputs": [],
   "source": [
    "def find_root(f, a, b):\n",
    "    \"Find a root of f(x) in the interval [a, b], assuming that sgn(f(a)) != sgn(f(b)).\"\n",
    "    n = 1\n",
    "    while n <= 100:\n",
    "        c = (a + b)/2\n",
    "        if f(c) == 0 or (b - a)/2 < 1e-16:\n",
    "            break\n",
    "        if sgn(f(c)) == sgn(f(a)):\n",
    "            a = c\n",
    "        else:\n",
    "            b = c\n",
    "        n = n+1\n",
    "    return c\n",
    "    ..."
   ]
  },
  {
   "cell_type": "markdown",
   "metadata": {
    "deletable": false,
    "editable": false,
    "tags": []
   },
   "source": [
    "### grader.check(\"q4a\")"
   ]
  },
  {
   "cell_type": "markdown",
   "metadata": {
    "jp-MarkdownHeadingCollapsed": true,
    "tags": []
   },
   "source": [
    "<!-- BEGIN QUESTION -->\n",
    "\n",
    "**4(b)** (2 pts.) Suppose that $f:[a,b]\\to\\mathbb{R}$ is a strictly convex and continuously differentiable function. Let $x^*\\in [a,b]$ be such that $f(x^*) \\le f(x)$ for all $x\\in[a,b]$. Explain using calculus how to use the root finding algorithm you implemented above to find $x^*$."
   ]
  },
  {
   "cell_type": "markdown",
   "metadata": {},
   "source": [
    "I can firstly derive the function and then find its square root, which will return the minimum of the original function. Minimum of the function will always satisfy the above equation."
   ]
  },
  {
   "cell_type": "markdown",
   "metadata": {
    "jp-MarkdownHeadingCollapsed": true,
    "tags": []
   },
   "source": [
    "<!-- END QUESTION -->\n",
    "\n",
    "**4(c)** (4 pts.) Write a function `minimize(f_prime, a, b)` that minimizes a function $f$ satisfying the assumptions of the previous question. Here `f_prime` is a function that returns the derivative of $f$ evaluated at the point $x$."
   ]
  },
  {
   "cell_type": "code",
   "execution_count": 547,
   "metadata": {
    "tags": []
   },
   "outputs": [],
   "source": [
    "def minimize(f_prime, a, b):\n",
    "    \"\"\"\n",
    "    Minimizes the convex function f over the interval [a,b].\n",
    "    \n",
    "    Args:\n",
    "        f_prime: a function representing the (continuous) derivative of f.\n",
    "        a, b: interval on which f is defined.\n",
    "        \n",
    "    Returns:\n",
    "        The point x at which f is minimized.\n",
    "    \"\"\"\n",
    "    min = find_root(f_prime, a, b)\n",
    "    return min\n",
    "    ..."
   ]
  },
  {
   "cell_type": "code",
   "execution_count": 548,
   "metadata": {
    "deletable": false,
    "editable": false
   },
   "outputs": [
    {
     "data": {
      "text/html": [
       "<p><strong><pre style='display: inline;'>q4c</pre></strong> passed!</p>"
      ],
      "text/plain": [
       "q4c results: All test cases passed!"
      ]
     },
     "execution_count": 548,
     "metadata": {},
     "output_type": "execute_result"
    }
   ],
   "source": [
    "grader.check(\"q4c\")"
   ]
  },
  {
   "cell_type": "markdown",
   "metadata": {
    "deletable": false,
    "editable": false
   },
   "source": [
    "---\n",
    "\n",
    "To double-check your work, the cell below will rerun all of the autograder tests."
   ]
  },
  {
   "cell_type": "code",
   "execution_count": 549,
   "metadata": {
    "deletable": false,
    "editable": false
   },
   "outputs": [
    {
     "data": {
      "text/plain": [
       "q1a results: All test cases passed!\n",
       "\n",
       "q2a results: All test cases passed!\n",
       "\n",
       "q2c results: All test cases passed!\n",
       "\n",
       "q2d results: All test cases passed!\n",
       "\n",
       "q3a results: All test cases passed!\n",
       "\n",
       "q3b results: All test cases passed!\n",
       "\n",
       "q4a results: All test cases passed!\n",
       "\n",
       "q4c results: All test cases passed!"
      ]
     },
     "execution_count": 549,
     "metadata": {},
     "output_type": "execute_result"
    }
   ],
   "source": [
    "grader.check_all()"
   ]
  },
  {
   "cell_type": "markdown",
   "metadata": {
    "deletable": false,
    "editable": false
   },
   "source": [
    "## Submission\n",
    "\n",
    "Make sure you have run all cells in your notebook in order before running the cell below, so that all images/graphs appear in the output. The cell below will generate a zip file for you to submit. **Please save before exporting!**\n",
    "\n",
    "Upload this .zip file to Gradescope for grading."
   ]
  },
  {
   "cell_type": "code",
   "execution_count": 550,
   "metadata": {
    "deletable": false,
    "editable": false
   },
   "outputs": [
    {
     "data": {
      "text/html": [
       "\n",
       "            <p>Your submission has been exported. Click <a href=\"ps1_2022_01_12T19_27_19_399486.zip\" download=\"ps1_2022_01_12T19_27_19_399486.zip\" target=\"_blank\">here</a>\n",
       "            to download the zip file.</p>\n",
       "            "
      ],
      "text/plain": [
       "<IPython.core.display.HTML object>"
      ]
     },
     "metadata": {},
     "output_type": "display_data"
    }
   ],
   "source": [
    "# Save your notebook first, then run this cell to export your submission.\n",
    "grader.export(pdf=False)"
   ]
  },
  {
   "cell_type": "markdown",
   "metadata": {},
   "source": [
    " "
   ]
  }
 ],
 "metadata": {
  "kernelspec": {
   "display_name": "Python 3",
   "language": "python",
   "name": "python3"
  },
  "language_info": {
   "codemirror_mode": {
    "name": "ipython",
    "version": 3
   },
   "file_extension": ".py",
   "mimetype": "text/x-python",
   "name": "python",
   "nbconvert_exporter": "python",
   "pygments_lexer": "ipython3",
   "version": "3.8.8"
  },
  "otter": {
   "tests": {
    "q1a": {
     "name": "q1a",
     "points": 4,
     "suites": [
      {
       "cases": [
        {
         "code": ">>> gcd(0, 0) == 0\nTrue",
         "hidden": false,
         "locked": false
        },
        {
         "code": ">>> for m in range(1, 10):\n...     assert gcd(0, m) == m\n",
         "hidden": false,
         "locked": false
        },
        {
         "code": ">>> gcd(1, 1) == 1\nTrue",
         "hidden": false,
         "locked": false
        },
        {
         "code": ">>> for m in range(-10, 10):\n...     assert gcd(m, 1) == 1\n...     assert gcd(m, 2) == 2 - (m % 2)\n",
         "hidden": false,
         "locked": false
        }
       ],
       "scored": true,
       "setup": "",
       "teardown": "",
       "type": "doctest"
      }
     ]
    },
    "q2a": {
     "name": "q2a",
     "points": 2,
     "suites": [
      {
       "cases": [
        {
         "code": ">>> e_limit(1) == 2.\nTrue",
         "hidden": false,
         "locked": false
        },
        {
         "code": ">>> e_limit(2) == 2.25\nTrue",
         "hidden": false,
         "locked": false
        }
       ],
       "scored": true,
       "setup": "",
       "teardown": "",
       "type": "doctest"
      }
     ]
    },
    "q2c": {
     "name": "q2c",
     "points": 2,
     "suites": [
      {
       "cases": [
        {
         "code": ">>> e_series(0) == 0\nTrue",
         "hidden": false,
         "locked": false
        },
        {
         "code": ">>> e_series(1) == 1.\nTrue",
         "hidden": false,
         "locked": false
        }
       ],
       "scored": true,
       "setup": "",
       "teardown": "",
       "type": "doctest"
      }
     ]
    },
    "q2d": {
     "name": "q2d",
     "points": 2,
     "suites": [
      {
       "cases": [
        {
         "code": ">>> for k in range(1, 5, 10):\n...     assert len(error_table(k)) == k\n",
         "hidden": false,
         "locked": false
        },
        {
         "code": ">>> assert abs(error_table(1)[0]['err_limit'] - 0.26424111765711533) < 1e-6\n>>> assert abs(error_table(1)[0]['err_series'] - 0.6321205588285577) < 1e-6\n",
         "hidden": false,
         "locked": false
        }
       ],
       "scored": true,
       "setup": "",
       "teardown": "",
       "type": "doctest"
      }
     ]
    },
    "q3a": {
     "name": "q3a",
     "points": 2,
     "suites": [
      {
       "cases": [
        {
         "code": ">>> is_pow_2(2) == True\nTrue",
         "hidden": false,
         "locked": false
        },
        {
         "code": ">>> is_pow_2(1) == True\nTrue",
         "hidden": false,
         "locked": false
        }
       ],
       "scored": true,
       "setup": "",
       "teardown": "",
       "type": "doctest"
      }
     ]
    },
    "q3b": {
     "name": "q3b",
     "points": 2,
     "suites": [
      {
       "cases": [
        {
         "code": ">>> for k in range(1, 20):\n...     assert is_pow_k(k, k)\n",
         "hidden": false,
         "locked": false
        }
       ],
       "scored": true,
       "setup": "",
       "teardown": "",
       "type": "doctest"
      }
     ]
    },
    "q4a": {
     "name": "q4a",
     "points": 4,
     "suites": [
      {
       "cases": [
        {
         "code": ">>> f = lambda x: x ** 3\n>>> r = find_root(f, -4, 3)\n>>> assert abs(f(r)) < 1e-16\n",
         "hidden": false,
         "locked": false
        },
        {
         "code": ">>> r = find_root(math.cos, 0, 3.14)\n>>> assert abs(math.cos(r)) < 1e-16\n",
         "hidden": false,
         "locked": false
        }
       ],
       "scored": true,
       "setup": "",
       "teardown": "",
       "type": "doctest"
      }
     ]
    },
    "q4c": {
     "name": "q4c",
     "points": 4,
     "suites": [
      {
       "cases": [
        {
         "code": ">>> f_prime = lambda x: 2 * x  # derivative of f(x) = x^2\n>>> assert abs(minimize(f_prime, -10, 10) - 0) < 1e-8\n",
         "hidden": false,
         "locked": false
        },
        {
         "code": ">>> f_prime = lambda x: -math.cos(x)  # derivative of f(x) = -sin(x)\n>>> assert abs(minimize(f_prime, 0, 3.14) - math.pi/2) < 1e-8\n",
         "hidden": false,
         "locked": false
        }
       ],
       "scored": true,
       "setup": "",
       "teardown": "",
       "type": "doctest"
      }
     ]
    }
   }
  },
  "varInspector": {
   "cols": {
    "lenName": 16,
    "lenType": 16,
    "lenVar": 40
   },
   "kernels_config": {
    "python": {
     "delete_cmd_postfix": "",
     "delete_cmd_prefix": "del ",
     "library": "var_list.py",
     "varRefreshCmd": "print(var_dic_list())"
    },
    "r": {
     "delete_cmd_postfix": ") ",
     "delete_cmd_prefix": "rm(",
     "library": "var_list.r",
     "varRefreshCmd": "cat(var_dic_list()) "
    }
   },
   "types_to_exclude": [
    "module",
    "function",
    "builtin_function_or_method",
    "instance",
    "_Feature"
   ],
   "window_display": false
  }
 },
 "nbformat": 4,
 "nbformat_minor": 4
}
