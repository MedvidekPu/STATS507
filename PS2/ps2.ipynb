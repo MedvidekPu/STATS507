{
 "cells": [
  {
   "cell_type": "code",
   "execution_count": 421,
   "metadata": {
    "deletable": false,
    "editable": false
   },
   "outputs": [],
   "source": [
    "# Initialize Otter\n",
    "import otter\n",
    "grader = otter.Notebook(\"ps2.ipynb\")"
   ]
  },
  {
   "cell_type": "markdown",
   "metadata": {},
   "source": [
    "# STATS 507 W22\n",
    "## Problem Set 2\n",
    "All functions will be tested by visible as well as hidden tests. The maximum amount of time any function is allowed to run is 10 seconds.\n",
    "\n",
    "You may use the `collections` and `itertools` modules in this assignment."
   ]
  },
  {
   "cell_type": "code",
   "execution_count": 422,
   "metadata": {},
   "outputs": [],
   "source": [
    "import collections\n",
    "import itertools"
   ]
  },
  {
   "cell_type": "markdown",
   "metadata": {},
   "source": [
    "### Question 1: Solve the spelling bee (8 points)\n",
    "\n",
    "![image.png](2021-June-27-bee.png)\n",
    "\n",
    "Each night the New York Times publishes a puzzle called [Spelling Bee](https://www.nytimes.com/puzzles/spelling-bee). The rules are:\n",
    "\n",
    "1. Words must contain at least 4 letters.\n",
    "1. Words must include the center letter.\n",
    "1. Letters can be used more than once.\n",
    "1. ~Words cannot be proper nouns~. (For this problem, we will relax rule \\#4 since it is not easy to find an online word list that excludes proper nouns. So, we will consider any word that satisfies rules 1-3 to be valid.)\n",
    "\n",
    "Scoring is as follows:\n",
    "- 4-letter words are worth 1 point each.\n",
    "- Longer words earn 1 point per letter.\n",
    "- Each puzzle includes at least one “pangram” which uses every letter. These are worth 7 extra points!\n",
    "\n",
    "In the image above, the seven letters are **d**, **p**, **e**, **z**, **i**, **t** and the center letter **u**. Some valid words are:\n",
    "\n",
    "- \"dude\" (score: 1)\n",
    "- \"duet\" (score: 1)\n",
    "- \"duped\" (score: 5)\n",
    "- \"puppet\" (score: 6)\n",
    "- \"deputize\" (score: 15, pangram)\n",
    "- \"deputized\" (score: 16, pangram)\n",
    "\n",
    "Some invalid words are:\n",
    "- \"dud\" (too short)\n",
    "- \"deed\"  (doesn't contain \"u\")\n",
    "\n",
    "\n",
    "**Note**: solutions to each puzzle are published by the website https://nytbee.com. In addition to the tests we have provided, you can use this web site to check your answers."
   ]
  },
  {
   "cell_type": "markdown",
   "metadata": {},
   "source": [
    "#### Word list\n",
    "You may use the following word list, obtained from [an online source](https://github.com/dwyl/english-words), to test your code."
   ]
  },
  {
   "cell_type": "code",
   "execution_count": 556,
   "metadata": {},
   "outputs": [
    {
     "data": {
      "text/plain": [
       "370103"
      ]
     },
     "execution_count": 556,
     "metadata": {},
     "output_type": "execute_result"
    }
   ],
   "source": [
    "words = [line.strip() for line in open(\"words.txt\", \"rt\")]\n",
    "len(words)"
   ]
  },
  {
   "cell_type": "code",
   "execution_count": 557,
   "metadata": {},
   "outputs": [
    {
     "data": {
      "text/plain": [
       "['retributory',\n",
       " 'anticommunistical',\n",
       " 'androgonium',\n",
       " 'vaganti',\n",
       " 'unordinately',\n",
       " 'revet',\n",
       " 'dripproof',\n",
       " 'adlumine',\n",
       " 'geogonical',\n",
       " 'frankish']"
      ]
     },
     "execution_count": 557,
     "metadata": {},
     "output_type": "execute_result"
    }
   ],
   "source": [
    "import random\n",
    "[random.choice(words) for _ in range(10)]"
   ]
  },
  {
   "cell_type": "markdown",
   "metadata": {},
   "source": [
    "However, your functions should work if we pass in other, different word lists too."
   ]
  },
  {
   "cell_type": "markdown",
   "metadata": {},
   "source": [
    "**1(a)** (2 pts.) Write a function `word_score(word, letters)` which returns an integer score to each word according to the rules shown above."
   ]
  },
  {
   "cell_type": "code",
   "execution_count": 558,
   "metadata": {
    "tags": []
   },
   "outputs": [],
   "source": [
    "def word_score(word: str, letters: str) -> int:\n",
    "    \"\"\"Return the spelling bee score for word spelled from letters.\n",
    "\n",
    "    Args:\n",
    "        word: the word to be scored\n",
    "        letters: a string of seven letters. The first entry letters[0] is the center/required letter.\n",
    "\n",
    "    Returns:\n",
    "        an integer score for the letter according to the rules of the game.\n",
    "\n",
    "    Raises:\n",
    "        ValueError if the word is invalid (too short, cannot be spelled from letters, or does not contain the center letter.)\n",
    "    \"\"\"\n",
    "    if all(letter in letters for letter in word) and letters[0] in word and word in words and len(word)>3:\n",
    "        if len(word)==4:\n",
    "            return 1\n",
    "        elif len(word)>4 and not all(letter in word for letter in letters):\n",
    "            return len(word)\n",
    "        elif len(word)>4 and all(letter in word for letter in letters):\n",
    "            return len(word)+7\n",
    "    else:\n",
    "        raise ValueError\n",
    "    ..."
   ]
  },
  {
   "cell_type": "code",
   "execution_count": 559,
   "metadata": {
    "deletable": false,
    "editable": false
   },
   "outputs": [
    {
     "data": {
      "text/html": [
       "<p><strong><pre style='display: inline;'>q1a</pre></strong> passed!</p>"
      ],
      "text/plain": [
       "q1a results: All test cases passed!"
      ]
     },
     "execution_count": 559,
     "metadata": {},
     "output_type": "execute_result"
    }
   ],
   "source": [
    "grader.check(\"q1a\")"
   ]
  },
  {
   "cell_type": "markdown",
   "metadata": {},
   "source": [
    "**1(b)** (6 pts.) Write a function `spelling_bee(letters, word_list)` which finds all value words in `word_list` that can be spelled using the letters in `letters` according to the rules of Spelling Bee. The function should return a list of `(word, score)` tuples, each corresponding to a valid word and containing its score as calculated using the function you wrote above."
   ]
  },
  {
   "cell_type": "code",
   "execution_count": 560,
   "metadata": {
    "tags": []
   },
   "outputs": [],
   "source": [
    "from functools import reduce\n",
    "\n",
    "\n",
    "def spelling_bee(letters: str, word_list: \"list[str]\") -> \"list[tuple(str, int)]\":\n",
    "    \"\"\"\n",
    "    Return all possible words in word_list that can be spelled using letters\n",
    "    according to rules of Spelling Bee.\n",
    "\n",
    "    Args:\n",
    "        letters: string of length 7 containing the seven letters of the spelling bee.\n",
    "            the yellow letter occupies position 0 of the string.\n",
    "        word_list: a list of possible words.\n",
    "\n",
    "    Returns:\n",
    "        A list of (word, score) tuples. Each returned word:\n",
    "            - Exists in word_list,\n",
    "            - Is at least four letters long,\n",
    "            - Is spelled entirely from letters in letters, and\n",
    "            - Contains at least one instance of letters[0].\n",
    "    \"\"\"\n",
    "    li = []\n",
    "    must_letter = letters[0]\n",
    "    alphabet = 'abcdefghijklmnopqrstuvwxyz'\n",
    "    not_in_letters = [x for x in alphabet if x not in letters]\n",
    "\n",
    "    # Reduce the words file\n",
    "    for word in word_list:\n",
    "        if len(word)>3:\n",
    "            if must_letter in word:\n",
    "                if not any([x in not_in_letters for x in word]):\n",
    "                    li.append((word, word_score(word, letters)))\n",
    "    return li\n",
    "    ..."
   ]
  },
  {
   "cell_type": "code",
   "execution_count": 561,
   "metadata": {
    "deletable": false,
    "editable": false
   },
   "outputs": [
    {
     "data": {
      "text/html": [
       "<p><strong><pre style='display: inline;'>q1b</pre></strong> passed!</p>"
      ],
      "text/plain": [
       "q1b results: All test cases passed!"
      ]
     },
     "execution_count": 561,
     "metadata": {},
     "output_type": "execute_result"
    }
   ],
   "source": [
    "grader.check(\"q1b\")"
   ]
  },
  {
   "cell_type": "markdown",
   "metadata": {},
   "source": [
    "**1(c)** (Extra credit) For a given set of letters, define the *game score* to be the sum of the scores of all the valid words. For example, if the output of `spelling_bee()` was \n",
    "```\n",
    ">>> spelling_bee(\"wrlkaod\", word_list)\n",
    "[(\"workload\", 15), (\"draw\", 1), (\"drawl\", 5), (\"wallow\", 6)],\n",
    "```\n",
    "\n",
    "the game score would be $15+1+5+6=27$. \n",
    "\n",
    "Using any distinct seven lower-case letters of your choosing, what is the **lowest** possible game score you can achieve for the word list supplied with this problem set? Store your answer in a variable called `lowest_letters`. (Remember that in order to form a valid game, it must be possible to find at least one pangram in `word_list` using the letters in `lowest_letters`.)\n",
    "\n",
    "Scoring:\n",
    "- The student(s) who gets the lowest score will receive +3 pts extra credit;\n",
    "- The student(s) who gets the second lowest score will receive +2 pts extra credit;\n",
    "- Any other student whose answer is in the bottom 50% of lowest scores submitted will get +1 pt extra credit.\n",
    "- If multiple winning entries contain the same set of letters, each entry will receive $\\max(1, \\frac{1}{\\text{num. entries}})$ points."
   ]
  },
  {
   "cell_type": "code",
   "execution_count": 562,
   "metadata": {
    "tags": []
   },
   "outputs": [],
   "source": [
    "\"\"\"\n",
    "import random\n",
    "ll = []\n",
    "for word in words:\n",
    "    if len(word)==7:\n",
    "        ll.append(word)\n",
    "\n",
    "dis = []\n",
    "for word in ll:\n",
    "    dis.append(list(dict.fromkeys(word)))\n",
    "\n",
    "\n",
    "final = []\n",
    "for i in range(200):\n",
    "    for word in ll:\n",
    "        if dis[i] == list(word):\n",
    "            final.append(word)\n",
    "\n",
    "random.shuffle(final)\n",
    "\n",
    "scores = []\n",
    "for letters in final:\n",
    "    letters = ''.join(random.sample(letters,len(letters)))\n",
    "    scores.append((letters, sum([x[1] for x in spelling_bee(letters, words)])))\n",
    "\n",
    "print(scores)\n",
    "\n",
    "#my_score = sum([x[1] for x in spelling_bee(letters, words)])\n",
    "#print(my_score)\n",
    "\"\"\"\n",
    "lowest_letters = 'juncatb'"
   ]
  },
  {
   "cell_type": "markdown",
   "metadata": {},
   "source": [
    "### Question 2: Fun with Strings (4 points)\n",
    "\n",
    "In this problem, you'll implement a few simple functions for dealing\n",
    "with strings. You need not perform any error checking in any of the\n",
    "functions for this problem."
   ]
  },
  {
   "cell_type": "markdown",
   "metadata": {},
   "source": [
    "**2(a)** (1 pts.) A palindrome is a word or phrase that reads the same backwards and\n",
    "    forwards (<https://en.wikipedia.org/wiki/Palindrome>). So, for\n",
    "    example, the words \"level\", \"kayak\" and \"pop\" are all English\n",
    "    palindromes, as are the phrases \"rats live on no evil star\" and \"Was\n",
    "    it a car or a cat I saw?\", provided we ignore the spaces and\n",
    "    punctuation. Write a function called `is_palindrome`, which takes a string as its\n",
    "    only argument, and returns a Boolean. Your function should return\n",
    "    `True` if the argument is a palindrome, and `False` otherwise. For the purposes\n",
    "    of this problem, you may assume that the input is a string and will\n",
    "    consist only of alphanumeric characters (i.e., the letters, either\n",
    "    upper or lower case, and the digits 0 through 9) and spaces. Your\n",
    "    function should ignore spaces and capitalization in assessing\n",
    "    whether or not a string is a palindrome, so that `Aba` and `ab a` are both\n",
    "    considered palindromes."
   ]
  },
  {
   "cell_type": "code",
   "execution_count": 563,
   "metadata": {
    "tags": []
   },
   "outputs": [],
   "source": [
    "def is_palindrome(string):\n",
    "    \"\"\"\n",
    "    Returns whether a string is Palindrome or not.\n",
    "    \"\"\"\n",
    "    string = string.strip().lower().replace(\" \", \"\")\n",
    "    return list(string) == list(reversed(string))\n",
    "    ..."
   ]
  },
  {
   "cell_type": "code",
   "execution_count": 564,
   "metadata": {
    "deletable": false,
    "editable": false
   },
   "outputs": [
    {
     "data": {
      "text/html": [
       "<p><strong><pre style='display: inline;'>q2a</pre></strong> passed!</p>"
      ],
      "text/plain": [
       "q2a results: All test cases passed!"
      ]
     },
     "execution_count": 564,
     "metadata": {},
     "output_type": "execute_result"
    }
   ],
   "source": [
    "grader.check(\"q2a\")"
   ]
  },
  {
   "cell_type": "markdown",
   "metadata": {},
   "source": [
    "**2(b)** (1 pts.) Let us say that a word is \"abecedarian\" if its letters appear in\n",
    "    alphabetical order (repeated letters are okay). So, for example,\n",
    "    \"adder\" and \"beet\" are abecedarian, whereas \"dog\" and \"cat\" are not.\n",
    "    Write a function `is_abecedarian`, which takes a single argument in the form of a\n",
    "    string and returns `True` if the argument is abecedarian and `False` otherwise.\n",
    "    Here you may assume that the input consists only of alphabetic\n",
    "    characters and spaces. Your function should ignore spaces, so that\n",
    "    the string `abcd efgh xyz` is considered abecedarian. Your function should ignore\n",
    "    capitalization, so that `Abc`, `A bc` and `aA Bc` are all considered\n",
    "    abecedarian."
   ]
  },
  {
   "cell_type": "code",
   "execution_count": 565,
   "metadata": {
    "tags": []
   },
   "outputs": [],
   "source": [
    "def is_abecedarian(string):\n",
    "    \"\"\"\n",
    "    Returns whether a string is abecedarian or not.\n",
    "    \"\"\"\n",
    "    string = string.strip().lower().replace(\" \", \"\")\n",
    "    return all([string[index] <= string[index+1] for index in range(len(string)-1)])\n",
    "    ..."
   ]
  },
  {
   "cell_type": "code",
   "execution_count": 566,
   "metadata": {
    "deletable": false,
    "editable": false
   },
   "outputs": [
    {
     "data": {
      "text/html": [
       "<p><strong><pre style='display: inline;'>q2b</pre></strong> passed!</p>"
      ],
      "text/plain": [
       "q2b results: All test cases passed!"
      ]
     },
     "execution_count": 566,
     "metadata": {},
     "output_type": "execute_result"
    }
   ],
   "source": [
    "grader.check(\"q2b\")"
   ]
  },
  {
   "cell_type": "markdown",
   "metadata": {},
   "source": [
    "**2(c)** (2 pts.) Write a function called `double_vowels` that takes a string as its only argument\n",
    "    and returns that string with all the vowels duplicated. For the\n",
    "    purposes of this question, the vowels are the letters \"a e i o u\".\n",
    "    Thus, `double_vowels(’cat’)` should return `caat`, `double_vowels(’audio’)` should return `aauudiioo`, `double_vowels(’Aa’)` should return `AAaa`,\n",
    "    etc. **Hint:** there is a particularly elegant solution to this\n",
    "    problem that makes use of the accumulator pattern we saw in lecture\n",
    "    and the fact that Python strings implement the addition operation as\n",
    "    string concatenation."
   ]
  },
  {
   "cell_type": "code",
   "execution_count": 567,
   "metadata": {
    "tags": []
   },
   "outputs": [],
   "source": [
    "def double_vowels(string):\n",
    "    \"\"\"\n",
    "    Returns a string with all the vowels duplicated\n",
    "    \"\"\"\n",
    "    vowels = ['a', 'e', 'i', 'o', 'u']\n",
    "    double_vowels=''\n",
    "    for letter in string:\n",
    "        if letter.lower() in vowels:\n",
    "            double_vowels = double_vowels + 2*letter\n",
    "        else:\n",
    "            double_vowels = double_vowels + letter\n",
    "            \n",
    "    return double_vowels\n",
    "    ...\n"
   ]
  },
  {
   "cell_type": "code",
   "execution_count": 568,
   "metadata": {
    "deletable": false,
    "editable": false
   },
   "outputs": [
    {
     "data": {
      "text/html": [
       "<p><strong><pre style='display: inline;'>q2c</pre></strong> passed!</p>"
      ],
      "text/plain": [
       "q2c results: All test cases passed!"
      ]
     },
     "execution_count": 568,
     "metadata": {},
     "output_type": "execute_result"
    }
   ],
   "source": [
    "grader.check(\"q2c\")"
   ]
  },
  {
   "cell_type": "markdown",
   "metadata": {},
   "source": [
    "### Question 3: Fun with Lists (4 points)\n",
    "\n",
    "In this problem, you'll implement a few very simple list operations."
   ]
  },
  {
   "cell_type": "markdown",
   "metadata": {},
   "source": [
    "**3(a)** (1 pts.) Write a function `list_reverse` that takes a list as an argument and returns\n",
    "    that list, reversed. That is, given the list `[1,2,3]`, your function\n",
    "    should return the reversed list, `[3,2,1]`. Your function should raise an\n",
    "    appropriate error in the event that the input is not a list."
   ]
  },
  {
   "cell_type": "code",
   "execution_count": 569,
   "metadata": {
    "tags": []
   },
   "outputs": [],
   "source": [
    "def list_reverse(lis):\n",
    "    '''\n",
    "    Returns the reversed list. \n",
    "    '''\n",
    "    if type(lis) != list:\n",
    "        raise TypeError\n",
    "    return [item for item in reversed(lis)]\n",
    "    ...\n"
   ]
  },
  {
   "cell_type": "code",
   "execution_count": 570,
   "metadata": {
    "deletable": false,
    "editable": false
   },
   "outputs": [
    {
     "data": {
      "text/html": [
       "<p><strong><pre style='display: inline;'>q3a</pre></strong> passed!</p>"
      ],
      "text/plain": [
       "q3a results: All test cases passed!"
      ]
     },
     "execution_count": 570,
     "metadata": {},
     "output_type": "execute_result"
    }
   ],
   "source": [
    "grader.check(\"q3a\")"
   ]
  },
  {
   "cell_type": "markdown",
   "metadata": {},
   "source": [
    "**3(b)** (1 pts.) Write a function `is_sorted` that takes a sequence `seq` as its only argument\n",
    "    and returns `True`if the sequence is sorted in non-decreasing order and\n",
    "    returns `False` otherwise. You may assume that `seq` is, in fact, a Python\n",
    "    sequence. Your function should require a single traversal of the\n",
    "    list. You may assume that all\n",
    "    elements in the input sequence `seq` support the comparison operations\n",
    "    (`==`, `<`/`>`, `>=`, etc), so that there is no need for error checking.\n",
    "    (Indeed, if you try to make the comparison, say, `1 < ’cat’`, Python will\n",
    "    raise an error for you, anyway.) **Note:** this problem illustrates\n",
    "    a particularly useful aspect of Python's dynamic typing. It is\n",
    "    possible to write this function while being agnostic as to the type\n",
    "    of the input variable. It requires only that `seq` supports indexing\n",
    "    and that the elements in `seq` support the comparison operations."
   ]
  },
  {
   "cell_type": "code",
   "execution_count": 571,
   "metadata": {
    "tags": []
   },
   "outputs": [],
   "source": [
    "def is_sorted(seq):\n",
    "    \"\"\"\n",
    "    Returns whether the sequence is sorted.\n",
    "    \"\"\"\n",
    "    return all([seq[index] <= seq[index+1] for index in range(len(seq)-1)])\n",
    "    ..."
   ]
  },
  {
   "cell_type": "code",
   "execution_count": 572,
   "metadata": {
    "deletable": false,
    "editable": false
   },
   "outputs": [
    {
     "data": {
      "text/html": [
       "<p><strong><pre style='display: inline;'>q3b</pre></strong> passed!</p>"
      ],
      "text/plain": [
       "q3b results: All test cases passed!"
      ]
     },
     "execution_count": 572,
     "metadata": {},
     "output_type": "execute_result"
    }
   ],
   "source": [
    "grader.check(\"q3b\")"
   ]
  },
  {
   "cell_type": "markdown",
   "metadata": {},
   "source": [
    "**3(c)** (2 pts.) This one is a common coding interview question. Write a function\n",
    "    called `binary_search` that takes two arguments, a list of integers `t` (which is\n",
    "    guaranteed to be sorted in ascending order) and an integer `elmt`, and\n",
    "    returns `True` if `elmt` appears in list `t` and `False` otherwise. Of course, you\n",
    "    could do this with the `in` operator, but that will be slow when the\n",
    "    list is long, for reasons that we discussed in class. Instead, you\n",
    "    should use *binary search*: To look for `elmt`, first look at the\n",
    "    \"middle\" element of the list `t`. If it's a match, return `True`. If it\n",
    "    isn't a match, compare `elmt` against the \"middle\" element, and recurse,\n",
    "    searching the first or second half of the list depending on whether\n",
    "    `elmt` is bigger or smaller than the middle element. **Hint:** be\n",
    "    careful of the *base cases*: What should you do when `t` is empty,\n",
    "    length 1, length 2, etc.? **Note:** your solution must actually make\n",
    "    use of binary search to receive credit, and your solution must not\n",
    "    use any built-in sorting or searching functions. **Note:** we could,\n",
    "    if we wanted, use the function `is_sorted` that we wrote above to do error\n",
    "    checking here, but there is a good reason not to do so. This reason\n",
    "    will become clear when we make our brief foray into the topic of\n",
    "    *runtime analysis* later in the semester."
   ]
  },
  {
   "cell_type": "code",
   "execution_count": 573,
   "metadata": {
    "tags": []
   },
   "outputs": [],
   "source": [
    "def binary_search(t, elmt):\n",
    "    \"\"\"\n",
    "    Returns whether elmt is in t\n",
    "    \"\"\"\n",
    "    if t == []:\n",
    "        return False\n",
    "    middle_point = t[len(t)//2]\n",
    "    if elmt == middle_point:\n",
    "        return True\n",
    "    elif len(t) > 1 and elmt > middle_point:\n",
    "        t = [x for x in t if x > middle_point]\n",
    "        return binary_search(t, elmt)\n",
    "    elif len(t) > 1 and elmt < middle_point:\n",
    "        t = [x for x in t if x < middle_point]\n",
    "        return binary_search(t, elmt)\n",
    "    else:\n",
    "        return False\n",
    "    ..."
   ]
  },
  {
   "cell_type": "code",
   "execution_count": 574,
   "metadata": {
    "deletable": false,
    "editable": false
   },
   "outputs": [
    {
     "data": {
      "text/html": [
       "<p><strong><pre style='display: inline;'>q3c</pre></strong> passed!</p>"
      ],
      "text/plain": [
       "q3c results: All test cases passed!"
      ]
     },
     "execution_count": 574,
     "metadata": {},
     "output_type": "execute_result"
    }
   ],
   "source": [
    "grader.check(\"q3c\")"
   ]
  },
  {
   "cell_type": "markdown",
   "metadata": {},
   "source": [
    "### Question 4: More Fun with Strings (4 points)\n",
    "\n",
    "In this problem, you'll implement some very simple counting operations\n",
    "that are common in fields like biostatistics and natural language\n",
    "processing. You need not perform any error checking in the functions for\n",
    "this problem."
   ]
  },
  {
   "cell_type": "markdown",
   "metadata": {},
   "source": [
    "**4(a)** (2 pts.) Write a function called `char_hist` that takes a string as its argument and\n",
    "    returns a dictionary whose keys are characters and values are the\n",
    "    number of times each character appeared in the input. So, for\n",
    "    example, given the string \"gattaca\", your function should return a\n",
    "    dictionary with key-value pairs `g:1, a:3, t:2, c:1`. Your function should count *all*\n",
    "    characters in the input (including spaces, tabs, numbers, etc). The\n",
    "    dictionary returned by your function should have as its keys all and\n",
    "    only the characters that appeared in the input (i.e., you don't need\n",
    "    to have a bunch of keys with value 0). Your function should count\n",
    "    capital and lower-case letters as the same, and key on the\n",
    "    lower-case version of the character, so that `G` and `g` are both\n",
    "    counted as the same character, and the corresponding key in the\n",
    "    dictionary is `g`."
   ]
  },
  {
   "cell_type": "code",
   "execution_count": 575,
   "metadata": {
    "tags": []
   },
   "outputs": [],
   "source": [
    "def char_hist(string):\n",
    "    \"\"\"\n",
    "    Returns a dictionary whose keys are characters and values\n",
    "    are the number of times each character appeared in the input.\n",
    "    \"\"\"\n",
    "    d = {}\n",
    "    for y in string.lower():\n",
    "        d.setdefault(y,0)\n",
    "        d[y] = d[y]+1\n",
    "    return d\n",
    "    ..."
   ]
  },
  {
   "cell_type": "code",
   "execution_count": 576,
   "metadata": {
    "deletable": false,
    "editable": false
   },
   "outputs": [
    {
     "data": {
      "text/html": [
       "<p><strong><pre style='display: inline;'>q4a</pre></strong> passed!</p>"
      ],
      "text/plain": [
       "q4a results: All test cases passed!"
      ]
     },
     "execution_count": 576,
     "metadata": {},
     "output_type": "execute_result"
    }
   ],
   "source": [
    "grader.check(\"q4a\")"
   ]
  },
  {
   "cell_type": "markdown",
   "metadata": {},
   "source": [
    "**4(b)** (2 pts.) In natural language processing and bioinformatics, we often want to\n",
    "    count how often characters or groups of characters appear. Pairs of\n",
    "    words or characters are called \"bigrams\". For our purposes in this\n",
    "    problem, a bigram is a pair of characters. As an example, the string\n",
    "    `mississippi` contains the following bigrams, in order: {'mi', 'is', 'ss', 'si', 'is', 'ss', 'si', 'ip', 'pp', 'pi'}. Write a function called `bigram_hist` that takes a string as its\n",
    "    argument and returns a dictionary whose keys are 2-tuples of\n",
    "    characters and values are the number of times that pair of\n",
    "    characters appeared in the string. So, for example, when called on\n",
    "    the string `mississippi`, your function should return a dictionary with keys\n",
    "    {(m,i), (i,s), (s,s), (s,i), (i,p), (i,p), (p,p), (p,i)}\n",
    "    and respective count values 1,2,2,2,1,1,1. As another example,\n",
    "    if the two-character string `ab` occurred four times in the input,\n",
    "    then your function should return a dictionary that includes the\n",
    "    key-value pair `(a,b):4`. Your function should handle all characters\n",
    "    (alphanumerics, spaces, punctuation, etc). So, for example, the\n",
    "    string `cat, dog` includes the bigrams `t,`, `, ` and ` d`. As in the previous\n",
    "    subproblem, the dictionary produced by your function should only\n",
    "    include pairs that actually appeared in the input, so that the\n",
    "    absence of a given key implies that the corresponding two-character\n",
    "    string did not appear in the input. Also as in the previous\n",
    "    subproblem, you should count upper- and lower-case letters as the\n",
    "    same, so that `GA`, `Ga`, `gA` and `ga` all count for the same key, ``."
   ]
  },
  {
   "cell_type": "code",
   "execution_count": 577,
   "metadata": {
    "tags": []
   },
   "outputs": [],
   "source": [
    "def bigram_hist(string):\n",
    "    \"\"\"\n",
    "    Returns a dictionary whose keys are 2-tuples of characters\n",
    "    and values are the number of times that pair of characters\n",
    "    appeared in the string.\n",
    "    \"\"\"\n",
    "    string = string.lower()\n",
    "    key_pairs = []\n",
    "    d = {}\n",
    "    for i in range(len(string)-1):\n",
    "        key_pairs.append((string[i], string[i+1]))\n",
    "    for y in key_pairs:\n",
    "        d.setdefault(y,0)\n",
    "        d[y] = d[y]+1\n",
    "    return d\n",
    "    ..."
   ]
  },
  {
   "cell_type": "code",
   "execution_count": 578,
   "metadata": {
    "deletable": false,
    "editable": false
   },
   "outputs": [
    {
     "data": {
      "text/html": [
       "<p><strong><pre style='display: inline;'>q4b</pre></strong> passed!</p>"
      ],
      "text/plain": [
       "q4b results: All test cases passed!"
      ]
     },
     "execution_count": 578,
     "metadata": {},
     "output_type": "execute_result"
    }
   ],
   "source": [
    "grader.check(\"q4b\")"
   ]
  },
  {
   "cell_type": "markdown",
   "metadata": {},
   "source": [
    "### Question 5: Tuples as Vectors (5 points)\n",
    "\n",
    "In this problem, we’ll see how we can use tuples to represent vectors. Later in the semester, we’ll see the Python numpy and scipy packages, which provide objects specifically meant to enable matrix and vector operations, but for now tuples are all we have. So, for this problem we will represent a d-dimensional vector by a length-d tuple of floats."
   ]
  },
  {
   "cell_type": "markdown",
   "metadata": {},
   "source": [
    "**5(a)** (1 pts.) Implement a function called `vec_scalar_mult`, which takes two arguments: a tuple of numbers (floats and/or integers) `t` and a number (float or integer) `s` and returns a tuple of the same length as `t`, with its entries equal to the entries of `t` multiplied by `s`. That is, `vec_scalar_mult` implements multiplication of a vector by a scalar. Your function should check to make sure that the types of the input are appropriate (e.g., that `s` is a float or integer), and raise a TypeError with a suitable error message if the types are incorrect. However, your function should gracefully handle the case where the input `s` is an integer rather than a float, or the case where some or all of the entries of the input tuple are integers rather than floats. Hint: you may find it useful for this subproblem and the next few that follow it to implement a function that checks whether or not a given tuple is a “valid” vector (i.e., checks if a variable is a tuple and checks that its entries are all floats and/or integers)."
   ]
  },
  {
   "cell_type": "code",
   "execution_count": 579,
   "metadata": {
    "tags": []
   },
   "outputs": [
    {
     "data": {
      "text/plain": [
       "Ellipsis"
      ]
     },
     "execution_count": 579,
     "metadata": {},
     "output_type": "execute_result"
    }
   ],
   "source": [
    "..."
   ]
  },
  {
   "cell_type": "code",
   "execution_count": 580,
   "metadata": {
    "tags": []
   },
   "outputs": [],
   "source": [
    "def check(t):\n",
    "    if type(t) != tuple:\n",
    "        return False\n",
    "    for i in t:\n",
    "        if not (type(i)==float or type(i)==int):\n",
    "            return False\n",
    "            \n",
    "def vec_scalar_mult(t, s):\n",
    "    \"\"\"\n",
    "    Returns multiplication of a vector by a scalar.\n",
    "    \"\"\"\n",
    "    if check(t) == False:\n",
    "        raise TypeError('incorrect tuple')\n",
    "    if not (type(s)==float or type(s)==int):\n",
    "        raise TypeError('s has to be float or int')\n",
    "    result = ()\n",
    "    for number in t:\n",
    "        result = result + (number*s,)\n",
    "    return result\n",
    "    ..."
   ]
  },
  {
   "cell_type": "code",
   "execution_count": 581,
   "metadata": {
    "deletable": false,
    "editable": false
   },
   "outputs": [
    {
     "data": {
      "text/html": [
       "<p><strong><pre style='display: inline;'>q5a</pre></strong> passed!</p>"
      ],
      "text/plain": [
       "q5a results: All test cases passed!"
      ]
     },
     "execution_count": 581,
     "metadata": {},
     "output_type": "execute_result"
    }
   ],
   "source": [
    "grader.check(\"q5a\")"
   ]
  },
  {
   "cell_type": "markdown",
   "metadata": {},
   "source": [
    "**5(b)** (1 pts.) Implement a function called `vec_inner_product` which takes two \"vectors\" (i.e.,\n",
    "    tuples of floats and/or ints) as its inputs and outputs a float\n",
    "    corresponding to the inner product of these two vectors. Recall that\n",
    "    the inner product of vectors $x,y \\in \\mathbb{R}^d$ is given by\n",
    "    $\\sum_{j=1}^d x_j y_j$. Your function should check whether or not\n",
    "    the two inputs are of the correct type (i.e., both tuples), and\n",
    "    raise a `TypeError` if not. Your function should also check whether or not\n",
    "    the two inputs agree in their dimension (i.e., length, so that the\n",
    "    inner product is well-defined), and raise a `ValueError` if not."
   ]
  },
  {
   "cell_type": "code",
   "execution_count": 582,
   "metadata": {
    "tags": []
   },
   "outputs": [],
   "source": [
    "def vec_inner_product(a, b):\n",
    "    \"\"\"\n",
    "    Returns the inner product of two vectors.\n",
    "    \"\"\"\n",
    "    if check(a) or check(b) == False:\n",
    "        raise TypeError('incorrect tuple')\n",
    "        \n",
    "    if type(a) != tuple or type(b) != tuple:\n",
    "        raise TypeError('inputs have to be tuples')\n",
    "        \n",
    "    if len(a) != len(b):\n",
    "        raise ValueError('tuples must have the same dimension')\n",
    "        \n",
    "    inner_product = 0\n",
    "    \n",
    "    for (x_i, b_j) in zip(a,b):\n",
    "            inner_product = inner_product + x_i*b_j\n",
    "            \n",
    "    return inner_product\n",
    "    ..."
   ]
  },
  {
   "cell_type": "code",
   "execution_count": 583,
   "metadata": {
    "deletable": false,
    "editable": false
   },
   "outputs": [
    {
     "data": {
      "text/html": [
       "<p><strong><pre style='display: inline;'>q5b</pre></strong> passed!</p>"
      ],
      "text/plain": [
       "q5b results: All test cases passed!"
      ]
     },
     "execution_count": 583,
     "metadata": {},
     "output_type": "execute_result"
    }
   ],
   "source": [
    "grader.check(\"q5b\")"
   ]
  },
  {
   "cell_type": "markdown",
   "metadata": {},
   "source": [
    "**5(c)** (1 pts.) It is natural, following the above, to extend our scheme to the case\n",
    "    of matrices. Recall that a matrix is simply a box of numbers. If you\n",
    "    are not already familiar with matrices, feel free to look them up on\n",
    "    Wikipedia or in any linear algebra textbook. We will represent a\n",
    "    matrix as a *tuple of tuples*, i.e., a tuple whose entries are\n",
    "    themselves tuples. We will represent an $m$-by-$n$ matrix as an\n",
    "    $m$-tuple of $n$-tuples. To be more concrete, suppose that we are\n",
    "    representing an $m$-by-$n$ matrix $M$ as a variable `my_mx`. Then `my_mx` will\n",
    "    be a length-$m$ tuple of $n$-tuples, so that the $i$-th row of the\n",
    "    matrix is given (as a vector) by the $i$-th entry of tuple `my_mx`.\n",
    "\n",
    "Write a function `is_valid_matrix` that takes a single argument and returns a\n",
    "    Boolean, which is `True` if the given argument is a tuple that validly\n",
    "    represents a matrix as described above, and returns `False` otherwise. A\n",
    "    valid matrix will be a tuple of tuples such that\n",
    "\n",
    "-   Every element of the tuple is itself a tuple,\n",
    "\n",
    "-   each of these tuples is the same length, and\n",
    "\n",
    "-   every element of each of these tuples is a number (i.e., a float or integer)."
   ]
  },
  {
   "cell_type": "code",
   "execution_count": 584,
   "metadata": {
    "tags": []
   },
   "outputs": [],
   "source": [
    "def is_valid_mat(mat):\n",
    "    \"\"\"\n",
    "    Returns whether mat is a valid matrix.\n",
    "    \"\"\"\n",
    "    for t in mat:\n",
    "        if check(t) == False:\n",
    "            return False\n",
    "    \n",
    "    if all([len(t) == len(mat[0]) for t in mat]):\n",
    "        return True\n",
    "    else:\n",
    "        return False\n",
    "    ..."
   ]
  },
  {
   "cell_type": "code",
   "execution_count": 585,
   "metadata": {
    "deletable": false,
    "editable": false
   },
   "outputs": [
    {
     "data": {
      "text/html": [
       "<p><strong><pre style='display: inline;'>q5c</pre></strong> passed!</p>"
      ],
      "text/plain": [
       "q5c results: All test cases passed!"
      ]
     },
     "execution_count": 585,
     "metadata": {},
     "output_type": "execute_result"
    }
   ],
   "source": [
    "grader.check(\"q5c\")"
   ]
  },
  {
   "cell_type": "markdown",
   "metadata": {},
   "source": [
    "**5(d)** (2 pts.) Write a function `mat_vec_mult` that takes a matrix (i.e., tuple of tuples) and\n",
    "    a vector (i.e., a tuple) as its arguments, and returns a vector\n",
    "    (i.e., a tuple of numbers) that is the result of multiplying the\n",
    "    given vector by the given matrix (we are treating vectors as column\n",
    "    vectors here, so the matrix acts \"on the left\"). Again, if you are\n",
    "    not familiar with matrix-vector multiplication, refer to Wikipedia\n",
    "    or any linear algebra textbook. Your function should check that all\n",
    "    the supplied arguments are reasonable (e.g., using your function\n",
    "    `is_valid_mat`), and raise an appropriate error if not. **Hint:** you may find\n",
    "    it useful to make use of the inner-product function that you defined\n",
    "    previously."
   ]
  },
  {
   "cell_type": "code",
   "execution_count": 586,
   "metadata": {
    "tags": []
   },
   "outputs": [],
   "source": [
    "def mat_vec_mult(mat, vec):\n",
    "    \"\"\"\n",
    "    Returns the result of multiplying the given vector by the given matrix.\n",
    "    \"\"\"\n",
    "    if not is_valid_mat(mat):\n",
    "        raise TypeError('Incorrect Matrix')\n",
    "    \n",
    "    result = ()\n",
    "    for vector in mat:\n",
    "        result = result + (vec_inner_product(vector,vec),)\n",
    "        \n",
    "    return result\n",
    "    ..."
   ]
  },
  {
   "cell_type": "code",
   "execution_count": 587,
   "metadata": {
    "deletable": false,
    "editable": false
   },
   "outputs": [
    {
     "data": {
      "text/html": [
       "<p><strong><pre style='display: inline;'>q5d</pre></strong> passed!</p>"
      ],
      "text/plain": [
       "q5d results: All test cases passed!"
      ]
     },
     "execution_count": 587,
     "metadata": {},
     "output_type": "execute_result"
    }
   ],
   "source": [
    "grader.check(\"q5d\")"
   ]
  },
  {
   "cell_type": "markdown",
   "metadata": {},
   "source": [
    "### Question 6: More Fun with Vectors (4 points)\n",
    "\n",
    "In the previous problem, you implemented matrix and vector operations\n",
    "using tuples to represent vectors. In many applications, it is common to\n",
    "have vectors of dimension in the thousands or millions, but in which\n",
    "only a small fraction of the entries are nonzero. Such vectors are\n",
    "called *sparse* vectors, and if we tried to represent them as tuples, we\n",
    "would be using thousands of entries just to store zeros, which would\n",
    "quickly get out of hand if we needed to store hundreds or thousands of\n",
    "such vectors.\n",
    "\n",
    "A reasonable solution is to instead represent a sparse vector (or\n",
    "matrix) by only storing its non-zero entries, with (index, value) pairs.\n",
    "We will take this approach in this problem, and represent vectors as\n",
    "dictionaries with positive integer keys (so we index into our vectors\n",
    "starting from 1, just like in MATLAB and R). A *valid* sparse vector\n",
    "will be a dictionary that has the properties that (1) all its indices\n",
    "are positive integers, and (2) all its values are floats."
   ]
  },
  {
   "cell_type": "markdown",
   "metadata": {},
   "source": [
    "**6(a)** (2 pts.) Write a function `is_sparse_vector` that takes one argument, and returns `True` if and\n",
    "    only if the input is a valid sparse vector, and returns `False`\n",
    "    otherwise. **Note:** your function should *not* assume that the\n",
    "    input is a dictionary."
   ]
  },
  {
   "cell_type": "code",
   "execution_count": 588,
   "metadata": {
    "tags": []
   },
   "outputs": [],
   "source": [
    "def is_sparse_vector(d):\n",
    "    \"\"\"\n",
    "    Returns whether the given variable represents a sparse vector\n",
    "    \"\"\"\n",
    "    if type(d) == dict:\n",
    "        for i in d.keys():\n",
    "            if not (isinstance(i, int) and i > 0 and isinstance(d[i], float)):\n",
    "                return False\n",
    "            else:\n",
    "                return True\n",
    "\n",
    "    return False       \n",
    "    ..."
   ]
  },
  {
   "cell_type": "code",
   "execution_count": 589,
   "metadata": {
    "deletable": false,
    "editable": false
   },
   "outputs": [
    {
     "data": {
      "text/html": [
       "<p><strong><pre style='display: inline;'>q6a</pre></strong> passed!</p>"
      ],
      "text/plain": [
       "q6a results: All test cases passed!"
      ]
     },
     "execution_count": 589,
     "metadata": {},
     "output_type": "execute_result"
    }
   ],
   "source": [
    "grader.check(\"q6a\")"
   ]
  },
  {
   "cell_type": "markdown",
   "metadata": {},
   "source": [
    "**6(b)** (2 pts.) Write a function `inner_sparse` that takes two \"sparse vectors\" as its inputs,\n",
    "    and returns a float that is the value of the inner product of the\n",
    "    vectors that the inputs represent. Your function should raise an\n",
    "    appropriate error in the event that either of the inputs is not a\n",
    "    valid sparse vector. Note that by our definition, a sparse vector\n",
    "    has no specified dimension, so there is no need to check that the\n",
    "    dimensions of the arguments agree."
   ]
  },
  {
   "cell_type": "code",
   "execution_count": 590,
   "metadata": {
    "tags": []
   },
   "outputs": [],
   "source": [
    "def inner_sparse(vec1, vec2):\n",
    "    \"\"\"\n",
    "    Returns the inner product of two sparse vectors\n",
    "    \"\"\"\n",
    "    if is_sparse_vector(vec1) == False or is_sparse_vector(vec2) == False:\n",
    "        raise TypeError('Inputs are not sparse vectors')\n",
    "\n",
    "    inner_product = 0\n",
    "    \n",
    "    # compute inner product\n",
    "    inner_product = 0\n",
    "    for key in vec1.keys():\n",
    "        if key in vec2.keys():\n",
    "            inner_product = inner_product + vec1[key]*vec2[key]\n",
    "    return inner_product \n",
    "    ..."
   ]
  },
  {
   "cell_type": "code",
   "execution_count": 591,
   "metadata": {
    "deletable": false,
    "editable": false
   },
   "outputs": [
    {
     "data": {
      "text/html": [
       "<p><strong><pre style='display: inline;'>q6b</pre></strong> passed!</p>"
      ],
      "text/plain": [
       "q6b results: All test cases passed!"
      ]
     },
     "execution_count": 591,
     "metadata": {},
     "output_type": "execute_result"
    }
   ],
   "source": [
    "grader.check(\"q6b\")"
   ]
  },
  {
   "cell_type": "markdown",
   "metadata": {
    "deletable": false,
    "editable": false
   },
   "source": [
    "---\n",
    "\n",
    "To double-check your work, the cell below will rerun all of the autograder tests."
   ]
  },
  {
   "cell_type": "code",
   "execution_count": 592,
   "metadata": {
    "deletable": false,
    "editable": false
   },
   "outputs": [
    {
     "data": {
      "text/plain": [
       "q1a results: All test cases passed!\n",
       "\n",
       "q1b results: All test cases passed!\n",
       "\n",
       "q1c results: All test cases passed!\n",
       "\n",
       "q2a results: All test cases passed!\n",
       "\n",
       "q2b results: All test cases passed!\n",
       "\n",
       "q2c results: All test cases passed!\n",
       "\n",
       "q3a results: All test cases passed!\n",
       "\n",
       "q3b results: All test cases passed!\n",
       "\n",
       "q3c results: All test cases passed!\n",
       "\n",
       "q4a results: All test cases passed!\n",
       "\n",
       "q4b results: All test cases passed!\n",
       "\n",
       "q5a results: All test cases passed!\n",
       "\n",
       "q5b results: All test cases passed!\n",
       "\n",
       "q5c results: All test cases passed!\n",
       "\n",
       "q5d results: All test cases passed!\n",
       "\n",
       "q6a results: All test cases passed!\n",
       "\n",
       "q6b results: All test cases passed!"
      ]
     },
     "execution_count": 592,
     "metadata": {},
     "output_type": "execute_result"
    }
   ],
   "source": [
    "grader.check_all()"
   ]
  },
  {
   "cell_type": "markdown",
   "metadata": {
    "deletable": false,
    "editable": false
   },
   "source": [
    "## Submission\n",
    "\n",
    "Make sure you have run all cells in your notebook in order before running the cell below, so that all images/graphs appear in the output. The cell below will generate a zip file for you to submit. **Please save before exporting!**\n",
    "\n",
    "Upload this .zip file to Gradescope for grading."
   ]
  },
  {
   "cell_type": "code",
   "execution_count": null,
   "metadata": {
    "deletable": false,
    "editable": false
   },
   "outputs": [],
   "source": [
    "# Save your notebook first, then run this cell to export your submission.\n",
    "grader.export(pdf=False)"
   ]
  },
  {
   "cell_type": "markdown",
   "metadata": {},
   "source": [
    " "
   ]
  }
 ],
 "metadata": {
  "kernelspec": {
   "display_name": "Python 3",
   "language": "python",
   "name": "python3"
  },
  "language_info": {
   "codemirror_mode": {
    "name": "ipython",
    "version": 3
   },
   "file_extension": ".py",
   "mimetype": "text/x-python",
   "name": "python",
   "nbconvert_exporter": "python",
   "pygments_lexer": "ipython3",
   "version": "3.8.8"
  },
  "otter": {
   "tests": {
    "q1a": {
     "name": "q1a",
     "points": 2,
     "suites": [
      {
       "cases": [
        {
         "code": ">>> letters = \"notdcru\"  # example from above\n>>> \n>>> for word in [\"toronto\", \"condo\", \"crouton\"]:\n...     assert word_score(word, letters) == len(word)\n>>> \n>>> assert word_score(\"turn\", letters) == 1\n>>> assert word_score(\"conductor\", letters) == 7 + len(\"conductor\")\n",
         "hidden": false,
         "locked": false
        },
        {
         "code": ">>> letters = \"notdcru\"  # example from above\n>>> \n>>> for invalid in [\"con\", \"rout\"]:\n...     try:\n...         word_score(invalid, letters)\n...     except ValueError:\n...         pass\n...     else:\n...         raise Exception(f\"{invalid} should raise an exception\")\n",
         "hidden": false,
         "locked": false
        }
       ],
       "scored": true,
       "setup": "",
       "teardown": "",
       "type": "doctest"
      }
     ]
    },
    "q1b": {
     "name": "q1b",
     "points": 6,
     "suites": [
      {
       "cases": [
        {
         "code": ">>> letters = \"notdcru\"\n>>> word_list = [\"toronto\", \"condo\", \"con\", \"crouton\",  \"rout\", \"turn\", \"conductor\"]\n>>> res = spelling_bee(letters, word_list)\n>>> assert isinstance(res, list)\n>>> assert len(res) == 5\n>>> for i in res:\n...     assert isinstance(i, tuple)\n>>> \n>>> resset = set(res)\n>>> ans = set([('toronto', 7), ('condo', 5), ('crouton', 7), ('turn', 1), ('conductor', 16)])\n>>> assert resset == ans\n",
         "hidden": false,
         "locked": false
        }
       ],
       "scored": true,
       "setup": "",
       "teardown": "",
       "type": "doctest"
      }
     ]
    },
    "q1c": {
     "name": "q1c",
     "points": 0,
     "suites": [
      {
       "cases": [],
       "scored": true,
       "setup": "",
       "teardown": "",
       "type": "doctest"
      }
     ]
    },
    "q2a": {
     "name": "q2a",
     "points": 1,
     "suites": [
      {
       "cases": [
        {
         "code": ">>> assert isinstance(is_palindrome(\"aba\"), bool)\n>>> assert is_palindrome(\"level\")\n>>> assert is_palindrome(\"kayak\")\n>>> assert not is_palindrome(\"rats\")\n",
         "hidden": false,
         "locked": false
        },
        {
         "code": ">>> assert is_palindrome(\"Aba\")\n>>> assert is_palindrome(\"ab a\")\n",
         "hidden": false,
         "locked": false
        }
       ],
       "scored": true,
       "setup": "",
       "teardown": "",
       "type": "doctest"
      }
     ]
    },
    "q2b": {
     "name": "q2b",
     "points": 1,
     "suites": [
      {
       "cases": [
        {
         "code": ">>> assert isinstance(is_abecedarian(\"aba\"), bool)\n>>> assert not is_abecedarian(\"dog\")\n>>> assert not is_abecedarian(\"cat\")\n>>> assert is_abecedarian(\"adder\")\n>>> assert is_abecedarian(\"beet\")\n",
         "hidden": false,
         "locked": false
        },
        {
         "code": ">>> assert is_abecedarian(\"Abc\")\n>>> assert is_abecedarian(\"A bc\")\n>>> assert is_abecedarian(\"aA Bc\")\n",
         "hidden": false,
         "locked": false
        }
       ],
       "scored": true,
       "setup": "",
       "teardown": "",
       "type": "doctest"
      }
     ]
    },
    "q2c": {
     "name": "q2c",
     "points": 2,
     "suites": [
      {
       "cases": [
        {
         "code": ">>> assert isinstance(double_vowels(\"aba\"), str)\n>>> assert double_vowels(\"cat\") == \"caat\"\n>>> assert double_vowels(\"audio\") == \"aauudiioo\"\n>>> assert double_vowels(\"Aa\") == \"AAaa\"\n",
         "hidden": false,
         "locked": false
        }
       ],
       "scored": true,
       "setup": "",
       "teardown": "",
       "type": "doctest"
      }
     ]
    },
    "q3a": {
     "name": "q3a",
     "points": 1,
     "suites": [
      {
       "cases": [
        {
         "code": ">>> assert isinstance(list_reverse([1,2,3]), list)\n>>> assert list_reverse([1,2,3]) == [3,2,1]\n>>> assert list_reverse([1, 2, 'three', 4.0]) == [4.0, 'three', 2, 1]\n>>> assert list_reverse([]) == []\n",
         "hidden": false,
         "locked": false
        },
        {
         "code": ">>> for invalid in [\"12\", 4]:\n...     try:\n...         list_reverse(invalid)\n...     except TypeError:\n...         pass\n...     else:\n...         raise Exception(f\"{invalid} should raise an appropriate type of exception\")\n",
         "hidden": false,
         "locked": false
        }
       ],
       "scored": true,
       "setup": "",
       "teardown": "",
       "type": "doctest"
      }
     ]
    },
    "q3b": {
     "name": "q3b",
     "points": 1,
     "suites": [
      {
       "cases": [
        {
         "code": ">>> assert is_sorted([1])\n>>> assert is_sorted([1, 2, 3])\n>>> assert is_sorted([1, 1, 1, 2, 3, 4, 4])\n>>> assert is_sorted([\"a\", \"a\", \"ab\", \"b\"])\n>>> assert not is_sorted([1, 2, 1])\n>>> assert not is_sorted([\"abb\", \"ab\"])\n",
         "hidden": false,
         "locked": false
        }
       ],
       "scored": true,
       "setup": "",
       "teardown": "",
       "type": "doctest"
      }
     ]
    },
    "q3c": {
     "name": "q3c",
     "points": 2,
     "suites": [
      {
       "cases": [
        {
         "code": ">>> assert not binary_search([], 1)\n>>> assert not binary_search([2], 1)\n>>> assert not binary_search([2, 3], 1)\n>>> assert not binary_search([-1, 0], 1)\n>>> assert not binary_search([-1, 2], 1)\n>>> assert not binary_search(list(range(1, 100, 2)), 98)\n>>> assert not binary_search(list(range(1, 100, 2)), 102)\n>>> assert not binary_search(list(range(1, 100, 2)), -1)\n>>> assert not binary_search(list(range(1, 100, 2)), 50)\n>>> assert binary_search([1], 1)\n>>> assert binary_search([1, 3], 1)\n>>> assert binary_search([-1, 1], 1)\n>>> assert binary_search(list(range(1, 100, 2)), 99)\n>>> assert binary_search(list(range(1, 100, 2)), 51)\n>>> assert binary_search(list(range(1, 100, 2)), 1)\n",
         "hidden": false,
         "locked": false
        }
       ],
       "scored": true,
       "setup": "",
       "teardown": "",
       "type": "doctest"
      }
     ]
    },
    "q4a": {
     "name": "q4a",
     "points": 2,
     "suites": [
      {
       "cases": [
        {
         "code": ">>> assert isinstance(char_hist(\"abc\"), dict)\n>>> assert char_hist(\"gattaca\") == {\"g\": 1, \"a\": 3, \"t\": 2, \"c\": 1}\n>>> assert char_hist(\"GattAca   _+=\") == {\"g\": 1, \"a\": 3, \"t\": 2, \"c\": 1, \" \": 3, \"_\": 1, \"+\": 1, \"=\": 1}\n",
         "hidden": false,
         "locked": false
        }
       ],
       "scored": true,
       "setup": "",
       "teardown": "",
       "type": "doctest"
      }
     ]
    },
    "q4b": {
     "name": "q4b",
     "points": 2,
     "suites": [
      {
       "cases": [
        {
         "code": ">>> assert isinstance(bigram_hist(\"abc\"), dict)\n>>> assert bigram_hist(\"gattaca\") == {(\"g\", \"a\"): 1, (\"a\", \"t\"): 1, (\"t\", \"t\"): 1, (\"t\", \"a\"): 1, (\"a\", \"c\"): 1, (\"c\", \"a\"): 1}\n>>> assert bigram_hist(\"mississippi\") == {(\"m\", \"i\"): 1, (\"i\", \"s\"): 2, (\"s\", \"s\"): 2, (\"s\", \"i\"): 2, (\"i\", \"p\"): 1, (\"i\", \"p\"): 1, (\"p\", \"p\"): 1, (\"p\", \"i\"): 1}\n>>> assert bigram_hist(\"MisSiSsipPi\") == bigram_hist(\"mississippi\")\n>>> assert bigram_hist(\"m+m+m\") == {(\"m\", \"+\"): 2, (\"+\", \"m\"): 2}\n",
         "hidden": false,
         "locked": false
        }
       ],
       "scored": true,
       "setup": "",
       "teardown": "",
       "type": "doctest"
      }
     ]
    },
    "q5a": {
     "name": "q5a",
     "points": 1,
     "suites": [
      {
       "cases": [
        {
         "code": ">>> assert isinstance(vec_scalar_mult((1,), 2), tuple)\n>>> assert len(vec_scalar_mult((1, 2, 3), 3)) == 3\n>>> assert vec_scalar_mult((1, 2, 3), 3) == (3, 6, 9)\n>>> t = (1, 2, 3)\n>>> s = 2.3\n>>> res = vec_scalar_mult(t, s)\n>>> for i in range(len(res)):\n...     assert abs(res[i] - (i + 1) * 2.3) < 1e-10\n",
         "hidden": false,
         "locked": false
        },
        {
         "code": ">>> for i in [[1, 2, 3], 2, {1: 2}]:\n...     for j in [2, 2.3]:\n...         try:\n...             vec_scalar_mult(i, j)\n...         except TypeError:\n...             pass\n...         else:\n...             raise Exception(f\"vec_scalar_mult({i!r}, {j!r}) should raise an exception\")\n>>> for i in [(1, 2, 3), (1, 2.0, 3.0)]:\n...     for j in [\"j\", (1, 2), [1, 2], {1: 2}]:\n...         try:\n...             vec_scalar_mult(i, j)\n...         except TypeError:\n...             pass\n...         else:\n...             raise Exception(f\"vec_scalar_mult({i!r}, {j!r}) should raise an exception\")\n",
         "hidden": false,
         "locked": false
        }
       ],
       "scored": true,
       "setup": "",
       "teardown": "",
       "type": "doctest"
      }
     ]
    },
    "q5b": {
     "name": "q5b",
     "points": 1,
     "suites": [
      {
       "cases": [
        {
         "code": ">>> assert isinstance(vec_inner_product((1, 2), (3, 4)), int)\n>>> assert isinstance(vec_inner_product((1.0, 2), (3, 4)), float)\n>>> assert vec_inner_product((1, 2, 3), (1, 2, 3)) == 14\n>>> t = (1.6, 2.7, 3.9)\n>>> s = (1.2, 2.3, -2.4)\n>>> res = vec_inner_product(t, s)\n>>> nres = sum([t[i] * s[i] for i in range(3)])\n>>> assert abs(res - nres) < 1e-10\n",
         "hidden": false,
         "locked": false
        },
        {
         "code": ">>> for i in [[1, 2, 3], 2, {1: 2}]:\n...     for j in [(2, 3), (2.3,)]:\n...         try:\n...             vec_inner_product(i, j)\n...         except TypeError:\n...             pass\n...         else:\n...             raise Exception(\n...                 f\"vec_inner_product({i!r}, {j!r}) should raise an exception\"\n...             )\n>>> for i in [[1, 2, 3], 2, {1: 2}]:\n...     for j in [(2, 3), (2.3,)]:\n...         try:\n...             vec_inner_product(j, i)\n...         except TypeError:\n...             pass\n...         else:\n...             raise Exception(\n...                 f\"vec_inner_product({i!r}, {j!r}) should raise an exception\"\n...             )\n>>> \n>>> for i in [(1, 2, 3), (4, 5, 6.0), (7.0, 8.0, 9.0)]:\n...     for j in [(1, 2, 3, 4), (5, 6, 7, 8.0), (9.0, 10.0, 11.0, 12.0)]:\n...         try:\n...             vec_inner_product(j, i)\n...         except ValueError:\n...             pass\n...         else:\n...             raise Exception(\n...                 f\"vec_inner_product({i!r}, {j!r}) should raise an exception\"\n...             )\n",
         "hidden": false,
         "locked": false
        }
       ],
       "scored": true,
       "setup": "",
       "teardown": "",
       "type": "doctest"
      }
     ]
    },
    "q5c": {
     "name": "q5c",
     "points": 1,
     "suites": [
      {
       "cases": [
        {
         "code": ">>> assert isinstance(is_valid_mat(((1, 2), (3, 4))), bool)\n>>> assert isinstance(is_valid_mat([1, 2]), bool)\n>>> assert not is_valid_mat([[1, 2], [3, 4]])\n>>> assert not is_valid_mat((\"a\", 4))\n>>> assert not is_valid_mat(((1, 2), 4))\n>>> assert not is_valid_mat(((1, \"4\"), (3, 4)))\n>>> assert not is_valid_mat(((1, 2, 3), (4, 5)))\n>>> assert is_valid_mat(((1, 2, 3), (4, 5, 6), (7, 8, 9), (10, 11, 12)))\n",
         "hidden": false,
         "locked": false
        }
       ],
       "scored": true,
       "setup": "",
       "teardown": "",
       "type": "doctest"
      }
     ]
    },
    "q5d": {
     "name": "q5d",
     "points": 2,
     "suites": [
      {
       "cases": [
        {
         "code": ">>> assert isinstance(mat_vec_mult(((1,2), (3, 4)), (1,2)), tuple)\n>>> mat = ((1.0,2.0), (3.0,4.0))\n>>> vec = (1.0, 2.0)\n>>> res = mat_vec_mult(mat, vec)\n>>> resn = (5.0, 11.0)\n>>> assert len(res) == 2\n>>> for i in range(len(res)):\n...     assert abs(res[i] - resn[i]) < 1e-10\n",
         "hidden": false,
         "locked": false
        },
        {
         "code": ">>> for i in [[[1,2], [3,4]], ('a', 4), (1, 2), ((1,2), 4), ((1,2,3), (4,5))]:\n...     for j in [(2, 3), (2.3, )]:\n...         try:\n...             mat_vec_mult(i, j)\n...         except TypeError:\n...             pass\n...         else:\n...             raise Exception(f\"mat_vec_mult({i!r}, {j!r}) should raise an exception\")\n>>> for i in [((1,2), (3,4))]:\n...     for j in [[1,2], (1, 'c'), 'j', ((1,2), 3)]:\n...         try:\n...             mat_vec_mult(i, j)\n...         except TypeError:\n...             pass\n...         else:\n...             raise Exception(f\"mat_vec_mult({i!r}, {j!r}) should raise an exception\")\n",
         "hidden": false,
         "locked": false
        }
       ],
       "scored": true,
       "setup": "",
       "teardown": "",
       "type": "doctest"
      }
     ]
    },
    "q6a": {
     "name": "q6a",
     "points": 2,
     "suites": [
      {
       "cases": [
        {
         "code": ">>> assert isinstance(is_sparse_vector({1: 2}), bool)\n>>> assert isinstance(is_sparse_vector([1, 2]), bool)\n>>> for i in [3, (1, 2), [1, 2], {\"a\": 1.0}, {1: \"a\"}, {0: 2.0}]:\n...     assert not is_sparse_vector(i)\n>>> for i in [{1: 300.0, 2: 20.0, 400: 200.0}, {50: 200.0}]:\n...     assert is_sparse_vector(i)\n",
         "hidden": false,
         "locked": false
        }
       ],
       "scored": true,
       "setup": "",
       "teardown": "",
       "type": "doctest"
      }
     ]
    },
    "q6b": {
     "name": "q6b",
     "points": 2,
     "suites": [
      {
       "cases": [
        {
         "code": ">>> assert isinstance(inner_sparse({1: 2.0}, {2: 3.0, 1: 3.0}), float)\n>>> vec1 = {10: 2.0, 20: 3.0, 50: -1.0, 80: -20.0}\n>>> vec2 = {300: 3.0, 20: 4.0, 50: 5.0, 9: 30.0}\n>>> res = inner_sparse(vec1, vec2)\n>>> resn = 7.0\n>>> assert abs(res - resn) < 1e-8\n",
         "hidden": false,
         "locked": false
        },
        {
         "code": ">>> for i in [3, (1, 2), [1, 2], {\"a\": 1.0}, {1: \"a\"}, {0: 2.0}]:\n...     for j in [{2: 3.0}, {2: 4.0}]:\n...         try:\n...             inner_sparse(i, j)\n...         except TypeError:\n...             pass\n...         else:\n...             raise Exception(f\"inner_sparse({i!r}, {j!r}) should raise an exception\")\n",
         "hidden": false,
         "locked": false
        }
       ],
       "scored": true,
       "setup": "",
       "teardown": "",
       "type": "doctest"
      }
     ]
    }
   }
  },
  "varInspector": {
   "cols": {
    "lenName": 16,
    "lenType": 16,
    "lenVar": 40
   },
   "kernels_config": {
    "python": {
     "delete_cmd_postfix": "",
     "delete_cmd_prefix": "del ",
     "library": "var_list.py",
     "varRefreshCmd": "print(var_dic_list())"
    },
    "r": {
     "delete_cmd_postfix": ") ",
     "delete_cmd_prefix": "rm(",
     "library": "var_list.r",
     "varRefreshCmd": "cat(var_dic_list()) "
    }
   },
   "types_to_exclude": [
    "module",
    "function",
    "builtin_function_or_method",
    "instance",
    "_Feature"
   ],
   "window_display": false
  }
 },
 "nbformat": 4,
 "nbformat_minor": 4
}
