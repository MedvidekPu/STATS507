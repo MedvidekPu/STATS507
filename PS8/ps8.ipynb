{
 "cells": [
  {
   "cell_type": "code",
   "execution_count": 559,
   "id": "1d154066",
   "metadata": {
    "deletable": false,
    "editable": false
   },
   "outputs": [],
   "source": [
    "# Initialize Otter\n",
    "import otter\n",
    "grader = otter.Notebook(\"ps8.ipynb\")"
   ]
  },
  {
   "cell_type": "code",
   "execution_count": 560,
   "id": "61e66bdf",
   "metadata": {},
   "outputs": [],
   "source": [
    "import sqlite3\n",
    "import re"
   ]
  },
  {
   "cell_type": "markdown",
   "id": "7c713d47",
   "metadata": {},
   "source": [
    "## Question 1: regex puzzles\n",
    "Using 30 characters or less, write a regex that matches the words in the left-hand column, and does not match the words in the right-hand column."
   ]
  },
  {
   "cell_type": "markdown",
   "id": "b6c4b13c",
   "metadata": {},
   "source": [
    "**1(a)** (3 pts) For this question only, do not use `$` in your regex.\n",
    "\n",
    "| **Matches** | **Doesn't match** |\n",
    "|-------------|-------------------|\n",
    "| owe         | silkweed          |\n",
    "| overawe     | weave             |\n",
    "| ewe         | well              |\n",
    "| awe         | awesome           |\n",
    "| we          | howitzer          |"
   ]
  },
  {
   "cell_type": "code",
   "execution_count": 561,
   "id": "0508de65",
   "metadata": {
    "tags": []
   },
   "outputs": [],
   "source": [
    "regex1a='(?=^(?!.*[sl]).*we)^(?!w)'\n",
    "..."
   ]
  },
  {
   "cell_type": "code",
   "execution_count": 562,
   "id": "210099ff",
   "metadata": {
    "deletable": false,
    "editable": false
   },
   "outputs": [
    {
     "data": {
      "text/html": [
       "<p><strong><pre style='display: inline;'>q1a</pre></strong> passed!</p>"
      ],
      "text/plain": [
       "q1a results: All test cases passed!"
      ]
     },
     "execution_count": 562,
     "metadata": {},
     "output_type": "execute_result"
    }
   ],
   "source": [
    "grader.check(\"q1a\")"
   ]
  },
  {
   "cell_type": "markdown",
   "id": "6a34063d",
   "metadata": {},
   "source": [
    "**1(b)** (3 pts)\n",
    "\n",
    "| **Matches** | **Doesn't match** |\n",
    "|-------------|-------------------|\n",
    "| civic       | housing           |\n",
    "| redder      | twill             |\n",
    "| level       | beer              |\n",
    "| foof        | iota              |\n",
    "| hallah      | zoonota           |"
   ]
  },
  {
   "cell_type": "code",
   "execution_count": 563,
   "id": "1e8f0708",
   "metadata": {
    "tags": []
   },
   "outputs": [],
   "source": [
    "regex1b = '(?=^(?!.*[bztg]))'"
   ]
  },
  {
   "cell_type": "code",
   "execution_count": 564,
   "id": "a393858e",
   "metadata": {
    "deletable": false,
    "editable": false
   },
   "outputs": [
    {
     "data": {
      "text/html": [
       "<p><strong><pre style='display: inline;'>q1b</pre></strong> passed!</p>"
      ],
      "text/plain": [
       "q1b results: All test cases passed!"
      ]
     },
     "execution_count": 564,
     "metadata": {},
     "output_type": "execute_result"
    }
   ],
   "source": [
    "grader.check(\"q1b\")"
   ]
  },
  {
   "cell_type": "markdown",
   "id": "8c59de39",
   "metadata": {},
   "source": [
    "**1(c)** (3 pts)\n",
    "\n",
    "| **Matches**       | **Doesn't match** |\n",
    "|-------------------|-------------------|\n",
    "| dunderheadedness  | overpunishment    |\n",
    "| divekeeper        | amplification     |\n",
    "| homologous        | beer              |\n",
    "| unintelligibility | tenderheartedness |\n",
    "| locomotory        | Ternstroemiaceae  |\n",
    "| elevener          | Ludgate           |"
   ]
  },
  {
   "cell_type": "code",
   "execution_count": 565,
   "id": "29a37526",
   "metadata": {
    "tags": []
   },
   "outputs": [],
   "source": [
    "regex1c = '(?=^(?!.*[LTf]))^(?![bo])'"
   ]
  },
  {
   "cell_type": "code",
   "execution_count": 566,
   "id": "75ab66c3",
   "metadata": {
    "deletable": false,
    "editable": false
   },
   "outputs": [
    {
     "data": {
      "text/html": [
       "<p><strong><pre style='display: inline;'>q1c</pre></strong> passed!</p>"
      ],
      "text/plain": [
       "q1c results: All test cases passed!"
      ]
     },
     "execution_count": 566,
     "metadata": {},
     "output_type": "execute_result"
    }
   ],
   "source": [
    "grader.check(\"q1c\")"
   ]
  },
  {
   "cell_type": "markdown",
   "id": "674988e5",
   "metadata": {},
   "source": [
    "**1(d)** (3 pts)\n",
    "\n",
    "| **Matches** | **Doesn't match** |\n",
    "|-------------|-------------------|\n",
    "| effusive    | hippogriffin      |\n",
    "| noisefully  | overattached      |\n",
    "| disarmature | trillion          |\n",
    "| suspenseful | unfitting         |\n",
    "| unversatile | commotive         |\n",
    "| calomorphic | abba              |"
   ]
  },
  {
   "cell_type": "code",
   "execution_count": 567,
   "id": "f692f6d5",
   "metadata": {
    "tags": []
   },
   "outputs": [],
   "source": [
    "regex1d = '(?=^(?!.*[g]))^(?!co|[ota])'"
   ]
  },
  {
   "cell_type": "code",
   "execution_count": 568,
   "id": "6ff7cf9c",
   "metadata": {
    "deletable": false,
    "editable": false
   },
   "outputs": [
    {
     "data": {
      "text/html": [
       "<p><strong><pre style='display: inline;'>q1d</pre></strong> passed!</p>"
      ],
      "text/plain": [
       "q1d results: All test cases passed!"
      ]
     },
     "execution_count": 568,
     "metadata": {},
     "output_type": "execute_result"
    }
   ],
   "source": [
    "grader.check(\"q1d\")"
   ]
  },
  {
   "cell_type": "markdown",
   "id": "5269eae8",
   "metadata": {},
   "source": [
    "## Question 2: Basic SQL\n",
    "In this problem, you'll interact with a toy SQL database using Python's\n",
    "built-in `sqlite3` package. Documentation can be found at\n",
    "<https://docs.python.org/3/library/sqlite3.html>. For this problem,\n",
    "we'll use a popular toy SQLite database, called Chinook, which\n",
    "represents a digital music collection. See the documentation at <https://github.com/lerocha/chinook-database/blob/master/README.md>\n",
    "for a more detailed explanation. We'll use the `chinook.sqlite` file:"
   ]
  },
  {
   "cell_type": "code",
   "execution_count": 569,
   "id": "6a7eaa44",
   "metadata": {},
   "outputs": [],
   "source": [
    "con2 = sqlite3.connect('chinook.sqlite')\n",
    "con2.row_factory = lambda curs, r: r[0] # stop returning tuples!\n",
    "cur = con.cursor()"
   ]
  },
  {
   "cell_type": "markdown",
   "id": "56a5379f",
   "metadata": {},
   "source": [
    "**2(a)** (1 pt) Load the database using the Python `sqlite3` package. How many tables are in the database? Save the answer in the variable `n_tables`."
   ]
  },
  {
   "cell_type": "code",
   "execution_count": 570,
   "id": "6dc62cb1",
   "metadata": {
    "tags": []
   },
   "outputs": [],
   "source": [
    "n_tables = con2.execute('SELECT count(*) FROM sqlite_master WHERE type = \"table\";').fetchall()[0]"
   ]
  },
  {
   "cell_type": "code",
   "execution_count": 571,
   "id": "35870e7b",
   "metadata": {
    "deletable": false,
    "editable": false
   },
   "outputs": [
    {
     "data": {
      "text/html": [
       "<p><strong><pre style='display: inline;'>q2a</pre></strong> passed!</p>"
      ],
      "text/plain": [
       "q2a results: All test cases passed!"
      ]
     },
     "execution_count": 571,
     "metadata": {},
     "output_type": "execute_result"
    }
   ],
   "source": [
    "grader.check(\"q2a\")"
   ]
  },
  {
   "cell_type": "markdown",
   "id": "b10a6b4c",
   "metadata": {},
   "source": [
    "**2(b)** (2 pts) What are the names of the tables in the database? Save the answer as\n",
    "    a set of strings, `table_names`. **Note:** you should write Python `sqlite3`\n",
    "    code to answer this; don't just look up the answer in the\n",
    "    documentation!\n"
   ]
  },
  {
   "cell_type": "code",
   "execution_count": 572,
   "id": "3affe682",
   "metadata": {
    "tags": []
   },
   "outputs": [],
   "source": [
    "table_names = set(con2.execute('SELECT name FROM sqlite_master WHERE type = \"table\";').fetchall())"
   ]
  },
  {
   "cell_type": "code",
   "execution_count": 573,
   "id": "f3b0174b",
   "metadata": {
    "deletable": false,
    "editable": false
   },
   "outputs": [
    {
     "data": {
      "text/html": [
       "<p><strong><pre style='display: inline;'>q2b</pre></strong> passed!</p>"
      ],
      "text/plain": [
       "q2b results: All test cases passed!"
      ]
     },
     "execution_count": 573,
     "metadata": {},
     "output_type": "execute_result"
    }
   ],
   "source": [
    "grader.check(\"q2b\")"
   ]
  },
  {
   "cell_type": "markdown",
   "id": "d773517e",
   "metadata": {},
   "source": [
    "**2(c)** (2 pts) Write a function `albums_starting_with(c)` that takes as an argument a single character `c` and\n",
    "    returns a list of the primary keys of all the albums whose titles\n",
    "    start with that character. Your function should ignore case, so that\n",
    "    the inputs \"a\" and \"A\" yield the same results. Include error\n",
    "    checking that raises an error in the event that the input is not a\n",
    "    single character.\n"
   ]
  },
  {
   "cell_type": "code",
   "execution_count": 574,
   "id": "6bff5dfd",
   "metadata": {
    "tags": []
   },
   "outputs": [],
   "source": [
    "def albums_starting_with(c):\n",
    "    \n",
    "    assert type(c) == str and len(c) == 1\n",
    "    st = c.lower() + '%'\n",
    "    output = con2.execute('SELECT AlbumId FROM Album WHERE Title LIKE \"%s\";' %st).fetchall()\n",
    "\n",
    "    return output\n",
    "    ..."
   ]
  },
  {
   "cell_type": "code",
   "execution_count": 575,
   "id": "8a307059",
   "metadata": {
    "deletable": false,
    "editable": false
   },
   "outputs": [
    {
     "data": {
      "text/html": [
       "<p><strong><pre style='display: inline;'>q2c</pre></strong> passed!</p>"
      ],
      "text/plain": [
       "q2c results: All test cases passed!"
      ]
     },
     "execution_count": 575,
     "metadata": {},
     "output_type": "execute_result"
    }
   ],
   "source": [
    "grader.check(\"q2c\")"
   ]
  },
  {
   "cell_type": "markdown",
   "id": "af3bf66e",
   "metadata": {},
   "source": [
    "**2(d)** (2 pts) Write a function `songs_starting_with(c)` that takes as an argument a single character and\n",
    "    returns a list of the primary keys of all the **songs** whose album\n",
    "    names begin with that letter. Again, your function should ignore\n",
    "    case and perform error checking as in the previous exercise (again ignoring case).\n",
    "    **Hint:** you'll need a JOIN statement here. Don't forget that you\n",
    "    can use the `cursor.description` attribute to find out about tables\n",
    "    and the names of their columns.\n"
   ]
  },
  {
   "cell_type": "code",
   "execution_count": 576,
   "id": "c41dfefd",
   "metadata": {
    "tags": []
   },
   "outputs": [],
   "source": [
    "def songs_starting_with(c):\n",
    "    \n",
    "    assert type(c) == str and len(c) == 1\n",
    "    st = c.lower() + '%'\n",
    "    output = con2.execute('SELECT Track.TrackId FROM Track INNER JOIN Album ON Track.AlbumId = Album.AlbumId WHERE Title LIKE \"%s\";' %st).fetchall()\n",
    "    \n",
    "    return output\n",
    "    ..."
   ]
  },
  {
   "cell_type": "code",
   "execution_count": 577,
   "id": "e6ee3a58",
   "metadata": {
    "deletable": false,
    "editable": false
   },
   "outputs": [
    {
     "data": {
      "text/html": [
       "<p><strong><pre style='display: inline;'>q2d</pre></strong> passed!</p>"
      ],
      "text/plain": [
       "q2d results: All test cases passed!"
      ]
     },
     "execution_count": 577,
     "metadata": {},
     "output_type": "execute_result"
    }
   ],
   "source": [
    "grader.check(\"q2d\")"
   ]
  },
  {
   "cell_type": "markdown",
   "id": "923b1e87",
   "metadata": {},
   "source": [
    "**2(e)** (2 pts) Write a function `cost_of(c)` that takes as an argument a single character and\n",
    "    returns the cost of buying every song whose album begins with that\n",
    "    letter. This cost should be based on the tracks' unit prices, so\n",
    "    that the cost of buying a set of tracks is simply the sum of the\n",
    "    unit prices of all the tracks in the set. Again your function should\n",
    "    ignore case and perform appropriate error checking.\n"
   ]
  },
  {
   "cell_type": "code",
   "execution_count": 578,
   "id": "4dd4147d",
   "metadata": {},
   "outputs": [],
   "source": [
    "def cost_of(c):\n",
    "    # BEGIN SOLUTION\n",
    "    assert type(c) == str and len(c) == 1\n",
    "    res = con2.execute(\"\"\"SELECT SUM(c.UnitPrice)\n",
    "        FROM Album a\n",
    "        JOIN Track b\n",
    "        JOIN (SELECT DISTINCT TrackId, UnitPrice from InvoiceLine) c \n",
    "        ON a.AlbumId = b.AlbumId \n",
    "        AND b.TrackId = c.TrackId\n",
    "        WHERE substr(lower(Title), 1, 1) = ?\"\"\", c.lower())\n",
    "    return res.fetchall()[0]\n",
    "    # END SOLUTION"
   ]
  },
  {
   "cell_type": "code",
   "execution_count": 579,
   "id": "e69092eb",
   "metadata": {
    "deletable": false,
    "editable": false
   },
   "outputs": [
    {
     "data": {
      "text/html": [
       "<p><strong><pre style='display: inline;'>q2e</pre></strong> passed!</p>"
      ],
      "text/plain": [
       "q2e results: All test cases passed!"
      ]
     },
     "execution_count": 579,
     "metadata": {},
     "output_type": "execute_result"
    }
   ],
   "source": [
    "grader.check(\"q2e\")"
   ]
  },
  {
   "cell_type": "markdown",
   "id": "14a6395b",
   "metadata": {},
   "source": [
    "## Question 3: Additional SQL\n",
    "In this case, we will use the included file `flights.sqlite`, which is a SQLite version of the `flights` dataset that we saw in Lectures 10–12."
   ]
  },
  {
   "cell_type": "code",
   "execution_count": 580,
   "id": "2acd9c4c",
   "metadata": {},
   "outputs": [],
   "source": [
    "con = sqlite3.connect('flights.sqlite')\n",
    "cur = con.cursor()"
   ]
  },
  {
   "cell_type": "markdown",
   "id": "3d87663e",
   "metadata": {},
   "source": [
    "Each question asks you to write a SQL query that performs a certain operation. For example, if the question asks, \"how many flights are there\", an answer could be \n",
    "\n",
    "> `SELECT COUNT(*) FROM flights`\n",
    "\n",
    "Some questions refer to a parameter $x$. For these, you should write a query containing a placeholder, which we can run for different values of $x$. For example, if the question asks, \"how many flights are there in month $x$?\", where $x\\in\\{1,2,\\dots,12\\}$ is a numerical month, an answer could be \n",
    "\n",
    "> `SELECT COUNT(*) FROM flights WHERE month=?`.\n",
    "\n",
    "For answers that ask for a single datum, we will run \n",
    "```\n",
    "> cur.execute(your_query)\n",
    "> result = cur.fetchone()\n",
    "```\n",
    "For answers that ask for a table or set of rows, we will use `cur.fetchall(...)` instead of `cur.fetchone(...)`. For answers that accept a parameter, we will use e.g. `cur.fetchone(..., [x])`."
   ]
  },
  {
   "cell_type": "markdown",
   "id": "53a9c8c1",
   "metadata": {},
   "source": [
    "**3(a)** (2 pts) What was the number of scheduled departures on day of the week $x$, where $x$ is the numerical day of the week (Sunday=0, Monday=1, etc.) Your query should return a tuple `(n, x)` where `n` is the number of flights, and `x` is the day of week."
   ]
  },
  {
   "cell_type": "code",
   "execution_count": 581,
   "id": "2df25a1f",
   "metadata": {
    "tags": []
   },
   "outputs": [],
   "source": [
    "avg_sched_dep = \"\"\"SELECT COUNT(*), cast(strftime(\"%w\", date(datetime(time_hour, \"unixepoch\"))) as integer) as dw \n",
    "                     from flights\n",
    "                     where dw=cast(? as text);\n",
    "                \"\"\""
   ]
  },
  {
   "cell_type": "code",
   "execution_count": 582,
   "id": "b41bd59b",
   "metadata": {
    "deletable": false,
    "editable": false
   },
   "outputs": [
    {
     "data": {
      "text/html": [
       "<p><strong><pre style='display: inline;'>q3a</pre></strong> passed!</p>"
      ],
      "text/plain": [
       "q3a results: All test cases passed!"
      ]
     },
     "execution_count": 582,
     "metadata": {},
     "output_type": "execute_result"
    }
   ],
   "source": [
    "grader.check(\"q3a\")"
   ]
  },
  {
   "cell_type": "markdown",
   "id": "931cf0a1",
   "metadata": {},
   "source": [
    "**3(b)** (2 pts) Which month had the most scheduled departures? Your query should return tuple containing a single numerical month (for example `(2,)` if the answer is February.)"
   ]
  },
  {
   "cell_type": "code",
   "execution_count": 583,
   "id": "72150fcf",
   "metadata": {},
   "outputs": [],
   "source": [
    "most_deps = \"\"\"\n",
    "            SELECT month \n",
    "            FROM flights  GROUP BY month\n",
    "            HAVING COUNT(month)=(SELECT MAX(cnt) \n",
    "            FROM( SELECT month, COUNT(month) cnt\n",
    "            FROM flights\n",
    "            GROUP BY month));\n",
    "            \"\"\"\n",
    "#print(con.execute(most_deps).fetchall())"
   ]
  },
  {
   "cell_type": "code",
   "execution_count": 584,
   "id": "271b3fc7",
   "metadata": {
    "deletable": false,
    "editable": false
   },
   "outputs": [
    {
     "data": {
      "text/html": [
       "<p><strong><pre style='display: inline;'>q3b</pre></strong> passed!</p>"
      ],
      "text/plain": [
       "q3b results: All test cases passed!"
      ]
     },
     "execution_count": 584,
     "metadata": {},
     "output_type": "execute_result"
    }
   ],
   "source": [
    "grader.check(\"q3b\")"
   ]
  },
  {
   "cell_type": "markdown",
   "id": "9e842c00",
   "metadata": {},
   "source": [
    "**3(c)** (3 pts) On how many days was the highest recorded temperature below $x$ degrees?"
   ]
  },
  {
   "cell_type": "code",
   "execution_count": 585,
   "id": "122e1067",
   "metadata": {
    "tags": []
   },
   "outputs": [],
   "source": [
    "high_above = \"\"\"SELECT COUNT(*) FROM (SELECT MAX(temp) temp FROM weather GROUP BY year, month, day) WHERE temp<?;\"\"\"\n",
    "\n",
    "\n",
    "#table_names = set(con.execute('SELECT name FROM sqlite_master WHERE type = \"table\";').fetchall())\n",
    "#print(table_names)\n",
    "#print(con.execute('PRAGMA table_info(weather);').fetchall())\n",
    "#print(con.execute(\"\"\"SELECT * FROM (SELECT MAX(temp) temp FROM weather GROUP BY year, month, day)\"\"\").fetchall())\n",
    "#print(con.execute(\"\"\"SELECT COUNT(*) FROM flights\"\"\").fetchall())"
   ]
  },
  {
   "cell_type": "code",
   "execution_count": 586,
   "id": "f46c0eed",
   "metadata": {
    "deletable": false,
    "editable": false
   },
   "outputs": [
    {
     "data": {
      "text/html": [
       "<p><strong><pre style='display: inline;'>q3c</pre></strong> passed!</p>"
      ],
      "text/plain": [
       "q3c results: All test cases passed!"
      ]
     },
     "execution_count": 586,
     "metadata": {},
     "output_type": "execute_result"
    }
   ],
   "source": [
    "grader.check(\"q3c\")"
   ]
  },
  {
   "cell_type": "markdown",
   "id": "a3f73cb9",
   "metadata": {},
   "source": [
    "**3(d)** (3 pts) In this dataset, a cancelled flight is one for which `dep_delay` is missing. What percentage of the flights were cancelled overall?"
   ]
  },
  {
   "cell_type": "code",
   "execution_count": 587,
   "id": "b9b672c9",
   "metadata": {
    "tags": []
   },
   "outputs": [],
   "source": [
    "pct_cancelled = 'SELECT (COUNT(*) - COUNT(dep_delay)) / cast(COUNT(*) as real) FROM flights;'"
   ]
  },
  {
   "cell_type": "code",
   "execution_count": 588,
   "id": "79d0ce52",
   "metadata": {
    "deletable": false,
    "editable": false
   },
   "outputs": [
    {
     "data": {
      "text/html": [
       "<p><strong><pre style='display: inline;'>q3d</pre></strong> passed!</p>"
      ],
      "text/plain": [
       "q3d results: All test cases passed!"
      ]
     },
     "execution_count": 588,
     "metadata": {},
     "output_type": "execute_result"
    }
   ],
   "source": [
    "grader.check(\"q3d\")"
   ]
  },
  {
   "cell_type": "markdown",
   "id": "d402d6fc",
   "metadata": {},
   "source": [
    "**3(e)** (4 pts) What percentage of flights were cancelled on days where the max temperature was a) at least 35 degrees, versus b) less than 35 degrees? Your query should return a table that looks like\n",
    "\n",
    "| warm | pct_cancelled |\n",
    "|------|---------------|\n",
    "|0     | $.xxx$        |\n",
    "|1     | $.yyy$        |"
   ]
  },
  {
   "cell_type": "code",
   "execution_count": 1,
   "id": "19ff9116",
   "metadata": {
    "tags": []
   },
   "outputs": [],
   "source": [
    "pct_cancelled_by_temp = \"\"\"\n",
    "                        SELECT (CASE WHEN max_t > 35 THEN 1 ELSE 0 END) warm, ((COUNT(*) - COUNT(dep_delay)) / cast(COUNT(*) as real)) pct_cancelled\n",
    "                        FROM (\n",
    "                        SELECT flights.year, flights.month, flights.day, max_t, dep_delay FROM flights\n",
    "                        INNER JOIN (\n",
    "                        SELECT year, day, month, max_t FROM (SELECT year, month, day, MAX(temp) max_t FROM weather GROUP BY year, month, day)) weather2\n",
    "                        ON weather2.day = flights.day AND weather2.year = flights.year AND weather2.month = flights.month)\n",
    "                        GROUP BY warm;\n",
    "                        \"\"\""
   ]
  },
  {
   "cell_type": "code",
   "execution_count": 2,
   "id": "bf0f91cf",
   "metadata": {
    "deletable": false,
    "editable": false
   },
   "outputs": [
    {
     "ename": "NameError",
     "evalue": "name 'grader' is not defined",
     "output_type": "error",
     "traceback": [
      "\u001b[1;31m---------------------------------------------------------------------------\u001b[0m",
      "\u001b[1;31mNameError\u001b[0m                                 Traceback (most recent call last)",
      "\u001b[1;32m~\\AppData\\Local\\Temp/ipykernel_4444/780896434.py\u001b[0m in \u001b[0;36m<module>\u001b[1;34m\u001b[0m\n\u001b[1;32m----> 1\u001b[1;33m \u001b[0mgrader\u001b[0m\u001b[1;33m.\u001b[0m\u001b[0mcheck\u001b[0m\u001b[1;33m(\u001b[0m\u001b[1;34m\"q3e\"\u001b[0m\u001b[1;33m)\u001b[0m\u001b[1;33m\u001b[0m\u001b[1;33m\u001b[0m\u001b[0m\n\u001b[0m",
      "\u001b[1;31mNameError\u001b[0m: name 'grader' is not defined"
     ]
    }
   ],
   "source": [
    "grader.check(\"q3e\")"
   ]
  },
  {
   "cell_type": "markdown",
   "id": "60718de5",
   "metadata": {
    "deletable": false,
    "editable": false
   },
   "source": [
    "---\n",
    "\n",
    "To double-check your work, the cell below will rerun all of the autograder tests."
   ]
  },
  {
   "cell_type": "code",
   "execution_count": 591,
   "id": "4e135523",
   "metadata": {
    "deletable": false,
    "editable": false
   },
   "outputs": [
    {
     "data": {
      "text/plain": [
       "q1a results: All test cases passed!\n",
       "\n",
       "q1b results: All test cases passed!\n",
       "\n",
       "q1c results: All test cases passed!\n",
       "\n",
       "q1d results: All test cases passed!\n",
       "\n",
       "q2a results: All test cases passed!\n",
       "\n",
       "q2b results: All test cases passed!\n",
       "\n",
       "q2c results: All test cases passed!\n",
       "\n",
       "q2d results: All test cases passed!\n",
       "\n",
       "q2e results: All test cases passed!\n",
       "\n",
       "q3a results: All test cases passed!\n",
       "\n",
       "q3b results: All test cases passed!\n",
       "\n",
       "q3c results: All test cases passed!\n",
       "\n",
       "q3d results: All test cases passed!\n",
       "\n",
       "q3e results: All test cases passed!"
      ]
     },
     "execution_count": 591,
     "metadata": {},
     "output_type": "execute_result"
    }
   ],
   "source": [
    "grader.check_all()"
   ]
  },
  {
   "cell_type": "markdown",
   "id": "5da80a91",
   "metadata": {
    "deletable": false,
    "editable": false
   },
   "source": [
    "## Submission\n",
    "\n",
    "Make sure you have run all cells in your notebook in order before running the cell below, so that all images/graphs appear in the output. The cell below will generate a zip file for you to submit. **Please save before exporting!**\n",
    "\n",
    "Upload this .zip file to Gradescope for grading."
   ]
  },
  {
   "cell_type": "code",
   "execution_count": 592,
   "id": "7746a933",
   "metadata": {
    "deletable": false,
    "editable": false
   },
   "outputs": [
    {
     "data": {
      "text/html": [
       "\n",
       "            <p>Your submission has been exported. Click <a href=\"ps8_2022_03_16T15_49_29_328853.zip\" download=\"ps8_2022_03_16T15_49_29_328853.zip\" target=\"_blank\">here</a>\n",
       "            to download the zip file.</p>\n",
       "            "
      ],
      "text/plain": [
       "<IPython.core.display.HTML object>"
      ]
     },
     "metadata": {},
     "output_type": "display_data"
    }
   ],
   "source": [
    "# Save your notebook first, then run this cell to export your submission.\n",
    "grader.export(pdf=False)"
   ]
  },
  {
   "cell_type": "markdown",
   "id": "e17edae0",
   "metadata": {},
   "source": [
    " "
   ]
  }
 ],
 "metadata": {
  "kernelspec": {
   "display_name": "Python 3 (ipykernel)",
   "language": "python",
   "name": "python3"
  },
  "language_info": {
   "codemirror_mode": {
    "name": "ipython",
    "version": 3
   },
   "file_extension": ".py",
   "mimetype": "text/x-python",
   "name": "python",
   "nbconvert_exporter": "python",
   "pygments_lexer": "ipython3",
   "version": "3.9.7"
  },
  "otter": {
   "tests": {
    "q1a": {
     "name": "q1a",
     "points": 3,
     "suites": [
      {
       "cases": [
        {
         "code": ">>> assert '$' not in regex1a\n",
         "hidden": false,
         "locked": false
        },
        {
         "code": ">>> matches = ['owe', 'overawe', 'ewe', 'awe']\n>>> nomatches = ['silkweed', 'weave', 'well', 'awesome', 'howitzer']\n>>> for word in matches:\n...     assert re.match(regex1a, word), word\n>>> for word in nomatches:\n...     assert not re.match(regex1a, word), word\n",
         "hidden": false,
         "locked": false
        }
       ],
       "scored": true,
       "setup": "",
       "teardown": "",
       "type": "doctest"
      }
     ]
    },
    "q1b": {
     "name": "q1b",
     "points": 3,
     "suites": [
      {
       "cases": [
        {
         "code": ">>> matches = ['civic', 'level', 'foof']\n>>> nomatches = ['housing', 'twill', 'beer', 'iota', 'zoonota']\n>>> for word in matches:\n...     assert re.match(regex1b, word), word\n>>> for word in nomatches:\n...     assert not re.match(regex1b, word), word\n",
         "hidden": false,
         "locked": false
        },
        {
         "code": ">>> assert re.match(regex1b, \"hallah\")\n",
         "hidden": false,
         "locked": false
        }
       ],
       "scored": true,
       "setup": "",
       "teardown": "",
       "type": "doctest"
      }
     ]
    },
    "q1c": {
     "name": "q1c",
     "points": 3,
     "suites": [
      {
       "cases": [
        {
         "code": ">>> matches = ['dunderheadedness', 'divekeeper', 'homologous', 'unintelligibility', 'locomotory', 'elevener']\n>>> nomatches = ['overpunishment', 'amplification', 'beer', 'Ludgate']\n>>> for word in matches:\n...     assert re.match(regex1c, word), word\n>>> for word in nomatches:\n...     assert not re.match(regex1c, word), word\n",
         "hidden": false,
         "locked": false
        }
       ],
       "scored": true,
       "setup": "",
       "teardown": "",
       "type": "doctest"
      }
     ]
    },
    "q1d": {
     "name": "q1d",
     "points": 3,
     "suites": [
      {
       "cases": [
        {
         "code": ">>> matches = ['effusive', 'noisefully', 'disarmature', 'suspenseful', 'unversatile', 'calomorphic']\n>>> nomatches = ['hippogriffin', 'overattached', 'trillion', 'unfitting', 'commotive', 'abba']\n>>> for word in matches:\n...     assert re.match(regex1d, word)\n>>> for word in nomatches:\n...     assert not re.match(regex1d, word)\n",
         "hidden": false,
         "locked": false
        }
       ],
       "scored": true,
       "setup": "",
       "teardown": "",
       "type": "doctest"
      }
     ]
    },
    "q2a": {
     "name": "q2a",
     "points": 1,
     "suites": [
      {
       "cases": [
        {
         "code": ">>> assert n_tables == 11\n",
         "hidden": false,
         "locked": false
        }
       ],
       "scored": true,
       "setup": "",
       "teardown": "",
       "type": "doctest"
      }
     ]
    },
    "q2b": {
     "name": "q2b",
     "points": 2,
     "suites": [
      {
       "cases": [
        {
         "code": ">>> res = {'Album', 'Genre', 'Playlist', 'PlaylistTrack', 'Employee', 'Customer', 'InvoiceLine', 'Track', 'Artist', 'MediaType', 'Invoice'}\n>>> assert table_names == res\n",
         "hidden": false,
         "locked": false
        }
       ],
       "scored": true,
       "setup": "",
       "teardown": "",
       "type": "doctest"
      }
     ]
    },
    "q2c": {
     "name": "q2c",
     "points": 2,
     "suites": [
      {
       "cases": [
        {
         "code": ">>> res = albums_starting_with('a')\n>>> assert type(res) == list\n>>> assert len(res) == 32\n>>> for i in [10, 14, 15, 24, 26, 29, 74, 167, 319]:\n...     assert i in res\n",
         "hidden": false,
         "locked": false
        },
        {
         "code": ">>> try:\n...     albums_starting_with(3)\n... except Exception:\n...     pass\n... else:\n...     raise Exception(\"should raise an exception\")\n",
         "hidden": false,
         "locked": false
        },
        {
         "code": ">>> try:\n...     albums_starting_with('res')\n... except Exception:\n...     pass\n... else:\n...     raise Exception(\"should raise an exception\")\n",
         "hidden": false,
         "locked": false
        }
       ],
       "scored": true,
       "setup": "",
       "teardown": "",
       "type": "doctest"
      }
     ]
    },
    "q2d": {
     "name": "q2d",
     "points": 2,
     "suites": [
      {
       "cases": [
        {
         "code": ">>> res = songs_starting_with('a')\n>>> assert type(res) == list\n>>> assert len(res) == 369\n>>> for i in [85, 86, 87, 331, 332, 333, 923, 924, 925]:\n...     assert i in res\n",
         "hidden": false,
         "locked": false
        },
        {
         "code": ">>> try:\n...     songs_starting_with(3)\n... except Exception:\n...     pass\n... else:\n...     raise Exception(\"should raise an exception\")\n",
         "hidden": false,
         "locked": false
        },
        {
         "code": ">>> try:\n...     songs_starting_with('res')\n... except Exception:\n...     pass\n... else:\n...     raise Exception(\"should raise an exception\")\n",
         "hidden": false,
         "locked": false
        }
       ],
       "scored": true,
       "setup": "",
       "teardown": "",
       "type": "doctest"
      }
     ]
    },
    "q2e": {
     "name": "q2e",
     "points": 2,
     "suites": [
      {
       "cases": [
        {
         "code": ">>> res = cost_of('a')\n>>> assert type(res) == float\n>>> assert abs(res - 216.82) < 1e-5\n",
         "hidden": false,
         "locked": false
        },
        {
         "code": ">>> try:\n...     cost_of(3)\n... except Exception:\n...     pass\n... else:\n...     raise Exception(\"should raise an exception\")\n",
         "hidden": false,
         "locked": false
        },
        {
         "code": ">>> try:\n...     cost_of('res')\n... except Exception:\n...     pass\n... else:\n...     raise Exception(\"should raise an exception\")\n",
         "hidden": false,
         "locked": false
        }
       ],
       "scored": true,
       "setup": "",
       "teardown": "",
       "type": "doctest"
      }
     ]
    },
    "q3a": {
     "name": "q3a",
     "points": 2,
     "suites": [
      {
       "cases": [
        {
         "code": ">>> assert cur.execute(avg_sched_dep, [1]).fetchone() == (50709, 1)\n",
         "hidden": false,
         "locked": false
        }
       ],
       "scored": true,
       "setup": "",
       "teardown": "",
       "type": "doctest"
      }
     ]
    },
    "q3b": {
     "name": "q3b",
     "points": 2,
     "suites": [
      {
       "cases": [
        {
         "code": ">>> assert cur.execute(most_deps).fetchone() == (7,)\n",
         "hidden": false,
         "locked": false
        }
       ],
       "scored": true,
       "setup": "",
       "teardown": "",
       "type": "doctest"
      }
     ]
    },
    "q3c": {
     "name": "q3c",
     "points": 3,
     "suites": [
      {
       "cases": [
        {
         "code": ">>> assert cur.execute(high_above, [40]).fetchone() == (48,)\n",
         "hidden": false,
         "locked": false
        },
        {
         "code": ">>> assert cur.execute(high_above, [200]).fetchone() == (364,)\n",
         "hidden": false,
         "locked": false
        }
       ],
       "scored": true,
       "setup": "",
       "teardown": "",
       "type": "doctest"
      }
     ]
    },
    "q3d": {
     "name": "q3d",
     "points": 3,
     "suites": [
      {
       "cases": [
        {
         "code": ">>> res = cur.execute(pct_cancelled).fetchone()\n>>> assert len(res) == 1\n>>> assert abs(res[0] - 0.02451184169) < 1e-5\n",
         "hidden": false,
         "locked": false
        }
       ],
       "scored": true,
       "setup": "",
       "teardown": "",
       "type": "doctest"
      }
     ]
    },
    "q3e": {
     "name": "q3e",
     "points": 4,
     "suites": [
      {
       "cases": [
        {
         "code": ">>> res = cur.execute(pct_cancelled_by_temp).fetchall()\n>>> assert res[0][0] == 0\n>>> assert abs(res[0][1] - 0.040148078627665) < 1e-4\n",
         "hidden": false,
         "locked": false
        }
       ],
       "scored": true,
       "setup": "",
       "teardown": "",
       "type": "doctest"
      }
     ]
    }
   }
  }
 },
 "nbformat": 4,
 "nbformat_minor": 5
}
