{
 "cells": [
  {
   "cell_type": "code",
   "execution_count": 1,
   "id": "3ec12634",
   "metadata": {
    "deletable": false,
    "editable": false
   },
   "outputs": [],
   "source": [
    "# Initialize Otter\n",
    "import otter\n",
    "grader = otter.Notebook(\"ps5.ipynb\")"
   ]
  },
  {
   "cell_type": "markdown",
   "id": "780156a0",
   "metadata": {},
   "source": [
    "### Question 1\n",
    "This question will continue where we left off in lecture, by using the MapReduce class to perform data processing."
   ]
  },
  {
   "cell_type": "code",
   "execution_count": 2,
   "id": "bebdfaf0",
   "metadata": {},
   "outputs": [],
   "source": [
    "from functools import reduce\n",
    "import itertools\n",
    "import gzip\n",
    "\n",
    "\n",
    "class MapReduce:\n",
    "    @property\n",
    "    def reduce_init(self):\n",
    "        # override as necessary if the init parameter needs to change\n",
    "        return None\n",
    "\n",
    "    def mapper(self, x):\n",
    "        raise NotImplementedError()\n",
    "\n",
    "    def reducer(self, accum, x):\n",
    "        raise NotImplementedError()\n",
    "\n",
    "    def postprocess(self, reduced):\n",
    "        # override if necessary\n",
    "        return reduced\n",
    "\n",
    "    def run(self, iterable):\n",
    "        mapped = map(self.mapper, iterable)\n",
    "        reduced = reduce(self.reducer, mapped, self.reduce_init)\n",
    "        processed = self.postprocess(reduced)\n",
    "        return processed"
   ]
  },
  {
   "cell_type": "markdown",
   "id": "330f12be",
   "metadata": {},
   "source": [
    "(To make things more flexible, we have also added an optional `.postprocess()` method that can be used to do additional processing after the reduction step.)"
   ]
  },
  {
   "cell_type": "markdown",
   "id": "ae3a1b7e",
   "metadata": {},
   "source": [
    "Questions 1(a)-1(c) concern the Enron dataset seen in lecture:"
   ]
  },
  {
   "cell_type": "code",
   "execution_count": 3,
   "id": "7597b379",
   "metadata": {},
   "outputs": [],
   "source": [
    "def enron(n=None):\n",
    "    i1 = gzip.open(\"email-Enron.txt.gz\", \"rt\")\n",
    "    i2 = itertools.islice(i1, 4, None)  # slice off header\n",
    "    return itertools.islice(i2, n)"
   ]
  },
  {
   "cell_type": "markdown",
   "id": "4a55f68b",
   "metadata": {},
   "source": [
    "\n",
    "For each question below, implement a subclass of MapReduce such that calling `.run(enron(n))` produces the desired output. For example, if the question asked you to calcluate the total number of e-mails, your solution could be:"
   ]
  },
  {
   "cell_type": "code",
   "execution_count": 4,
   "id": "1e135f7d",
   "metadata": {},
   "outputs": [
    {
     "data": {
      "text/plain": [
       "100"
      ]
     },
     "execution_count": 4,
     "metadata": {},
     "output_type": "execute_result"
    }
   ],
   "source": [
    "class NumEmails(MapReduce):\n",
    "    @property\n",
    "    def reduce_init(self):\n",
    "        return 0\n",
    "\n",
    "    def mapper(self, x):\n",
    "        return 1\n",
    "\n",
    "    def reducer(self, accum, x):\n",
    "        return accum + x\n",
    "\n",
    "\n",
    "NumEmails().run(enron(100))"
   ]
  },
  {
   "cell_type": "markdown",
   "id": "6084a843",
   "metadata": {},
   "source": [
    "**1(a)** (3 pts) Define a user's *importance* to be the number of unique people who e-mailed them (not including themself). Write a MapReduce class that returns a `collections.Counter` mapping each user ID to their importance when run."
   ]
  },
  {
   "cell_type": "code",
   "execution_count": 5,
   "id": "0263f6db",
   "metadata": {
    "tags": []
   },
   "outputs": [
    {
     "data": {
      "text/plain": [
       "Counter({1: 1, 0: 1, 2: 1, 3: 1, 4: 1, 5: 1, 6: 1, 7: 1, 8: 1, 9: 1})"
      ]
     },
     "execution_count": 5,
     "metadata": {},
     "output_type": "execute_result"
    }
   ],
   "source": [
    "class Importance(MapReduce):\n",
    "    ...\n",
    "    \n",
    "    @property\n",
    "    def reduce_init(self):\n",
    "        return {}\n",
    "    \n",
    "    def mapper(self, line):                       \n",
    "        return [int(x) for x in line.split(\"\\t\")] # [0, 1], [1, 0], [1, 2], [1, 3]\n",
    "    \n",
    "    def reducer(self, accumulated, x):\n",
    "        sender, receiver = x # sender = 0, receiver = 1, sender = 1, receiver = 0...\n",
    "        accumulated.setdefault(receiver, set()) # {0: set()} {0: {1}, 1: set()} {0: {1}, 1: {0}} {0: {1}, 1: {0, 2}} {0: {1}, 1: {0, 2, 3}} {0: {1}, 1: {0, 2, 3, 4}}\n",
    "        \n",
    "        if receiver != sender:\n",
    "            accumulated[receiver].add(sender) # {0: {1}} {0: {1}, 1: {0}} {0: {1}, 1: {0, 2}} {0: {1}, 1: {0, 2, 3}} {0: {1}, 1: {0, 2, 3, 4}} {0: {1}, 1: {0, 2, 3, 4, 5}} {0: {1}, 1: {0, 2, 3, 4, 5, 6}}\n",
    "            \n",
    "        return accumulated\n",
    "\n",
    "\n",
    "    def postprocess(self, reduced):\n",
    "        from collections import Counter\n",
    "\n",
    "        return Counter({k: len(v) for k, v in reduced.items()}) # translates data into counter, {0: {1}, 1: {0, 2, 3, 4, 5, 6, 7, 8, 9}} -> Counter({0: 1, 1: 9})\n",
    "    \n",
    "Importance().run(enron(10))"
   ]
  },
  {
   "cell_type": "code",
   "execution_count": 6,
   "id": "d4e774d7",
   "metadata": {
    "deletable": false,
    "editable": false
   },
   "outputs": [
    {
     "data": {
      "text/html": [
       "<p><strong><pre style='display: inline;'>q1a</pre></strong> passed!</p>"
      ],
      "text/plain": [
       "q1a results: All test cases passed!"
      ]
     },
     "execution_count": 6,
     "metadata": {},
     "output_type": "execute_result"
    }
   ],
   "source": [
    "grader.check(\"q1a\")"
   ]
  },
  {
   "cell_type": "markdown",
   "id": "853fa7c9",
   "metadata": {},
   "source": [
    "**1(b)** (4 pts) Define a user's *forgetfulness* to be the number of times they e-mailed themself. Write a MapReduce class that returns a `Counter` that maps each user who e-mailed themself at least once to their forgetfulness score."
   ]
  },
  {
   "cell_type": "code",
   "execution_count": 7,
   "id": "58adfd1b",
   "metadata": {
    "tags": []
   },
   "outputs": [
    {
     "data": {
      "text/plain": [
       "Counter({46: 3})"
      ]
     },
     "execution_count": 7,
     "metadata": {},
     "output_type": "execute_result"
    }
   ],
   "source": [
    "class Forgetful(MapReduce):\n",
    "    \n",
    "    @property\n",
    "    def reduce_init(self):\n",
    "        return {}\n",
    "    \n",
    "    def mapper(self, line):                       \n",
    "        return [int(x) for x in line.split(\"\\t\")] # [0, 1], [1, 0], [1, 2], [1, 3]\n",
    "    \n",
    "    def reducer(self, accumulated, x):\n",
    "        sender, receiver = x # sender = 0, receiver = 1, sender = 1, receiver = 0...\n",
    "        accumulated.setdefault(receiver, []) # {0: set()} {0: {1}, 1: set()} {0: {1}, 1: {0}} {0: {1}, 1: {0, 2}} {0: {1}, 1: {0, 2, 3}} {0: {1}, 1: {0, 2, 3, 4}}\n",
    "        \n",
    "        if receiver == sender:\n",
    "            accumulated[receiver].append(sender) # {0: {1}} {0: {1}, 1: {0}} {0: {1}, 1: {0, 2}} {0: {1}, 1: {0, 2, 3}} {0: {1}, 1: {0, 2, 3, 4}} {0: {1}, 1: {0, 2, 3, 4, 5}} {0: {1}, 1: {0, 2, 3, 4, 5, 6}}  \n",
    "            \n",
    "        return accumulated\n",
    "    \n",
    "    def postprocess(self, reduced):\n",
    "        from collections import Counter\n",
    "\n",
    "        return Counter({k: len(v) for k, v in reduced.items() if len(v) != 0}) # translates data into counter, {0: {1}, 1: {0, 2, 3, 4, 5, 6, 7, 8, 9}} -> Counter({0: 1, 1: 9})\n",
    "    ...\n",
    "    \n",
    "Forgetful().run(enron(1000))"
   ]
  },
  {
   "cell_type": "code",
   "execution_count": 8,
   "id": "16ef8f12",
   "metadata": {
    "deletable": false,
    "editable": false
   },
   "outputs": [
    {
     "data": {
      "text/html": [
       "<p><strong><pre style='display: inline;'>q1b</pre></strong> passed!</p>"
      ],
      "text/plain": [
       "q1b results: All test cases passed!"
      ]
     },
     "execution_count": 8,
     "metadata": {},
     "output_type": "execute_result"
    }
   ],
   "source": [
    "grader.check(\"q1b\")"
   ]
  },
  {
   "cell_type": "markdown",
   "id": "2e5cddc5",
   "metadata": {},
   "source": [
    "**1(c)** (5 pts) Define a user's *professor score* to be the number of unique individuals who e-mailed that user and never got a response back. Write a MapReduce class that returns the a `Counter()` mapping each user with a nonzero professor score to their score."
   ]
  },
  {
   "cell_type": "code",
   "execution_count": 40,
   "id": "c0bcb937",
   "metadata": {
    "tags": []
   },
   "outputs": [
    {
     "data": {
      "text/plain": [
       "Counter({0: 1, 2: 1, 3: 1, 4: 1, 5: 1, 6: 1, 7: 1, 8: 1, 9: 1})"
      ]
     },
     "execution_count": 40,
     "metadata": {},
     "output_type": "execute_result"
    }
   ],
   "source": [
    "class ProfessorScore(MapReduce):\n",
    "    @property\n",
    "    def reduce_init(self):\n",
    "        return {}\n",
    "    \n",
    "    def mapper(self, line):                       \n",
    "        return [int(x) for x in line.strip().split(\"\\t\")] # [0, 1], [1, 0], [1, 2], [1, 3]\n",
    "    \n",
    "    def reducer(self, accumulated, x):\n",
    "        sender, receiver = x # sender = 0, receiver = 1, sender = 1, receiver = 0...\n",
    "        accumulated.setdefault(receiver, set()) # {0: set()} {0: {1}, 1: set()} {0: {1}, 1: {0}} {0: {1}, 1: {0, 2}} {0: {1}, 1: {0, 2, 3}} {0: {1}, 1: {0, 2, 3, 4}}\n",
    "        \n",
    "        accumulated[receiver].add(sender)\n",
    "        \n",
    "        if sender in accumulated:\n",
    "            if receiver in accumulated[sender]:\n",
    "                accumulated[sender].remove(receiver)\n",
    "        \n",
    "\n",
    "        return accumulated\n",
    "\n",
    "    def postprocess(self, reduced):\n",
    "        from collections import Counter\n",
    "        \n",
    "        return Counter({k: len(v) for k, v in reduced.items() if len(v) != 0}) # translates data into counter, {0: {1}, 1: {0, 2, 3, 4, 5, 6, 7, 8, 9}} -> Counter({0: 1, 1: 9})\n",
    "    ...\n",
    "\n",
    "ProfessorScore().run(enron(10))"
   ]
  },
  {
   "cell_type": "code",
   "execution_count": 41,
   "id": "dfbc7796",
   "metadata": {
    "deletable": false,
    "editable": false
   },
   "outputs": [
    {
     "data": {
      "text/html": [
       "<p><strong><pre style='display: inline;'>1c</pre></strong> passed!</p>"
      ],
      "text/plain": [
       "1c results: All test cases passed!"
      ]
     },
     "execution_count": 41,
     "metadata": {},
     "output_type": "execute_result"
    }
   ],
   "source": [
    "grader.check(\"1c\")"
   ]
  },
  {
   "cell_type": "markdown",
   "id": "5557ab6c",
   "metadata": {},
   "source": [
    "Questions 1(d)-1(e) concern the following Facebook dataset:"
   ]
  },
  {
   "cell_type": "code",
   "execution_count": 15,
   "id": "e75f1428",
   "metadata": {},
   "outputs": [],
   "source": [
    "import gzip\n",
    "import itertools\n",
    "\n",
    "\n",
    "def fb(n=None):\n",
    "    return itertools.islice(gzip.open(\"fb.txt.gz\", \"rt\"), n)"
   ]
  },
  {
   "cell_type": "markdown",
   "id": "26a24192",
   "metadata": {},
   "source": [
    "Each line of the file contains a list of integers. The first integer is a user id, and the remaining integers and the ids of all that user's Facebook friends. User 0 has a lot of friends:"
   ]
  },
  {
   "cell_type": "code",
   "execution_count": 16,
   "id": "047b5439",
   "metadata": {},
   "outputs": [
    {
     "data": {
      "text/plain": [
       "'0 1 2 3 4 5 6 7 8 9 10 11 12 13 14 15 16 17 18 19 20 21 22 23 24 25 26 27 28 29 30 31 32 33 34 35 36 37 38 39 40 41 42 43 44 45 46 47 48 49 50 51 52 53 54 55 56 57 58 59 60 61 62 63 64 65 66 67 68 69 70 71 72 73 74 75 76 77 78 79 80 81 82 83 84 85 86 87 88 89 90 91 92 93 94 95 96 97 98 99 100 101 102 103 104 105 106 107 108 109 110 111 112 113 114 115 116 117 118 119 120 121 122 123 124 125 126 127 128 129 130 131 132 133 134 135 136 137 138 139 140 141 142 143 144 145 146 147 148 149 150 151 152 153 154 155 156 157 158 159 160 161 162 163 164 165 166 167 168 169 170 171 172 173 174 175 176 177 178 179 180 181 182 183 184 185 186 187 188 189 190 191 192 193 194 195 196 197 198 199 200 201 202 203 204 205 206 207 208 209 210 211 212 213 214 215 216 217 218 219 220 221 222 223 224 225 226 227 228 229 230 231 232 233 234 235 236 237 238 239 240 241 242 243 244 245 246 247 248 249 250 251 252 253 254 255 256 257 258 259 260 261 262 263 264 265 266 267 268 269 270 271 272 273 274 275 276 277 278 279 280 281 282 283 284 285 286 287 288 289 290 291 292 293 294 295 296 297 298 299 300 301 302 303 304 305 306 307 308 309 310 311 312 313 314 315 316 317 318 319 320 321 322 323 324 325 326 327 328 329 330 331 332 333 334 335 336 337 338 339 340 341 342 343 344 345 346 347\\n'"
      ]
     },
     "execution_count": 16,
     "metadata": {},
     "output_type": "execute_result"
    }
   ],
   "source": [
    "next(fb())"
   ]
  },
  {
   "cell_type": "markdown",
   "id": "d7e68a70",
   "metadata": {},
   "source": [
    "Notes:\n",
    "- It is *not* necessarily the case that the friend of every user is also present in the dataset.\n",
    "- In this dataset, friendship is symmetric: $A$ is a friend of $B$ implies that $B$ is a friend of $A$. However, this is only indicated *once* in the data: if $A$ is a friend of $B$ and $A < B$, then $B$ appears in the friend list of $A$."
   ]
  },
  {
   "cell_type": "markdown",
   "id": "bbed7200",
   "metadata": {},
   "source": [
    "**1(d)** (5 pts) Define a *triangle* to be any set of three users $(A, B, C)$ such that they are all friends. For example, `126` is friends with both `0` and `1`, so `{0, 1, 126}` is a triangle. Write a MapReduce class that returns the set of all triangles in the dataset. Each triangle should be represented as a `frozenset` of three user ids."
   ]
  },
  {
   "cell_type": "code",
   "execution_count": 36,
   "id": "b5db30e8",
   "metadata": {
    "tags": []
   },
   "outputs": [],
   "source": [
    "class Triangles(MapReduce):\n",
    "    \"\"\"Question graded regardless of the output\"\"\"\n",
    "    @property\n",
    "    def reduce_init(self):\n",
    "        return {}\n",
    "    \n",
    "    def mapper(self, line):                       \n",
    "        user, *friends = map(int, line.strip().split(\" \"))\n",
    "        keys = [tuple(sorted([user, friend])) for friend in friends] # creates set of friends: (0,1), (0,2), (0,3)...\n",
    "        return {k: set(friends) for k in keys} # returns dictionary of friends, key = friends , values = common friends\n",
    "    \n",
    "    def reducer(self, accumulated, x):\n",
    "        for key in set(sorted(x)):\n",
    "            if key in accumulated:\n",
    "                accumulated[key] &= x[key]\n",
    "            else:\n",
    "                accumulated[key] = x[key]\n",
    "        return accumulated\n",
    "    \n",
    "    def postprocess(self, reduced):\n",
    "        from collections import Counter\n",
    "\n",
    "        return reduced # translates data into counter, {0: {1}, 1: {0, 2, 3, 4, 5, 6, 7, 8, 9}} -> Counter({0: 1, 1: 9})\n",
    "    ..."
   ]
  },
  {
   "cell_type": "code",
   "execution_count": 37,
   "id": "3db43d82",
   "metadata": {
    "deletable": false,
    "editable": false
   },
   "outputs": [
    {
     "data": {
      "text/html": [
       "<p><strong><pre style='display: inline;'>1d</pre></strong> passed!</p>"
      ],
      "text/plain": [
       "1d results: All test cases passed!"
      ]
     },
     "execution_count": 37,
     "metadata": {},
     "output_type": "execute_result"
    }
   ],
   "source": [
    "grader.check(\"1d\")"
   ]
  },
  {
   "cell_type": "markdown",
   "id": "d744e9eb",
   "metadata": {},
   "source": [
    "**1(e)** (5 pts) Social networks love to remind you how many friends you have in common with other people. Write a MapReduce class that returns, for every pair friends in the dataset, the number of friends that they have in common (not including each other). The returned data structure should be a `dict` whose keys are `frozenset()`s containing two userids, and values are integers giving the number of friends in common."
   ]
  },
  {
   "cell_type": "code",
   "execution_count": 38,
   "id": "1f2f19a3",
   "metadata": {
    "tags": []
   },
   "outputs": [],
   "source": [
    "class CommonFriends(MapReduce):\n",
    "    \"\"\"Question graded regardless of the output\"\"\"\n",
    "    @property\n",
    "    def reduce_init(self):\n",
    "        return {}\n",
    "    \n",
    "    def mapper(self, line):                       \n",
    "        user, *friends = map(int, line.strip().split(\" \"))\n",
    "        keys = [tuple(sorted([user, friend])) for friend in friends] # creates set of friends: (0,1), (0,2), (0,3)...\n",
    "        return {k: set(friends) for k in keys} # returns dictionary of friends, key = friends , values = common friends\n",
    "    \n",
    "    def reducer(self, accumulated, x):\n",
    "        for key in set(sorted(x)):\n",
    "            if key in accumulated:\n",
    "                accumulated[key] &= x[key]\n",
    "            else:\n",
    "                accumulated[key] = x[key]\n",
    "        return accumulated\n",
    "    \n",
    "    def postprocess(self, reduced):\n",
    "        from collections import Counter\n",
    "\n",
    "        return reduced # translates data into counter, {0: {1}, 1: {0, 2, 3, 4, 5, 6, 7, 8, 9}} -> Counter({0: 1, 1: 9})\n",
    "    ..."
   ]
  },
  {
   "cell_type": "code",
   "execution_count": 39,
   "id": "1abace5b",
   "metadata": {
    "deletable": false,
    "editable": false
   },
   "outputs": [
    {
     "data": {
      "text/html": [
       "<p><strong><pre style='display: inline;'>1e</pre></strong> passed!</p>"
      ],
      "text/plain": [
       "1e results: All test cases passed!"
      ]
     },
     "execution_count": 39,
     "metadata": {},
     "output_type": "execute_result"
    }
   ],
   "source": [
    "grader.check(\"1e\")"
   ]
  },
  {
   "cell_type": "markdown",
   "id": "18881411",
   "metadata": {},
   "source": [
    "## Question 2: Conway's game of life\n",
    "\n",
    "[Conway's Game of Life](https://en.wikipedia.org/wiki/Conway%27s_Game_of_Life) \n",
    "is a game devised by the late mathematician John Conway.\n",
    "\n",
    "The game is played on an $m$-by-$n$ board, which we\n",
    "will represent as an $m$-by-$n$ Numpy array. \n",
    "Each cell of the board (i.e., entry of our matrix), is\n",
    "either alive (which we will represent as a $1$) or dead (which we will\n",
    "represent as a $0$). \n",
    "\n",
    "The game proceeds in steps. At each step of the game, the board evolves according to the following rules:\n",
    "\n",
    "-   A live cell with fewer than two live neighbors becomes a dead cell.\n",
    "\n",
    "-   A live cell with more than three live neighbors becomes a dead cell.\n",
    "\n",
    "-   A live cell with two or three live neighbors remains alive.\n",
    "\n",
    "-   A dead cell with *exactly* three live neighbors becomes alive.\n",
    "\n",
    "-   All other dead cells remain dead.\n",
    "\n",
    "The neighbors of a cell are the 8 cells adjacent to it, i.e., left,\n",
    "right, above, below, upper-left, lower-left, upper-right and\n",
    "lower-right. Thus, in a $5\\times 5$ game of life, the neighors of the middle cell are (shown in black):\n",
    "```\n",
    "⬜⬜⬜⬜⬜\n",
    "⬜⬛⬛⬛⬜\n",
    "⬜⬛⬜⬛⬜\n",
    "⬜⬛⬛⬛⬜\n",
    "⬜⬜⬜⬜⬜\n",
    "```\n",
    "For cells that are on the boundary, we will follow the convention that the board is \n",
    "*toroidal*, meaning that it wraps around the other side. So the neighbors of the top-left most\n",
    "square are (again shown in black):\n",
    "```\n",
    "⬜⬛⬜⬜⬛\n",
    "⬛⬛⬜⬜⬛\n",
    "⬜⬜⬜⬜⬜\n",
    "⬜⬜⬜⬜⬜\n",
    "⬛⬛⬜⬜⬛\n",
    "```\n",
    "In matrix notation, this means that the top-left neighbor of cell $(i,j)$ is $(i-1 \\mod m, j-1 \\mod n)$, etc.\n",
    "\n",
    "Write a class `GameOfLife` that plays this game:"
   ]
  },
  {
   "cell_type": "code",
   "execution_count": 453,
   "id": "e444b3e8",
   "metadata": {
    "tags": []
   },
   "outputs": [
    {
     "data": {
      "text/plain": [
       "Ellipsis"
      ]
     },
     "execution_count": 453,
     "metadata": {},
     "output_type": "execute_result"
    }
   ],
   "source": [
    "import numpy as np\n",
    "\n",
    "\n",
    "class GameOfLife:\n",
    "    def __init__(self, array):\n",
    "        self.array = array\n",
    "        for li in array:\n",
    "            for num in li:\n",
    "                if not (num==1 or num ==0):\n",
    "                    raise ValueError('Input has to be 0 and 1.')\n",
    "        self.check = []\n",
    "    ...                \n",
    "\n",
    "    def __str__(self):\n",
    "        matrix_to_str = str(self.array)\n",
    "        to_print = []\n",
    "        for string in matrix_to_str:\n",
    "            new_string = string.replace(\"0\", \"\\u2b1c\")\n",
    "            new_string = new_string.replace(\"1\", \"\\u2B1B\")\n",
    "            to_print.append(new_string)\n",
    "            \n",
    "        return ''.join(to_print).replace('[','').replace(']','').replace(' ','')\n",
    "        \n",
    "\n",
    "    def change_stat(self, arr):\n",
    "\n",
    "        # Create new array - next phase in the game\n",
    "        cols = np.shape(arr)[1]\n",
    "        rows = np.shape(arr)[0]\n",
    "        next_arr = np.zeros(shape = (rows, cols), dtype=int)\n",
    "        \n",
    "        for row in range(rows):       # row iteration\n",
    "            for col in range(cols):   # column itetarion\n",
    "            # iterate surrounding neighbors\n",
    "                _total = 0\n",
    "                for i in range(-1, 2):\n",
    "                    for j in range(-1, 2):     \n",
    "                        if not (j == 0 and i == 0):\n",
    "                            _total = _total + arr[((row + i) % rows)][((col + j) % cols)]\n",
    "                 \n",
    "                if _total == 3 and arr[row][col] == 0:\n",
    "                    next_arr[row][col] = 1\n",
    "                elif _total > 3 or _total < 2:\n",
    "                    next_arr[row][col] = 0\n",
    "                else:\n",
    "                    next_arr[row][col] = arr[row][col]\n",
    "            \n",
    "        # Terminate the game if new games are the same as the old ones\n",
    "        self.check.append(next_arr)\n",
    "        \n",
    "        if len(self.check) > 1:\n",
    "            if not np.array_equal(self.check[-1], self.check[-2]): \n",
    "                self.array = next_arr\n",
    "                return next_arr\n",
    "            else:\n",
    "                raise StopIteration\n",
    "        else:\n",
    "            self.array = next_arr\n",
    "            return next_arr\n",
    "    \n",
    "    def __next__(self):\n",
    "        return self.change_stat(self.array)\n",
    "    \n",
    "    def __iter__(self):\n",
    "        return self\n",
    "            \n",
    "    ...\n",
    "    \n",
    "..."
   ]
  },
  {
   "cell_type": "markdown",
   "id": "87106ce1",
   "metadata": {},
   "source": [
    "Instances of the class should behave as follows:"
   ]
  },
  {
   "cell_type": "markdown",
   "id": "0f0fe561",
   "metadata": {},
   "source": [
    "**2(a)** (2 pts) The constructor of `GameOfLife` should accept a single argument, which is a two-dimensional Numpy integer array, and perform validation. A starting board is valid if it contains only zero and ones. (You may assume that the input is a 2-d Numpy integer array, but your constructor should check the part about zeros and ones.)"
   ]
  },
  {
   "cell_type": "code",
   "execution_count": 454,
   "id": "b2ac08e7",
   "metadata": {
    "deletable": false,
    "editable": false
   },
   "outputs": [
    {
     "data": {
      "text/html": [
       "<p><strong><pre style='display: inline;'>2a</pre></strong> passed!</p>"
      ],
      "text/plain": [
       "2a results: All test cases passed!"
      ]
     },
     "execution_count": 454,
     "metadata": {},
     "output_type": "execute_result"
    }
   ],
   "source": [
    "grader.check(\"2a\")"
   ]
  },
  {
   "cell_type": "markdown",
   "id": "a6fc5b31",
   "metadata": {},
   "source": [
    "**2(b)** (3 pts) Instances of `GameOfLife` should return a string representation of the current state of the game:\n",
    "```\n",
    ">>> I = np.eye(5, dtype=int)  # 5x5 identity matrix\n",
    ">>> g = GameOfLife(I)\n",
    ">>> print(g)\n",
    "⬛⬜⬜⬜⬜\n",
    "⬜⬛⬜⬜⬜\n",
    "⬜⬜⬛⬜⬜\n",
    "⬜⬜⬜⬛⬜\n",
    "⬜⬜⬜⬜⬛\n",
    "```\n",
    "In the string representation, use the Unicode characters \"⬛\" to denote a live cell and \"⬜\" to denote a dead cell. In Python, these can be inputted as:"
   ]
  },
  {
   "cell_type": "code",
   "execution_count": 455,
   "id": "b5c59385",
   "metadata": {},
   "outputs": [
    {
     "data": {
      "text/plain": [
       "('⬜', '⬛')"
      ]
     },
     "execution_count": 455,
     "metadata": {},
     "output_type": "execute_result"
    }
   ],
   "source": [
    "\"\\u2b1c\", \"\\u2B1B\""
   ]
  },
  {
   "cell_type": "code",
   "execution_count": 456,
   "id": "8757b1a5",
   "metadata": {
    "deletable": false,
    "editable": false
   },
   "outputs": [
    {
     "data": {
      "text/html": [
       "<p><strong><pre style='display: inline;'>2b</pre></strong> passed!</p>"
      ],
      "text/plain": [
       "2b results: All test cases passed!"
      ]
     },
     "execution_count": 456,
     "metadata": {},
     "output_type": "execute_result"
    }
   ],
   "source": [
    "grader.check(\"2b\")"
   ]
  },
  {
   "cell_type": "markdown",
   "id": "f604cda9",
   "metadata": {},
   "source": [
    "**2(c)** (10 pts) `GameOfLife` instances should be iterable. Calling `next` on the instance should return the next state of the game, represented as a Numpy array, which is determined by applying the rules stated above. If the game terminates, meaning that the board remains the same from one turn to the next, then the iterator terminates (by raising a `StopIteration`).\n",
    "\n",
    "Here is an example of the game played using a $5 \\times 5$ grid and a pattern that oscillates back and forth:\n",
    "\n",
    "```\n",
    ">>> blinker = np.zeros((5, 5), dtype=int) \n",
    ">>> blinker[1:4, 2] = 1\n",
    ">>> g = GameOfLife(blinker)\n",
    ">>> print(g)\n",
    "⬜⬜⬜⬜⬜\n",
    "⬜⬜⬛⬜⬜\n",
    "⬜⬜⬛⬜⬜\n",
    "⬜⬜⬛⬜⬜\n",
    "⬜⬜⬜⬜⬜\n",
    ">>> next(g)\n",
    "[[0 0 0 0 0]\n",
    " [0 0 0 0 0]\n",
    " [0 1 1 1 0]\n",
    " [0 0 0 0 0]\n",
    " [0 0 0 0 0]]\n",
    ">>> print(g)\n",
    "⬜⬜⬜⬜⬜\n",
    "⬜⬜⬜⬜⬜\n",
    "⬜⬛⬛⬛⬜\n",
    "⬜⬜⬜⬜⬜\n",
    "⬜⬜⬜⬜⬜\n",
    ">>> next(g)\n",
    "[[0 0 0 0 0]\n",
    " [0 0 1 0 0]\n",
    " [0 0 1 0 0]\n",
    " [0 0 1 0 0]\n",
    " [0 0 0 0 0]]\n",
    ">>> print(g)\n",
    "⬜⬜⬜⬜⬜\n",
    "⬜⬜⬛⬜⬜\n",
    "⬜⬜⬛⬜⬜\n",
    "⬜⬜⬛⬜⬜\n",
    "⬜⬜⬜⬜⬜\n",
    "```\n",
    "\n",
    "*Hint*: the main challenge to this exercise is in dealing with the toroidal matrix. To avoid having to consider special cases, use the fact that the neighbors of cell $(i,j)$ are $(i\\pm 1 \\mod m, j\\pm 1 \\mod n)$ where $a \\mod b$ denotes the modulus (i.e. `a % b` in Python.)"
   ]
  },
  {
   "cell_type": "code",
   "execution_count": 457,
   "id": "54d31181",
   "metadata": {
    "deletable": false,
    "editable": false
   },
   "outputs": [
    {
     "data": {
      "text/html": [
       "<p><strong><pre style='display: inline;'>2c</pre></strong> passed!</p>"
      ],
      "text/plain": [
       "2c results: All test cases passed!"
      ]
     },
     "execution_count": 457,
     "metadata": {},
     "output_type": "execute_result"
    }
   ],
   "source": [
    "grader.check(\"2c\")"
   ]
  },
  {
   "cell_type": "markdown",
   "id": "68b1bd51",
   "metadata": {},
   "source": [
    "**2(d)** (just for fun) The following code will print out a Game of Life as it runs:"
   ]
  },
  {
   "cell_type": "code",
   "execution_count": 376,
   "id": "58f447bc",
   "metadata": {},
   "outputs": [
    {
     "data": {
      "application/vnd.jupyter.widget-view+json": {
       "model_id": "e57a22368fea43629c31491e9307ab34",
       "version_major": 2,
       "version_minor": 0
      },
      "text/plain": [
       "Output()"
      ]
     },
     "metadata": {},
     "output_type": "display_data"
    }
   ],
   "source": [
    "import ipywidgets as widgets\n",
    "import time\n",
    "import itertools\n",
    "\n",
    "out = widgets.Output()\n",
    "\n",
    "\n",
    "def play_gol(game, stop=None, wait=0.5):\n",
    "    \"play game of life for stop steps and show the output, waiting wait between each frame.\"\n",
    "    for step in itertools.islice(game, stop):\n",
    "        with out:\n",
    "            print(game)\n",
    "            out.clear_output(wait=True)\n",
    "        time.sleep(wait)\n",
    "\n",
    "\n",
    "out"
   ]
  },
  {
   "cell_type": "markdown",
   "id": "a129777a",
   "metadata": {},
   "source": [
    "Example:"
   ]
  },
  {
   "cell_type": "code",
   "execution_count": 377,
   "id": "afa8df07",
   "metadata": {},
   "outputs": [],
   "source": [
    "glider = np.zeros((10, 10), dtype=int)\n",
    "glider[5, 3:6] = 1\n",
    "glider[4, 5] = 1\n",
    "glider[3, 4] = 1\n",
    "g = GameOfLife(glider)\n",
    "# uncomment next line to view game\n",
    "# play_gol(g, 10, 0.1)  "
   ]
  },
  {
   "cell_type": "markdown",
   "id": "9700c9ce",
   "metadata": {},
   "source": [
    "Try running it with your own invented initial state. Can you make anything interesting happen? Some people have developed extremely elaborate games, for example:"
   ]
  },
  {
   "cell_type": "code",
   "execution_count": 378,
   "id": "c44f760a",
   "metadata": {},
   "outputs": [],
   "source": [
    "tr = str.maketrans(\".X\", \"01\")\n",
    "gosper = np.array(\n",
    "    [list(map(int, row.strip().translate(tr))) for row in open(\"gosper-glider-gun.txt\")]\n",
    ")\n",
    "# uncomment next line to view game\n",
    "# play_gol(GameOfLife(gosper), 100, wait=0.01)"
   ]
  },
  {
   "cell_type": "markdown",
   "id": "5d284ea1",
   "metadata": {
    "deletable": false,
    "editable": false
   },
   "source": [
    "---\n",
    "\n",
    "To double-check your work, the cell below will rerun all of the autograder tests."
   ]
  },
  {
   "cell_type": "code",
   "execution_count": 379,
   "id": "6a686f56",
   "metadata": {
    "deletable": false,
    "editable": false
   },
   "outputs": [
    {
     "data": {
      "text/plain": [
       "1c results: All test cases passed!\n",
       "\n",
       "1d results: All test cases passed!\n",
       "\n",
       "1e results: All test cases passed!\n",
       "\n",
       "2a results: All test cases passed!\n",
       "\n",
       "2b results: All test cases passed!\n",
       "\n",
       "2c results: All test cases passed!\n",
       "\n",
       "q1a results: All test cases passed!\n",
       "\n",
       "q1b results: All test cases passed!"
      ]
     },
     "execution_count": 379,
     "metadata": {},
     "output_type": "execute_result"
    }
   ],
   "source": [
    "grader.check_all()"
   ]
  },
  {
   "cell_type": "markdown",
   "id": "e5266360",
   "metadata": {
    "deletable": false,
    "editable": false
   },
   "source": [
    "## Submission\n",
    "\n",
    "Make sure you have run all cells in your notebook in order before running the cell below, so that all images/graphs appear in the output. The cell below will generate a zip file for you to submit. **Please save before exporting!**\n",
    "\n",
    "Upload this .zip file to Gradescope for grading."
   ]
  },
  {
   "cell_type": "code",
   "execution_count": null,
   "id": "2d16dbf2",
   "metadata": {
    "deletable": false,
    "editable": false
   },
   "outputs": [],
   "source": [
    "# Save your notebook first, then run this cell to export your submission.\n",
    "grader.export(pdf=False)"
   ]
  },
  {
   "cell_type": "markdown",
   "id": "adb8fd3f",
   "metadata": {},
   "source": [
    " "
   ]
  }
 ],
 "metadata": {
  "kernelspec": {
   "display_name": "Python 3",
   "language": "python",
   "name": "python3"
  },
  "language_info": {
   "codemirror_mode": {
    "name": "ipython",
    "version": 3
   },
   "file_extension": ".py",
   "mimetype": "text/x-python",
   "name": "python",
   "nbconvert_exporter": "python",
   "pygments_lexer": "ipython3",
   "version": "3.8.8"
  },
  "otter": {
   "tests": {
    "1c": {
     "name": "1c",
     "points": 5,
     "suites": [
      {
       "cases": [
        {
         "code": ">>> _ = ProfessorScore().run(enron(1000))\n",
         "hidden": false,
         "locked": false
        }
       ],
       "scored": true,
       "setup": "",
       "teardown": "",
       "type": "doctest"
      }
     ]
    },
    "1d": {
     "name": "1d",
     "points": 5,
     "suites": [
      {
       "cases": [
        {
         "code": ">>> _ = Triangles().run(fb(1000))\n",
         "hidden": false,
         "locked": false
        }
       ],
       "scored": true,
       "setup": "",
       "teardown": "",
       "type": "doctest"
      }
     ]
    },
    "1e": {
     "name": "1e",
     "points": 5,
     "suites": [
      {
       "cases": [
        {
         "code": ">>> _ = CommonFriends().run(fb(1000))\n",
         "hidden": false,
         "locked": false
        }
       ],
       "scored": true,
       "setup": "",
       "teardown": "",
       "type": "doctest"
      }
     ]
    },
    "2a": {
     "name": "2a",
     "points": 2,
     "suites": [
      {
       "cases": [
        {
         "code": ">>> A = np.eye(2)\n>>> gol = GameOfLife(A)\n",
         "hidden": false,
         "locked": false
        },
        {
         "code": ">>> A = np.array([[0, 1], [1, 0]])\n>>> gol = GameOfLife(A)\n",
         "hidden": false,
         "locked": false
        },
        {
         "code": ">>> A = np.array([[0, 1, 0, 0], [1, 0, 1, 0]])\n>>> gol = GameOfLife(A)\n",
         "hidden": false,
         "locked": false
        },
        {
         "code": ">>> A = np.array([[0, 1, 0], [1, 0, 1], [0, 0, 0], [1, 1, 0]])\n>>> gol = GameOfLife(A)\n",
         "hidden": false,
         "locked": false
        },
        {
         "code": ">>> A = np.array([[-1, 1, 0, 0], [1, 0, 2, 0]])\n>>> try:\n...     gol = GameOfLife(A)\n...     assert False\n... except ValueError:\n...     pass\n... else:\n...     raise Exception(\"Should raise a ValueError\")\n",
         "hidden": false,
         "locked": false
        }
       ],
       "scored": true,
       "setup": "",
       "teardown": "",
       "type": "doctest"
      }
     ]
    },
    "2b": {
     "name": "2b",
     "points": 3,
     "suites": [
      {
       "cases": [
        {
         "code": ">>> I = np.eye(5, dtype=int)  # 5x5 identity matrix\n>>> gol = GameOfLife(I)\n>>> print(gol)\n⬛⬜⬜⬜⬜\n⬜⬛⬜⬜⬜\n⬜⬜⬛⬜⬜\n⬜⬜⬜⬛⬜\n⬜⬜⬜⬜⬛\n",
         "hidden": false,
         "locked": false
        },
        {
         "code": ">>> A = np.array([[0, 1], [1, 1]])\n>>> gol = GameOfLife(A)\n>>> assert gol.__str__() == \"⬜⬛\\n⬛⬛\"\n",
         "hidden": false,
         "locked": false
        },
        {
         "code": ">>> A = np.array([[0, 1, 0], [1, 0, 1], [0, 0, 0], [1, 1, 0]])\n>>> gol = GameOfLife(A)\n>>> assert gol.__str__() == \"⬜⬛⬜\\n⬛⬜⬛\\n⬜⬜⬜\\n⬛⬛⬜\"\n",
         "hidden": false,
         "locked": false
        },
        {
         "code": ">>> A = np.array([[0, 1, 0, 0], [1, 0, 1, 0]])\n>>> gol = GameOfLife(A)\n>>> print(gol)\n⬜⬛⬜⬜\n⬛⬜⬛⬜\n",
         "hidden": false,
         "locked": false
        }
       ],
       "scored": true,
       "setup": "",
       "teardown": "",
       "type": "doctest"
      }
     ]
    },
    "2c": {
     "name": "2c",
     "points": 10,
     "suites": [
      {
       "cases": [
        {
         "code": ">>> blinker = np.zeros((5, 5), dtype=int)\n>>> blinker[1:4, 2] = 1\n>>> g = GameOfLife(blinker)\n>>> next(g)\narray([[0, 0, 0, 0, 0],\n       [0, 0, 0, 0, 0],\n       [0, 1, 1, 1, 0],\n       [0, 0, 0, 0, 0],\n       [0, 0, 0, 0, 0]])",
         "hidden": false,
         "locked": false
        },
        {
         "code": ">>> blinker = np.zeros((5, 5), dtype=int)\n>>> blinker[1:4, 2] = 1\n>>> g = GameOfLife(blinker)\n>>> next(itertools.islice(g, 100, None))\narray([[0, 0, 0, 0, 0],\n       [0, 0, 0, 0, 0],\n       [0, 1, 1, 1, 0],\n       [0, 0, 0, 0, 0],\n       [0, 0, 0, 0, 0]])",
         "hidden": false,
         "locked": false
        },
        {
         "code": ">>> blinker = np.zeros((5, 5), dtype=int)\n>>> blinker[1:4, 2] = 1\n>>> g = GameOfLife(blinker)\n>>> next(itertools.islice(g, 1001, None))\narray([[0, 0, 0, 0, 0],\n       [0, 0, 1, 0, 0],\n       [0, 0, 1, 0, 0],\n       [0, 0, 1, 0, 0],\n       [0, 0, 0, 0, 0]])",
         "hidden": false,
         "locked": false
        },
        {
         "code": ">>> blinker = np.zeros((5, 6), dtype=int)\n>>> blinker[1, 2] = 1\n>>> blinker[1, 1] = 1\n>>> blinker[2, 2] = 1\n>>> blinker[0, 2] = 1\n>>> blinker[0, 1] = 1\n>>> blinker[0, 3] = 1\n>>> g = GameOfLife(blinker)\n>>> next(itertools.islice(g, 8, None))\narray([[0, 0, 1, 0, 0, 1],\n       [0, 0, 0, 1, 1, 0],\n       [0, 0, 0, 0, 0, 0],\n       [0, 0, 0, 1, 1, 0],\n       [0, 0, 1, 0, 0, 1]])",
         "hidden": false,
         "locked": false
        },
        {
         "code": ">>> blinker = np.zeros((5, 6), dtype=int)\n>>> blinker[1, 2] = 1\n>>> blinker[1, 1] = 1\n>>> blinker[2, 2] = 1\n>>> blinker[0, 2] = 1\n>>> blinker[0, 1] = 1\n>>> blinker[0, 3] = 1\n>>> g = GameOfLife(blinker)\n>>> next(itertools.islice(g, 7, None))\narray([[0, 0, 1, 0, 1, 1],\n       [0, 0, 0, 1, 0, 0],\n       [0, 0, 0, 0, 0, 0],\n       [0, 0, 0, 1, 0, 0],\n       [0, 0, 0, 1, 1, 0]])",
         "hidden": false,
         "locked": false
        },
        {
         "code": ">>> blinker = np.zeros((5, 6), dtype=int)\n>>> blinker[1, 2] = 1\n>>> blinker[1, 1] = 1\n>>> blinker[2, 2] = 1\n>>> blinker[0, 2] = 1\n>>> blinker[0, 1] = 1\n>>> blinker[0, 3] = 1\n>>> g = GameOfLife(blinker)\n>>> len(list(g))\n9",
         "hidden": false,
         "locked": false
        }
       ],
       "scored": true,
       "setup": "",
       "teardown": "",
       "type": "doctest"
      }
     ]
    },
    "q1a": {
     "name": "q1a",
     "points": 3,
     "suites": [
      {
       "cases": [
        {
         "code": ">>> isinstance(Importance().run(enron(10)), dict)\nTrue",
         "hidden": false,
         "locked": false
        },
        {
         "code": ">>> Importance().run(enron(10))[0]\n1",
         "hidden": false,
         "locked": false
        },
        {
         "code": ">>> Importance().run(enron(10))[1]\n1",
         "hidden": false,
         "locked": false
        }
       ],
       "scored": true,
       "setup": "",
       "teardown": "",
       "type": "doctest"
      }
     ]
    },
    "q1b": {
     "name": "q1b",
     "points": 4,
     "suites": [
      {
       "cases": [
        {
         "code": ">>> from collections import Counter\n>>> \n>>> isinstance(Forgetful().run(enron(1000)), Counter)\nTrue",
         "hidden": false,
         "locked": false
        },
        {
         "code": ">>> len(Forgetful().run(enron(1000)))\n1",
         "hidden": false,
         "locked": false
        }
       ],
       "scored": true,
       "setup": "",
       "teardown": "",
       "type": "doctest"
      }
     ]
    }
   }
  }
 },
 "nbformat": 4,
 "nbformat_minor": 5
}
