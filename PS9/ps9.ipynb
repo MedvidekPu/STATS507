{
 "cells": [
  {
   "cell_type": "code",
   "execution_count": 1,
   "id": "a742bc9d",
   "metadata": {
    "deletable": false,
    "editable": false
   },
   "outputs": [],
   "source": [
    "# Initialize Otter\n",
    "import otter\n",
    "grader = otter.Notebook(\"ps9.ipynb\")"
   ]
  },
  {
   "cell_type": "markdown",
   "id": "46962091",
   "metadata": {},
   "source": [
    "# PS9: Map and reduce with PySpark"
   ]
  },
  {
   "cell_type": "code",
   "execution_count": 2,
   "id": "4361d08c",
   "metadata": {},
   "outputs": [],
   "source": [
    "import pyspark\n",
    "spark = pyspark.sql.SparkSession.builder.\\\n",
    "    appName('ps9').\\\n",
    "    config('spark.ui.showConsoleProgress', False).\\\n",
    "    getOrCreate()\n",
    "sc = spark.sparkContext"
   ]
  },
  {
   "cell_type": "markdown",
   "id": "7e9ed042",
   "metadata": {},
   "source": [
    "# Problem 1\n",
    "\n",
    "This problem concerns counting words in text using `PySpark`."
   ]
  },
  {
   "cell_type": "code",
   "execution_count": 3,
   "id": "d7c6d538",
   "metadata": {},
   "outputs": [
    {
     "data": {
      "text/plain": [
       "['Raining cats and dogs',\n",
       " 'Cats eat mice, mice eat cheese',\n",
       " 'Mice and cats and dogs have fleas']"
      ]
     },
     "execution_count": 3,
     "metadata": {},
     "output_type": "execute_result"
    }
   ],
   "source": [
    "simple_text_rdd = sc.textFile('simple.txt')\n",
    "simple_text_rdd.collect()"
   ]
  },
  {
   "cell_type": "code",
   "execution_count": 4,
   "id": "f0be2afc",
   "metadata": {},
   "outputs": [
    {
     "data": {
      "text/plain": [
       "pyspark.rdd.RDD"
      ]
     },
     "execution_count": 4,
     "metadata": {},
     "output_type": "execute_result"
    }
   ],
   "source": [
    "type(simple_text_rdd)"
   ]
  },
  {
   "cell_type": "markdown",
   "id": "d310cb42",
   "metadata": {},
   "source": [
    "## Part (a)\n",
    "Write a function, called `count_words_per_line(text_rdd)`, which counts how many time each word appears in each line. The input `text_rdd` is a Resilient Distributed Dataset (`RDD`) of a text file, and the output will be another `RDD`.\n",
    "- You should be able to perform this using solely `.map` operations on `text_rdd`.\n",
    "- Your script should strip commas, colons, semicolons and periods, but leave other punctuation in place.\n",
    "- Your script should ignore case.\n",
    "- The output should be an `RDD` of `Counter` objects. When `.collect()` is called, the output should have the same length as the number of lines in the text."
   ]
  },
  {
   "cell_type": "code",
   "execution_count": 5,
   "id": "0f4ca801",
   "metadata": {},
   "outputs": [],
   "source": [
    "from collections import Counter"
   ]
  },
  {
   "cell_type": "code",
   "execution_count": 6,
   "id": "fe375417",
   "metadata": {
    "tags": []
   },
   "outputs": [],
   "source": [
    "import re\n",
    "def count_words_per_line(text: pyspark.RDD):\n",
    "    rm=r'[,:;.]'\n",
    "    return text.map(lambda line: Counter(re.sub(rm,'',line).lower().strip().split(' ')))\n",
    "    ..."
   ]
  },
  {
   "cell_type": "code",
   "execution_count": 7,
   "id": "c361b36a-35fe-44fe-a912-42a03705e463",
   "metadata": {},
   "outputs": [
    {
     "data": {
      "text/plain": [
       "[Counter({'raining': 1, 'cats': 1, 'and': 1, 'dogs': 1}),\n",
       " Counter({'cats': 1, 'eat': 2, 'mice': 2, 'cheese': 1}),\n",
       " Counter({'mice': 1, 'and': 2, 'cats': 1, 'dogs': 1, 'have': 1, 'fleas': 1})]"
      ]
     },
     "execution_count": 7,
     "metadata": {},
     "output_type": "execute_result"
    }
   ],
   "source": [
    "count_words_per_line(simple_text_rdd).collect()"
   ]
  },
  {
   "cell_type": "code",
   "execution_count": 8,
   "id": "41dedaf6",
   "metadata": {
    "deletable": false,
    "editable": false
   },
   "outputs": [
    {
     "data": {
      "text/html": [
       "<p><strong><pre style='display: inline;'>q1a</pre></strong> passed!</p>"
      ],
      "text/plain": [
       "q1a results: All test cases passed!"
      ]
     },
     "execution_count": 8,
     "metadata": {},
     "output_type": "execute_result"
    }
   ],
   "source": [
    "grader.check(\"q1a\")"
   ]
  },
  {
   "cell_type": "markdown",
   "id": "fc0ede6b",
   "metadata": {},
   "source": [
    "## Part (b)\n",
    "Using your answer from part (a), write a function called `count_words` that returns a `Counter` of the words in the input text.\n",
    "(Hint: use the `.reduce()` or `.fold()` method)"
   ]
  },
  {
   "cell_type": "code",
   "execution_count": 9,
   "id": "185091ef",
   "metadata": {
    "tags": []
   },
   "outputs": [],
   "source": [
    "from operator import add\n",
    "def count_words(text: pyspark.RDD):\n",
    "    #return text.reduce(count_words_per_line)\n",
    "    #r = sc.parallelize(count_words_per_line(text).collect())\n",
    "    #return count_words_per_line(text).reduce(add) TOO SLOW! flatMap is faster\n",
    "    rm=r'[,:;.]'\n",
    "    return Counter(text.flatMap(lambda line: re.sub(rm,'',line).lower().split(' ')).collect())"
   ]
  },
  {
   "cell_type": "code",
   "execution_count": 10,
   "id": "22dc5c94-f030-412b-a530-2f76763b58d3",
   "metadata": {},
   "outputs": [
    {
     "data": {
      "text/plain": [
       "Counter({'raining': 1,\n",
       "         'cats': 3,\n",
       "         'and': 3,\n",
       "         'dogs': 2,\n",
       "         'eat': 2,\n",
       "         'mice': 3,\n",
       "         'cheese': 1,\n",
       "         'have': 1,\n",
       "         'fleas': 1})"
      ]
     },
     "execution_count": 10,
     "metadata": {},
     "output_type": "execute_result"
    }
   ],
   "source": [
    "count_words(simple_text_rdd)"
   ]
  },
  {
   "cell_type": "code",
   "execution_count": 11,
   "id": "6aa62df0",
   "metadata": {
    "deletable": false,
    "editable": false
   },
   "outputs": [
    {
     "data": {
      "text/html": [
       "<p><strong><pre style='display: inline;'>q1b</pre></strong> passed!</p>"
      ],
      "text/plain": [
       "q1b results: All test cases passed!"
      ]
     },
     "execution_count": 11,
     "metadata": {},
     "output_type": "execute_result"
    }
   ],
   "source": [
    "grader.check(\"q1b\")"
   ]
  },
  {
   "cell_type": "markdown",
   "id": "d3d8348c",
   "metadata": {
    "tags": []
   },
   "source": [
    "## Part (c)\n",
    "\n",
    "Write a function called `counter_to_rdd` that takes a Counter object and returns an RDD object such that each element is `(word, log(count))`, where `log()` is the natural logarithm, and sorted in descending order by `log(count)`."
   ]
  },
  {
   "cell_type": "code",
   "execution_count": 12,
   "id": "84d51f85",
   "metadata": {
    "tags": []
   },
   "outputs": [],
   "source": [
    "import math\n",
    "def counter_to_rdd(word_count):\n",
    "    log_words = sc.parallelize(word_count.most_common()).map(lambda tup: (tup[0],math.log(tup[1])))\n",
    "    return log_words"
   ]
  },
  {
   "cell_type": "code",
   "execution_count": 13,
   "id": "708e0657",
   "metadata": {},
   "outputs": [
    {
     "data": {
      "text/plain": [
       "'The Project Gutenberg eBook of On the Origin of Species, by Charles Darwin'"
      ]
     },
     "execution_count": 13,
     "metadata": {},
     "output_type": "execute_result"
    }
   ],
   "source": [
    "darwin_rdd = sc.textFile('darwin.txt')\n",
    "darwin_rdd.first()"
   ]
  },
  {
   "cell_type": "code",
   "execution_count": 14,
   "id": "72a486db",
   "metadata": {},
   "outputs": [
    {
     "data": {
      "text/plain": [
       "PythonRDD[11] at RDD at PythonRDD.scala:53"
      ]
     },
     "execution_count": 14,
     "metadata": {},
     "output_type": "execute_result"
    }
   ],
   "source": [
    "darwin_word_count = count_words(darwin_rdd)\n",
    "counter_to_rdd(darwin_word_count)"
   ]
  },
  {
   "cell_type": "code",
   "execution_count": 15,
   "id": "7971d309",
   "metadata": {
    "deletable": false,
    "editable": false
   },
   "outputs": [
    {
     "data": {
      "text/html": [
       "<p><strong><pre style='display: inline;'>q1c</pre></strong> passed!</p>"
      ],
      "text/plain": [
       "q1c results: All test cases passed!"
      ]
     },
     "execution_count": 15,
     "metadata": {},
     "output_type": "execute_result"
    }
   ],
   "source": [
    "grader.check(\"q1c\")"
   ]
  },
  {
   "cell_type": "markdown",
   "id": "9e6dbee9",
   "metadata": {},
   "source": [
    "<!-- BEGIN QUESTION -->\n",
    "\n",
    "## Part (d)\n",
    "\n",
    "Collect the output of the sorted log word counts and plot it using `matplotlib`.\n",
    "\n",
    "Zipf’s law\n",
    "states, roughly, that if one plots word frequency against frequency rank\n",
    "(i.e., most frequent word, second most frequent word, etc.), the resulting line is (approximately) linear on a log-log scale. Using the information in darwin word counts.txt,\n",
    "make a plot of word frequency as a function of word rank on a log-log scale for all\n",
    "words in the file\n",
    "`darwin.txt` \n",
    "\n",
    "How “Zipfian” does the resulting plot look? Write an answer in the box below. (It suffices for you to state whether or\n",
    "not your plot looks approximately like a line)"
   ]
  },
  {
   "cell_type": "markdown",
   "id": "f1d563f6",
   "metadata": {},
   "source": [
    "The Zipfian looks like a declining line."
   ]
  },
  {
   "cell_type": "code",
   "execution_count": 565,
   "id": "f78d38d8",
   "metadata": {
    "tags": []
   },
   "outputs": [
    {
     "data": {
      "image/png": "[encoded data removed]",
      "text/plain": [
       "<Figure size 432x288 with 1 Axes>"
      ]
     },
     "metadata": {
      "needs_background": "light"
     },
     "output_type": "display_data"
    }
   ],
   "source": [
    "import numpy as np\n",
    "from matplotlib import pyplot as plt\n",
    "\n",
    "#order = a.argsort()\n",
    "#ranks = order.argsort()\n",
    "#a = np.vstack((a, ranks))\n",
    "#ranks = np.arange(1,len(a)+1)\n",
    "#a = np.vstack((a, ranks))\n",
    "#a[1] = np.log(a[1])\n",
    "\n",
    "a = np.array(counter_to_rdd(darwin_word_count).collect())\n",
    "a = a[:,1].astype('float')\n",
    "\n",
    "plt.plot(a)\n",
    "plt.xscale(\"log\")\n",
    "plt.show()"
   ]
  },
  {
   "cell_type": "markdown",
   "id": "376dbd45",
   "metadata": {
    "tags": []
   },
   "source": [
    "<!-- END QUESTION -->\n",
    "\n",
    "# Problem 2\n",
    "The performance gains from PySpark come from using its SQL-like syntax on tabular data."
   ]
  },
  {
   "cell_type": "markdown",
   "id": "d2a1d955",
   "metadata": {},
   "source": [
    "## Part (a)\n",
    "Write a function called `read_population_df` that reads in `populations_small.txt` as a PySpark DataFrame. The result should have two columns labelled `id` and `value`. \n",
    "\n",
    "Note: `id` should be `LongType` and `value` should be `DoubleType`."
   ]
  },
  {
   "cell_type": "code",
   "execution_count": 17,
   "id": "cb0541f9",
   "metadata": {},
   "outputs": [],
   "source": [
    "from pyspark.sql import types as T\n",
    "from pyspark.sql import functions as F"
   ]
  },
  {
   "cell_type": "code",
   "execution_count": 18,
   "id": "62b13a35",
   "metadata": {},
   "outputs": [],
   "source": [
    "def get_csv_schema(*args):\n",
    "    return T.StructType([\n",
    "        T.StructField(*arg)\n",
    "        for arg in args\n",
    "    ])"
   ]
  },
  {
   "cell_type": "code",
   "execution_count": 119,
   "id": "4803a97e",
   "metadata": {
    "tags": []
   },
   "outputs": [],
   "source": [
    "def read_population_df(filename: str) -> pyspark.sql.DataFrame:\n",
    "    # Read the file\n",
    "    df = spark.read.text(filename)\n",
    "    \n",
    "    # all values are in value column we have to split\n",
    "    split_col = pyspark.sql.functions.split(df.value, ' ')\n",
    "    df = df.withColumn('id', split_col.getItem(0))\n",
    "    df = df.withColumn('value', split_col.getItem(1))\n",
    "    \n",
    "    # cast data types\n",
    "    df = df.withColumn('id', F.col('id').cast(T.LongType()))\n",
    "    df = df.withColumn('value', F.col('value').cast(T.DoubleType()))\n",
    "    \n",
    "    return df"
   ]
  },
  {
   "cell_type": "code",
   "execution_count": 120,
   "id": "3feed321-676d-458e-b238-8d2a0e9f8a51",
   "metadata": {},
   "outputs": [
    {
     "name": "stdout",
     "output_type": "stream",
     "text": [
      "root\n",
      " |-- value: double (nullable = true)\n",
      " |-- id: long (nullable = true)\n",
      "\n",
      "+-----+---+\n",
      "|value| id|\n",
      "+-----+---+\n",
      "|  2.0|  1|\n",
      "|  3.0|  1|\n",
      "|  1.0|  1|\n",
      "|  0.0|  2|\n",
      "|  2.0|  2|\n",
      "| -2.0|  2|\n",
      "| 10.0|  3|\n",
      "| 10.0|  3|\n",
      "+-----+---+\n",
      "\n"
     ]
    }
   ],
   "source": [
    "df = read_population_df('populations_small.txt')\n",
    "\n",
    "df.printSchema()\n",
    "df.show()"
   ]
  },
  {
   "cell_type": "code",
   "execution_count": 121,
   "id": "6dbdf616",
   "metadata": {
    "deletable": false,
    "editable": false
   },
   "outputs": [
    {
     "data": {
      "text/html": [
       "<p><strong><pre style='display: inline;'>q2a</pre></strong> passed!</p>"
      ],
      "text/plain": [
       "q2a results: All test cases passed!"
      ]
     },
     "execution_count": 121,
     "metadata": {},
     "output_type": "execute_result"
    }
   ],
   "source": [
    "grader.check(\"q2a\")"
   ]
  },
  {
   "cell_type": "markdown",
   "id": "145d6226",
   "metadata": {},
   "source": [
    "## Part (b)\n",
    "\n",
    "Write a function called `pop_mean_stddev` that takes a DataFrame with two columns, `id` and `value`,\n",
    "and returns a data-frame where each row indicates mean and standard deviation of `value` for a particular value of `id`.\n",
    "\n",
    "The resulting DataFrame should have three columns (`id`, `mean` and `stddev`) and should be sorted in ascending order by `id`."
   ]
  },
  {
   "cell_type": "code",
   "execution_count": 466,
   "id": "a1644a93",
   "metadata": {
    "tags": []
   },
   "outputs": [],
   "source": [
    "def pop_mean_stddev(pop_df):\n",
    "    newdf = pop_df.groupBy('id').agg(\n",
    "    F.mean('value').alias('mean'),\n",
    "    F.stddev_samp('value').alias('stddev')\n",
    "    ).sort('id')\n",
    "    \n",
    "    return newdf"
   ]
  },
  {
   "cell_type": "code",
   "execution_count": 467,
   "id": "8941cfb5-6225-4bf8-83ec-1ad673d7b6b6",
   "metadata": {},
   "outputs": [
    {
     "name": "stdout",
     "output_type": "stream",
     "text": [
      "+---+----+------+\n",
      "| id|mean|stddev|\n",
      "+---+----+------+\n",
      "|  1| 2.0|   1.0|\n",
      "|  2| 0.0|   2.0|\n",
      "|  3|10.0|   0.0|\n",
      "+---+----+------+\n",
      "\n"
     ]
    }
   ],
   "source": [
    "pop_mean_stddev(df).show()"
   ]
  },
  {
   "cell_type": "code",
   "execution_count": 468,
   "id": "0e2150f7",
   "metadata": {
    "deletable": false,
    "editable": false
   },
   "outputs": [
    {
     "data": {
      "text/html": [
       "<p><strong><pre style='display: inline;'>q2b</pre></strong> passed!</p>"
      ],
      "text/plain": [
       "q2b results: All test cases passed!"
      ]
     },
     "execution_count": 468,
     "metadata": {},
     "output_type": "execute_result"
    }
   ],
   "source": [
    "grader.check(\"q2b\")"
   ]
  },
  {
   "cell_type": "markdown",
   "id": "a2d82fee",
   "metadata": {},
   "source": [
    "# Problem 3"
   ]
  },
  {
   "cell_type": "markdown",
   "id": "edaf168b",
   "metadata": {},
   "source": [
    "Recall the `fb.txt.gz` text file. You are given a PySpark Dataframe `fb_df` with one column called \"value\", which is a string. The first number is the user id, and the following number are their friends."
   ]
  },
  {
   "cell_type": "code",
   "execution_count": 218,
   "id": "626cdb62",
   "metadata": {},
   "outputs": [
    {
     "data": {
      "text/plain": [
       "[Row(value='0 1 2 3 4 5 6 7 8 9 10 11 12 13 14 15 16 17 18 19 20 21 22 23 24 25 26 27 28 29 30 31 32 33 34 35 36 37 38 39 40 41 42 43 44 45 46 47 48 49 50 51 52 53 54 55 56 57 58 59 60 61 62 63 64 65 66 67 68 69 70 71 72 73 74 75 76 77 78 79 80 81 82 83 84 85 86 87 88 89 90 91 92 93 94 95 96 97 98 99 100 101 102 103 104 105 106 107 108 109 110 111 112 113 114 115 116 117 118 119 120 121 122 123 124 125 126 127 128 129 130 131 132 133 134 135 136 137 138 139 140 141 142 143 144 145 146 147 148 149 150 151 152 153 154 155 156 157 158 159 160 161 162 163 164 165 166 167 168 169 170 171 172 173 174 175 176 177 178 179 180 181 182 183 184 185 186 187 188 189 190 191 192 193 194 195 196 197 198 199 200 201 202 203 204 205 206 207 208 209 210 211 212 213 214 215 216 217 218 219 220 221 222 223 224 225 226 227 228 229 230 231 232 233 234 235 236 237 238 239 240 241 242 243 244 245 246 247 248 249 250 251 252 253 254 255 256 257 258 259 260 261 262 263 264 265 266 267 268 269 270 271 272 273 274 275 276 277 278 279 280 281 282 283 284 285 286 287 288 289 290 291 292 293 294 295 296 297 298 299 300 301 302 303 304 305 306 307 308 309 310 311 312 313 314 315 316 317 318 319 320 321 322 323 324 325 326 327 328 329 330 331 332 333 334 335 336 337 338 339 340 341 342 343 344 345 346 347'),\n",
       " Row(value='1 48 53 54 73 88 92 119 126 133 194 236 280 299 315 322 346'),\n",
       " Row(value='2 20 115 116 149 226 312 326 333 343'),\n",
       " Row(value='3 9 25 26 67 72 85 122 142 170 188 200 228 274 280 283 323'),\n",
       " Row(value='4 78 152 181 195 218 273 275 306 328')]"
      ]
     },
     "execution_count": 218,
     "metadata": {},
     "output_type": "execute_result"
    }
   ],
   "source": [
    "import pyspark.sql.functions as F\n",
    "fb_df = spark.read.text(\"fb.txt.gz\")\n",
    "fb_df.take(5)"
   ]
  },
  {
   "cell_type": "markdown",
   "id": "8368233e",
   "metadata": {},
   "source": [
    "## Part (a)"
   ]
  },
  {
   "cell_type": "markdown",
   "id": "08c175aa",
   "metadata": {},
   "source": [
    "Write a function called parse_friends which transforms `fb_df` into a PySpark dataframe with two columns:\n",
    " - `id`: String indicating the friend\n",
    " - `friends`: An array column where each entry is the friends of `id` whose ids come after `id`.\n",
    " \n",
    "\n",
    "```\n",
    ">>> friends = parse_friends(fb_df)\n",
    ">>> friends.take(2)\n",
    "[Row(id='0', friends=['1', '2', '3', '4', '5', '6', '7', '8', '9', '10', '11', '12', '13', '14', '15', '16', '17', '18', '19', '20', '21', '22', '23', '24', '25', '26', '27', '28', '29', '30', '31', '32', '33', '34', '35', '36', '37', '38', '39', '40', '41', '42', '43', '44', '45', '46', '47', '48', '49', '50', '51', '52', '53', '54', '55', '56', '57', '58', '59', '60', '61', '62', '63', '64', '65', '66', '67', '68', '69', '70', '71', '72', '73', '74', '75', '76', '77', '78', '79', '80', '81', '82', '83', '84', '85', '86', '87', '88', '89', '90', '91', '92', '93', '94', '95', '96', '97', '98', '99', '100', '101', '102', '103', '104', '105', '106', '107', '108', '109', '110', '111', '112', '113', '114', '115', '116', '117', '118', '119', '120', '121', '122', '123', '124', '125', '126', '127', '128', '129', '130', '131', '132', '133', '134', '135', '136', '137', '138', '139', '140', '141', '142', '143', '144', '145', '146', '147', '148', '149', '150', '151', '152', '153', '154', '155', '156', '157', '158', '159', '160', '161', '162', '163', '164', '165', '166', '167', '168', '169', '170', '171', '172', '173', '174', '175', '176', '177', '178', '179', '180', '181', '182', '183', '184', '185', '186', '187', '188', '189', '190', '191', '192', '193', '194', '195', '196', '197', '198', '199', '200', '201', '202', '203', '204', '205', '206', '207', '208', '209', '210', '211', '212', '213', '214', '215', '216', '217', '218', '219', '220', '221', '222', '223', '224', '225', '226', '227', '228', '229', '230', '231', '232', '233', '234', '235', '236', '237', '238', '239', '240', '241', '242', '243', '244', '245', '246', '247', '248', '249', '250', '251', '252', '253', '254', '255', '256', '257', '258', '259', '260', '261', '262', '263', '264', '265', '266', '267', '268', '269', '270', '271', '272', '273', '274', '275', '276', '277', '278', '279', '280', '281', '282', '283', '284', '285', '286', '287', '288', '289', '290', '291', '292', '293', '294', '295', '296', '297', '298', '299', '300', '301', '302', '303', '304', '305', '306', '307', '308', '309', '310', '311', '312', '313', '314', '315', '316', '317', '318', '319', '320', '321', '322', '323', '324', '325', '326', '327', '328', '329', '330', '331', '332', '333', '334', '335', '336', '337', '338', '339', '340', '341', '342', '343', '344', '345', '346', '347']),\n",
    " Row(id='1', friends=['48', '53', '54', '73', '88', '92', '119', '126', '133', '194', '236', '280', '299', '315', '322', '346'])]\n",
    " ```\n",
    " `"
   ]
  },
  {
   "cell_type": "code",
   "execution_count": 606,
   "id": "e2885088",
   "metadata": {
    "tags": []
   },
   "outputs": [],
   "source": [
    "def parse_friends(fb_df):\n",
    "    df = fb_df.selectExpr(\"split(value, ' ') as value\")\n",
    "    df=df.withColumn('id', F.expr(\"slice(value, 1, 1)[0]\"))\n",
    "    df=df.withColumn('friends', F.expr(\"slice(value, 2, size(value))\"))\n",
    "    df = df.drop('value')\n",
    "    return df"
   ]
  },
  {
   "cell_type": "code",
   "execution_count": 607,
   "id": "8454ef86-07e6-4c29-90e3-0d9a805783c2",
   "metadata": {},
   "outputs": [
    {
     "name": "stdout",
     "output_type": "stream",
     "text": [
      "+---+--------------------+\n",
      "| id|             friends|\n",
      "+---+--------------------+\n",
      "|  0|[1, 2, 3, 4, 5, 6...|\n",
      "|  1|[48, 53, 54, 73, ...|\n",
      "|  2|[20, 115, 116, 14...|\n",
      "|  3|[9, 25, 26, 67, 7...|\n",
      "|  4|[78, 152, 181, 19...|\n",
      "|  5|[87, 122, 156, 15...|\n",
      "|  6|[89, 95, 147, 219...|\n",
      "|  7|[22, 31, 38, 65, ...|\n",
      "|  8|[91, 110, 193, 20...|\n",
      "|  9|[21, 25, 26, 30, ...|\n",
      "| 10|[67, 142, 169, 20...|\n",
      "| 13|[21, 26, 56, 59, ...|\n",
      "| 14|[20, 28, 41, 115,...|\n",
      "| 16|[29, 82, 118, 172...|\n",
      "| 17|[19, 41, 111, 115...|\n",
      "| 19|[41, 89, 112, 115...|\n",
      "| 20|[41, 44, 111, 115...|\n",
      "| 21|[25, 26, 31, 39, ...|\n",
      "| 22|[87, 158, 168, 18...|\n",
      "| 23|[51, 61, 83, 99, ...|\n",
      "+---+--------------------+\n",
      "only showing top 20 rows\n",
      "\n"
     ]
    }
   ],
   "source": [
    "parse_friends(fb_df).show()"
   ]
  },
  {
   "cell_type": "code",
   "execution_count": 608,
   "id": "9580a367",
   "metadata": {
    "deletable": false,
    "editable": false
   },
   "outputs": [
    {
     "data": {
      "text/html": [
       "<p><strong><pre style='display: inline;'>q3a</pre></strong> passed!</p>"
      ],
      "text/plain": [
       "q3a results: All test cases passed!"
      ]
     },
     "execution_count": 608,
     "metadata": {},
     "output_type": "execute_result"
    }
   ],
   "source": [
    "grader.check(\"q3a\")"
   ]
  },
  {
   "cell_type": "markdown",
   "id": "4c981005",
   "metadata": {},
   "source": [
    "## Part (b)"
   ]
  },
  {
   "cell_type": "markdown",
   "id": "92eb655b",
   "metadata": {},
   "source": [
    "Write a function called `get_friend_pairs(fb_df)` which finds all pairs of friends in `fb_df`."
   ]
  },
  {
   "cell_type": "code",
   "execution_count": 638,
   "id": "20affdf7",
   "metadata": {
    "tags": []
   },
   "outputs": [],
   "source": [
    "def get_friend_pairs(fb_df):\n",
    "    spark_df = parse_friends(fb_df)\n",
    "    df = spark_df.select((spark_df.id).alias('friend1'),(F.explode(spark_df.friends)).alias('friend2'))\n",
    "    return df"
   ]
  },
  {
   "cell_type": "code",
   "execution_count": 639,
   "id": "c7a60c9a-69ee-4731-88ca-52172fe1c46f",
   "metadata": {},
   "outputs": [
    {
     "name": "stdout",
     "output_type": "stream",
     "text": [
      "+-------+-------+\n",
      "|friend1|friend2|\n",
      "+-------+-------+\n",
      "|      0|      1|\n",
      "|      0|      2|\n",
      "|      0|      3|\n",
      "|      0|      4|\n",
      "|      0|      5|\n",
      "|      0|      6|\n",
      "|      0|      7|\n",
      "|      0|      8|\n",
      "|      0|      9|\n",
      "|      0|     10|\n",
      "|      0|     11|\n",
      "|      0|     12|\n",
      "|      0|     13|\n",
      "|      0|     14|\n",
      "|      0|     15|\n",
      "|      0|     16|\n",
      "|      0|     17|\n",
      "|      0|     18|\n",
      "|      0|     19|\n",
      "|      0|     20|\n",
      "+-------+-------+\n",
      "only showing top 20 rows\n",
      "\n"
     ]
    }
   ],
   "source": [
    "get_friend_pairs(fb_df).show()"
   ]
  },
  {
   "cell_type": "code",
   "execution_count": 611,
   "id": "9f544fae",
   "metadata": {
    "deletable": false,
    "editable": false
   },
   "outputs": [
    {
     "data": {
      "text/html": [
       "<p><strong><pre style='display: inline;'>q3b</pre></strong> passed!</p>"
      ],
      "text/plain": [
       "q3b results: All test cases passed!"
      ]
     },
     "execution_count": 611,
     "metadata": {},
     "output_type": "execute_result"
    }
   ],
   "source": [
    "grader.check(\"q3b\")"
   ]
  },
  {
   "cell_type": "markdown",
   "id": "a2af91a7",
   "metadata": {},
   "source": [
    "## Part (c)\n",
    "Write a function called `find_triangles(fb_df)` which finds the number of triangles in `fb_df`.\n",
    "\n",
    "```\n",
    ">>> find_triangles(fb_df).take(6)\n",
    "[Row(friend1='0', friend2='1', friend3='48'),\n",
    " Row(friend1='0', friend2='1', friend3='53'),\n",
    " Row(friend1='0', friend2='1', friend3='54'),\n",
    " Row(friend1='0', friend2='1', friend3='73'),\n",
    " Row(friend1='0', friend2='1', friend3='88'),\n",
    " Row(friend1='0', friend2='1', friend3='92')]\n",
    "```"
   ]
  },
  {
   "cell_type": "code",
   "execution_count": 727,
   "id": "7ce458d3",
   "metadata": {},
   "outputs": [],
   "source": [
    "def find_triangles(fb_df):\n",
    "    three_a = parse_friends(fb_df)\n",
    "    three_b = get_friend_pairs(fb_df)\n",
    "\n",
    "    # Merge the dataframes, first on friend1, then on friend2\n",
    "    merged_df = three_b.join(three_a, (three_b.friend2 == three_a.id)) #& (three_b.friend2 == three_a.id) , try id on friend2\n",
    "    merged_df = merged_df.withColumnRenamed(\"friends\", \"friends_2\")\n",
    "    merged_df = merged_df.withColumnRenamed(\"id\", \"id_\")\n",
    "    merged_df = merged_df.join(three_a, (merged_df.friend1 == three_a.id))\n",
    "    \n",
    "    # Get common_friends for \n",
    "    common_friends = merged_df.select(merged_df.friend1,merged_df.friend2,F.array_intersect(merged_df.friends_2, merged_df.friends).alias('common_friends'))\n",
    "\n",
    "    explode = common_friends.select(common_friends.friend1,common_friends.friend2,(F.explode(common_friends.common_friends)).alias('friend3'))\n",
    "    return explode\n",
    "    ..."
   ]
  },
  {
   "cell_type": "code",
   "execution_count": 728,
   "id": "6c330e52-fdf8-4833-b701-75b53ecb0b19",
   "metadata": {},
   "outputs": [
    {
     "name": "stdout",
     "output_type": "stream",
     "text": [
      "+-------+-------+-------+\n",
      "|friend1|friend2|friend3|\n",
      "+-------+-------+-------+\n",
      "|      0|      1|     48|\n",
      "|      0|      1|     53|\n",
      "|      0|      1|     54|\n",
      "|      0|      1|     73|\n",
      "|      0|      1|     88|\n",
      "|      0|      1|     92|\n",
      "|      0|      1|    119|\n",
      "|      0|      1|    126|\n",
      "|      0|      1|    133|\n",
      "|      0|      1|    194|\n",
      "|      0|      1|    236|\n",
      "|      0|      1|    280|\n",
      "|      0|      1|    299|\n",
      "|      0|      1|    315|\n",
      "|      0|      1|    322|\n",
      "|      0|      1|    346|\n",
      "|      0|      2|     20|\n",
      "|      0|      2|    115|\n",
      "|      0|      2|    116|\n",
      "|      0|      2|    149|\n",
      "+-------+-------+-------+\n",
      "only showing top 20 rows\n",
      "\n"
     ]
    }
   ],
   "source": [
    "find_triangles(fb_df).show()"
   ]
  },
  {
   "cell_type": "code",
   "execution_count": 729,
   "id": "99a8f1c9",
   "metadata": {
    "deletable": false,
    "editable": false
   },
   "outputs": [
    {
     "data": {
      "text/html": [
       "<p><strong><pre style='display: inline;'>q3c</pre></strong> passed!</p>"
      ],
      "text/plain": [
       "q3c results: All test cases passed!"
      ]
     },
     "execution_count": 729,
     "metadata": {},
     "output_type": "execute_result"
    }
   ],
   "source": [
    "grader.check(\"q3c\")"
   ]
  },
  {
   "cell_type": "markdown",
   "id": "17a4dfbd",
   "metadata": {
    "deletable": false,
    "editable": false
   },
   "source": [
    "---\n",
    "\n",
    "To double-check your work, the cell below will rerun all of the autograder tests."
   ]
  },
  {
   "cell_type": "code",
   "execution_count": null,
   "id": "d2ac3397",
   "metadata": {
    "deletable": false,
    "editable": false
   },
   "outputs": [],
   "source": [
    "grader.check_all()"
   ]
  },
  {
   "cell_type": "markdown",
   "id": "95c83208",
   "metadata": {
    "deletable": false,
    "editable": false
   },
   "source": [
    "## Submission\n",
    "\n",
    "Make sure you have run all cells in your notebook in order before running the cell below, so that all images/graphs appear in the output. The cell below will generate a zip file for you to submit. **Please save before exporting!**\n",
    "\n",
    "Upload this .zip file to Gradescope for grading."
   ]
  },
  {
   "cell_type": "code",
   "execution_count": null,
   "id": "5876f875",
   "metadata": {
    "deletable": false,
    "editable": false
   },
   "outputs": [],
   "source": [
    "# Save your notebook first, then run this cell to export your submission.\n",
    "grader.export(pdf=False)"
   ]
  },
  {
   "cell_type": "markdown",
   "id": "5273a6e4",
   "metadata": {},
   "source": [
    " "
   ]
  }
 ],
 "metadata": {
  "kernelspec": {
   "display_name": "Python 3 (ipykernel)",
   "language": "python",
   "name": "python3"
  },
  "language_info": {
   "codemirror_mode": {
    "name": "ipython",
    "version": 3
   },
   "file_extension": ".py",
   "mimetype": "text/x-python",
   "name": "python",
   "nbconvert_exporter": "python",
   "pygments_lexer": "ipython3",
   "version": "3.9.7"
  },
  "otter": {
   "tests": {
    "q1a": {
     "name": "q1a",
     "points": 3,
     "suites": [
      {
       "cases": [
        {
         "code": ">>> simple_counts_per_line_rdd = count_words_per_line(simple_text_rdd)\n>>> assert isinstance(simple_counts_per_line_rdd, pyspark.RDD)\n>>> simple_counts_per_line = simple_counts_per_line_rdd.collect()\n>>> assert isinstance(simple_counts_per_line[0], Counter)\n",
         "hidden": false,
         "locked": false
        }
       ],
       "scored": true,
       "setup": "",
       "teardown": "",
       "type": "doctest"
      }
     ]
    },
    "q1b": {
     "name": "q1b",
     "points": 2,
     "suites": [
      {
       "cases": [
        {
         "code": ">>> word_count = count_words(simple_text_rdd)\n>>> assert isinstance(word_count, Counter)\n>>> assert word_count['cheese'] == 1\n",
         "hidden": false,
         "locked": false
        }
       ],
       "scored": true,
       "setup": "",
       "teardown": "",
       "type": "doctest"
      }
     ]
    },
    "q1c": {
     "name": "q1c",
     "points": 2,
     "suites": [
      {
       "cases": [
        {
         "code": ">>> assert isinstance(counter_to_rdd(darwin_word_count), pyspark.RDD)\n",
         "hidden": false,
         "locked": false
        }
       ],
       "scored": true,
       "setup": "",
       "teardown": "",
       "type": "doctest"
      }
     ]
    },
    "q2a": {
     "name": "q2a",
     "points": 2,
     "suites": [
      {
       "cases": [
        {
         "code": ">>> pop_df = read_population_df(\"populations_small.txt\")\n>>> assert isinstance(pop_df, pyspark.sql.DataFrame)\n",
         "hidden": false,
         "locked": false
        }
       ],
       "scored": true,
       "setup": "",
       "teardown": "",
       "type": "doctest"
      }
     ]
    },
    "q2b": {
     "name": "q2b",
     "points": 2,
     "suites": [
      {
       "cases": [
        {
         "code": ">>> from pyspark.sql import Row\n>>> pop_df = read_population_df(\"populations_small.txt\")\n>>> assert pop_mean_stddev(pop_df).collect() == [Row(id=1, mean=2.0, stddev=1.0), Row(id=2, mean=0.0, stddev=2.0),Row(id=3, mean=10.0, stddev=0.0)]\n",
         "hidden": false,
         "locked": false
        }
       ],
       "scored": true,
       "setup": "",
       "teardown": "",
       "type": "doctest"
      }
     ]
    },
    "q3a": {
     "name": "q3a",
     "points": 2,
     "suites": [
      {
       "cases": [
        {
         "code": ">>> friends_df = parse_friends(fb_df)\n>>> assert isinstance(friends_df, pyspark.sql.DataFrame)\n",
         "hidden": false,
         "locked": false
        }
       ],
       "scored": true,
       "setup": "",
       "teardown": "",
       "type": "doctest"
      }
     ]
    },
    "q3b": {
     "name": "q3b",
     "points": 2,
     "suites": [
      {
       "cases": [
        {
         "code": ">>> from pyspark.sql import Row\n>>> friend_pairs = get_friend_pairs(fb_df)\n>>> assert friend_pairs.count() == 88234\n>>> assert friend_pairs.tail(5) == [Row(friend1='4026', friend2='4030'),Row(friend1='4027', friend2='4031'),Row(friend1='4027', friend2='4032'),Row(friend1='4027', friend2='4038'),Row(friend1='4031', friend2='4038')]\n",
         "hidden": false,
         "locked": false
        }
       ],
       "scored": true,
       "setup": "",
       "teardown": "",
       "type": "doctest"
      }
     ]
    },
    "q3c": {
     "name": "q3c",
     "points": 2,
     "suites": [
      {
       "cases": [
        {
         "code": ">>> triangles = find_triangles(fb_df)\n>>> assert triangles.take(1)[0] == pyspark.sql.types.Row(friend1='0', friend2='1', friend3='48')\n>>> assert triangles.filter(F.col(\"friend1\") == \"7\").filter(F.col(\"friend2\") == \"103\").collect() == [pyspark.sql.types.Row(friend1='7', friend2='103', friend3='136'), pyspark.sql.types.Row(friend1='7', friend2='103', friend3='339')]\n",
         "hidden": false,
         "locked": false
        }
       ],
       "scored": true,
       "setup": "",
       "teardown": "",
       "type": "doctest"
      }
     ]
    }
   }
  }
 },
 "nbformat": 4,
 "nbformat_minor": 5
}
